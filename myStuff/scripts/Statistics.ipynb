{
 "cells": [
  {
   "cell_type": "code",
   "execution_count": 1,
   "metadata": {},
   "outputs": [],
   "source": [
    "import pandas as pd\n",
    "import numpy as np\n",
    "import matplotlib.pyplot as plt\n",
    "%matplotlib inline  \n",
    "from pprint import pprint\n",
    "import re\n",
    "import json\n",
    "import gzip\n",
    "class LTEParser:\n",
    "    _mapa = {\n",
    "        \"B\": \"#Bearer\",\n",
    "        \"T\": \"TimeStamp\",\n",
    "        \"TX\": \"Transmission\",\n",
    "        \"RX\": \"Receiver\",\n",
    "        \"D\": \"Delay\",\n",
    "        \"ID\": \"#Packet\",\n",
    "        \"DST\": \"Destiny\",\n",
    "        \"SRC\": \"Source\",\n",
    "        \"SIZE\": \"Size\"\n",
    "    }\n",
    "    @staticmethod\n",
    "    def parse(inFile, flowDuration = 100):\n",
    "        #VIDEO\n",
    "        videoAverages = []\n",
    "        videoFairness = []\n",
    "        videoDelay = []\n",
    "        videoJitter = []\n",
    "        videoPLR = []\n",
    "        #VOICE\n",
    "        voiceAverages = []\n",
    "        voiceFairness = []\n",
    "        voiceDelay = []\n",
    "        voiceJitter = []\n",
    "        voicePLR = []\n",
    "        #INFBUF\n",
    "        infBufAverages = []\n",
    "        infBufFairness = []\n",
    "        infBufDelay = []\n",
    "        infBufJitter = []\n",
    "        infBufPLR = []\n",
    "        #GERAL\n",
    "        packetLoss = []\n",
    "        for sfile in inFile:\n",
    "            content = \"\"\n",
    "            print(\"Opening file: \" + sfile)\n",
    "            with gzip.open(sfile, 'rb') as file:\n",
    "                content = file.read()\n",
    "                content = content.decode('utf-8')\n",
    "            print(\"Parsing file ...\", end=\"\")\n",
    "            txContent, rxContent = LTEParser._parse(content)\n",
    "            info = LTEParser.getFairnessIndex(rxContent, flowDuration)\n",
    "            packetLossInfo = LTEParser.getPacketLossRatio(txContent, rxContent)\n",
    "            delayInfo = LTEParser.getDelayJitter(rxContent)\n",
    "            #VIDEO\n",
    "            videoAverages.append(info['VIDEO']['Average'])\n",
    "            videoFairness.append(info['VIDEO']['FairnessIndex'])\n",
    "            videoDelay.append(delayInfo['VIDEO']['Average'])\n",
    "            videoJitter.append(delayInfo['VIDEO']['StD'])\n",
    "            videoPLR.append(packetLossInfo[1]['VIDEO'])\n",
    "            #VOICE\n",
    "            voiceAverages.append(info['VOIP']['Average'])\n",
    "            voiceFairness.append(info['VOIP']['FairnessIndex'])\n",
    "            voiceDelay.append(delayInfo['VOIP']['Average'])\n",
    "            voiceJitter.append(delayInfo['VOIP']['StD'])\n",
    "            voicePLR.append(packetLossInfo[1]['VOIP'])\n",
    "            #INFBUF\n",
    "            infBufAverages.append(info['INF_BUF']['Average'])\n",
    "            infBufFairness.append(info['INF_BUF']['FairnessIndex'])\n",
    "            infBufDelay.append(delayInfo['INF_BUF']['Average'])\n",
    "            infBufJitter.append(delayInfo['INF_BUF']['StD'])\n",
    "            infBufPLR.append(packetLossInfo[1]['INF_BUF'])\n",
    "            #GERAL\n",
    "            packetLoss.append(packetLossInfo[0])\n",
    "        return [#VIDEO\n",
    "                (sum(videoAverages)/len(videoAverages)),\n",
    "                (sum(videoFairness)/len(videoFairness)),\n",
    "                (sum(videoDelay)/len(videoDelay)),\n",
    "                (sum(videoJitter)/len(videoJitter)),\n",
    "                (sum(videoPLR)/len(videoPLR)),\n",
    "                #VOICE\n",
    "                (sum(voiceAverages)/len(voiceAverages)),\n",
    "                (sum(voiceFairness)/len(voiceFairness)),\n",
    "                (sum(voiceDelay)/len(voiceDelay)),\n",
    "                (sum(voiceJitter)/len(voiceJitter)),\n",
    "                (sum(voicePLR)/len(voicePLR)),\n",
    "                #INFBUF\n",
    "                (sum(infBufAverages)/len(infBufAverages)),\n",
    "                (sum(infBufFairness)/len(infBufFairness)),\n",
    "                (sum(infBufDelay)/len(infBufDelay)),\n",
    "                (sum(infBufJitter)/len(infBufJitter)),\n",
    "                (sum(infBufPLR)/len(infBufPLR)),\n",
    "                #GERAL\n",
    "                packetLoss]\n",
    "    @staticmethod\n",
    "    def _parse(content):\n",
    "        txContent = LTEParser.parseTX(content)\n",
    "        rxContent = LTEParser.parseRX(content)\n",
    "        print(\"Done\")\n",
    "        return txContent, rxContent\n",
    "    \n",
    "    @staticmethod\n",
    "    def parseTX(content):\n",
    "        matches = re.findall(r\"(^TX.+)\", content, re.MULTILINE)\n",
    "        if(matches == []):\n",
    "            raise Exception(\"No matches in content for TX\")\n",
    "        dictPacketType = {\"CBR\": [], \"VOIP\": [], \"VIDEO\": [], \"INF_BUF\": [], \"WEB\": []}\n",
    "        keys = dictPacketType.keys()\n",
    "        for match in matches:\n",
    "            values = match.split(' ')\n",
    "            if values[1] in keys:\n",
    "                tamanho = len(values)\n",
    "                dic = {}\n",
    "                for i in range(2, tamanho if tamanho%2==0 else tamanho-1, 2):\n",
    "                    dic[LTEParser._mapa[values[i]]] = values[i+1]\n",
    "                dic = dict(sorted(dic.items(), key=lambda x: x[0]))\n",
    "                dictPacketType[values[1]].append(dic)\n",
    "        return json.loads(json.dumps(dictPacketType))\n",
    "        \n",
    "    @staticmethod        \n",
    "    def parseRX(content):\n",
    "        matches = re.findall(r\"(^RX.+)\", content, re.MULTILINE)\n",
    "        if(matches == []):\n",
    "            raise Exception(\"No matches in content for RX\")\n",
    "        dictPacketType = {\"CBR\": [], \"VOIP\": [], \"VIDEO\": [], \"INF_BUF\": [], \"WEB\": []}\n",
    "        keys = dictPacketType.keys()\n",
    "        for match in matches:\n",
    "            values = match.split(' ')\n",
    "            if values[1] in keys:\n",
    "                tamanho = len(values)\n",
    "                dic = {}\n",
    "                for i in range(2, tamanho if tamanho%2==0 else tamanho-1, 2):\n",
    "                    dic[LTEParser._mapa[values[i]]] = values[i+1]\n",
    "                dic = dict(sorted(dic.items(), key=lambda x: x[0]))\n",
    "                dictPacketType[values[1]].append(dic)\n",
    "        return json.loads(json.dumps(dictPacketType))\n",
    "    \n",
    "    @staticmethod\n",
    "    def getPacketLossRatio(txContent, rxContent):\n",
    "        dictPacketType = {\"CBR\": [], \"VOIP\": [], \"VIDEO\": [], \"INF_BUF\": [], \"WEB\": []}\n",
    "        tx_pkts = 0\n",
    "        rx_pkts = 0\n",
    "        for key in txContent:\n",
    "            keytx = len(txContent[key])\n",
    "            tx_pkts += keytx\n",
    "            keyrx = len(rxContent[key])\n",
    "            rx_pkts += keyrx\n",
    "            keyPLR = ((keytx - keyrx) / (keytx if keytx != 0 else 1)) * 100\n",
    "            dictPacketType[key] = keyPLR\n",
    "        plr = ((tx_pkts - rx_pkts) / tx_pkts) * 100\n",
    "        return plr, dictPacketType\n",
    "    \n",
    "    @staticmethod\n",
    "    def getDelayJitter(rxContent):\n",
    "        delayPerApp = {}\n",
    "        for app in rxContent:\n",
    "            delayPerApp[app] = {\"Sum\": 0, \"Average\": 0, \"StD\": 0}\n",
    "            delayPerApp[app][\"Sum\"] = sum(float(item[\"Delay\"]) for item in rxContent[app])\n",
    "            tamanho = len(rxContent[app])\n",
    "            delayPerApp[app][\"Average\"] = delayPerApp[app][\"Sum\"]/tamanho if tamanho != 0 else 0\n",
    "            delayPerApp[app][\"StD\"] = sum((float(item[\"Delay\"]) - delayPerApp[app][\"Average\"])**2 for item in rxContent[app])/ (tamanho - 1) if tamanho != 0 else 0\n",
    "        return delayPerApp\n",
    "    \n",
    "    @staticmethod\n",
    "    def getGoodput(rxContent, flowDuration):\n",
    "        gputPerApp = {}\n",
    "        for app in rxContent:\n",
    "            gputPerApp[app] = {\"Sum\": 0, \"Average\": 0}\n",
    "            gputPerApp[app][\"Sum\"] = sum(float(item[\"Size\"])*8 for item in rxContent[app])\n",
    "            gputPerApp[app][\"Average\"] = (gputPerApp[app][\"Sum\"])/flowDuration\n",
    "        return gputPerApp\n",
    "    \n",
    "    @staticmethod\n",
    "    def getThroughput(rxContent, flowDuration):\n",
    "        tputPerApp = {}\n",
    "        for app in rxContent:\n",
    "            tputPerApp[app] = {\"Sum\": 0, \"Average\": 0}\n",
    "            tputPerApp[app][\"Sum\"] = sum((float(item[\"Size\"]) + 5)*8 for item in rxContent[app])\n",
    "            tputPerApp[app][\"Average\"] = (tputPerApp[app][\"Sum\"])/flowDuration\n",
    "        return tputPerApp\n",
    "    \n",
    "    @staticmethod\n",
    "    def getSpectralEff():\n",
    "        pass\n",
    "    \n",
    "    @staticmethod\n",
    "    def getFairnessIndex(rxContent, flowDuration):\n",
    "        fairnessPerApp = {}\n",
    "        for app in rxContent:\n",
    "            fairnessPerApp[app] = {\"Sum\": 0, \"Average\": 0, \"SumSquared\": 0, \"SquaredSum\": 0, \"FairnessIndex\": 0}\n",
    "            if(len(rxContent[app]) > 0):\n",
    "                fairnessPerApp[app][\"Sum\"] = sum(float(item[\"Size\"])*8 for item in rxContent[app])\n",
    "                fairnessPerApp[app][\"Average\"] = (fairnessPerApp[app][\"Sum\"])/flowDuration\n",
    "                fairnessPerApp[app][\"SumSquared\"] = sum(pow(float(item[\"Size\"])*8,2) for item in rxContent[app])\n",
    "                fairnessPerApp[app][\"SquaredSum\"] = pow(fairnessPerApp[app][\"Sum\"], 2)\n",
    "                division = (len(rxContent[app]) * fairnessPerApp[app][\"SumSquared\"])\n",
    "                fairnessPerApp[app][\"FairnessIndex\"] = fairnessPerApp[app][\"SquaredSum\"] / division if division > 0 else 1\n",
    "        return fairnessPerApp"
   ]
  },
  {
   "cell_type": "code",
   "execution_count": 2,
   "metadata": {},
   "outputs": [],
   "source": [
    "base = \"../../../Simulations/Percentages.25V3UE50\"\n",
    "ext = \".gz\"\n",
    "until = 4\n",
    "users = 51\n",
    "files = {\n",
    "         1: {\n",
    "                3: {10: [], 20: [], 30: [], 40: [], 50: [], 60: [], 70: [], 80: [], 90: [], 100: []},\n",
    "                30: {10: [], 20: [], 30: [], 40: [], 50: [], 60: [], 70: [], 80: [], 90: [], 100: []},\n",
    "                120: {10: [], 20: [], 30: [], 40: [], 50: [], 60: [], 70: [], 80: [], 90: [], 100: []}\n",
    "            },\n",
    "         2: {\n",
    "                3: {10: [], 20: [], 30: [], 40: [], 50: [], 60: [], 70: [], 80: [], 90: [], 100: []}, \n",
    "                30: {10: [], 20: [], 30: [], 40: [], 50: [], 60: [], 70: [], 80: [], 90: [], 100: []},\n",
    "                120: {10: [], 20: [], 30: [], 40: [], 50: [], 60: [], 70: [], 80: [], 90: [], 100: []}\n",
    "            },\n",
    "         3: {\n",
    "                3: {10: [], 20: [], 30: [], 40: [], 50: [], 60: [], 70: [], 80: [], 90: [], 100: []},\n",
    "                30: {10: [], 20: [], 30: [], 40: [], 50: [], 60: [], 70: [], 80: [], 90: [], 100: []},\n",
    "                120: {10: [], 20: [], 30: [], 40: [], 50: [], 60: [], 70: [], 80: [], 90: [], 100: []}\n",
    "            },\n",
    "         4: {\n",
    "                3: {10: [], 20: [], 30: [], 40: [], 50: [], 60: [], 70: [], 80: [], 90: [], 100: []},\n",
    "                30: {10: [], 20: [], 30: [], 40: [], 50: [], 60: [], 70: [], 80: [], 90: [], 100: []},\n",
    "                120: {10: [], 20: [], 30: [], 40: [], 50: [], 60: [], 70: [], 80: [], 90: [], 100: []}},\n",
    "         5: {\n",
    "                3: {10: [], 20: [], 30: [], 40: [], 50: [], 60: [], 70: [], 80: [], 90: [], 100: []},\n",
    "                30: {10: [], 20: [], 30: [], 40: [], 50: [], 60: [], 70: [], 80: [], 90: [], 100: []},\n",
    "                120: {10: [], 20: [], 30: [], 40: [], 50: [], 60: [], 70: [], 80: [], 90: [], 100: []}\n",
    "             },\n",
    "         6: {\n",
    "                3: {10: [], 20: [], 30: [], 40: [], 50: [], 60: [], 70: [], 80: [], 90: [], 100: []},\n",
    "                30: {10: [], 20: [], 30: [], 40: [], 50: [], 60: [], 70: [], 80: [], 90: [], 100: []},\n",
    "                120: {10: [], 20: [], 30: [], 40: [], 50: [], 60: [], 70: [], 80: [], 90: [], 100: []}\n",
    "             }\n",
    "        }\n",
    "for sched in range(1,7):\n",
    "    for ue in range(10, users, 10):\n",
    "        for vel in [3]:\n",
    "            for count in range(1,until):\n",
    "                file = \"/SCHED_\" + str(sched) + \"_UE_\" + str(ue) + \"_V_\" + str(vel) +\"_D_0.1_\" + str(count)\n",
    "                filename = base + file + ext\n",
    "                files[sched][vel][ue].append(filename)"
   ]
  },
  {
   "cell_type": "code",
   "execution_count": 3,
   "metadata": {},
   "outputs": [
    {
     "name": "stdout",
     "output_type": "stream",
     "text": [
      "Opening file: ../../../Simulations/Percentages.25V3UE50/SCHED_1_UE_10_V_3_D_0.1_1.gz\n",
      "Parsing file ...Done\n",
      "Opening file: ../../../Simulations/Percentages.25V3UE50/SCHED_1_UE_10_V_3_D_0.1_2.gz\n",
      "Parsing file ...Done\n",
      "Opening file: ../../../Simulations/Percentages.25V3UE50/SCHED_1_UE_10_V_3_D_0.1_3.gz\n",
      "Parsing file ...Done\n",
      "Opening file: ../../../Simulations/Percentages.25V3UE50/SCHED_1_UE_20_V_3_D_0.1_1.gz\n",
      "Parsing file ...Done\n",
      "Opening file: ../../../Simulations/Percentages.25V3UE50/SCHED_1_UE_20_V_3_D_0.1_2.gz\n",
      "Parsing file ...Done\n",
      "Opening file: ../../../Simulations/Percentages.25V3UE50/SCHED_1_UE_20_V_3_D_0.1_3.gz\n",
      "Parsing file ...Done\n",
      "Opening file: ../../../Simulations/Percentages.25V3UE50/SCHED_1_UE_30_V_3_D_0.1_1.gz\n",
      "Parsing file ...Done\n",
      "Opening file: ../../../Simulations/Percentages.25V3UE50/SCHED_1_UE_30_V_3_D_0.1_2.gz\n",
      "Parsing file ...Done\n",
      "Opening file: ../../../Simulations/Percentages.25V3UE50/SCHED_1_UE_30_V_3_D_0.1_3.gz\n",
      "Parsing file ...Done\n",
      "Opening file: ../../../Simulations/Percentages.25V3UE50/SCHED_1_UE_40_V_3_D_0.1_1.gz\n",
      "Parsing file ...Done\n",
      "Opening file: ../../../Simulations/Percentages.25V3UE50/SCHED_1_UE_40_V_3_D_0.1_2.gz\n",
      "Parsing file ...Done\n",
      "Opening file: ../../../Simulations/Percentages.25V3UE50/SCHED_1_UE_40_V_3_D_0.1_3.gz\n",
      "Parsing file ...Done\n",
      "Opening file: ../../../Simulations/Percentages.25V3UE50/SCHED_1_UE_50_V_3_D_0.1_1.gz\n",
      "Parsing file ...Done\n",
      "Opening file: ../../../Simulations/Percentages.25V3UE50/SCHED_1_UE_50_V_3_D_0.1_2.gz\n",
      "Parsing file ...Done\n",
      "Opening file: ../../../Simulations/Percentages.25V3UE50/SCHED_1_UE_50_V_3_D_0.1_3.gz\n",
      "Parsing file ...Done\n",
      "Opening file: ../../../Simulations/Percentages.25V3UE50/SCHED_2_UE_10_V_3_D_0.1_1.gz\n",
      "Parsing file ...Done\n",
      "Opening file: ../../../Simulations/Percentages.25V3UE50/SCHED_2_UE_10_V_3_D_0.1_2.gz\n",
      "Parsing file ...Done\n",
      "Opening file: ../../../Simulations/Percentages.25V3UE50/SCHED_2_UE_10_V_3_D_0.1_3.gz\n",
      "Parsing file ...Done\n",
      "Opening file: ../../../Simulations/Percentages.25V3UE50/SCHED_2_UE_20_V_3_D_0.1_1.gz\n",
      "Parsing file ...Done\n",
      "Opening file: ../../../Simulations/Percentages.25V3UE50/SCHED_2_UE_20_V_3_D_0.1_2.gz\n",
      "Parsing file ...Done\n",
      "Opening file: ../../../Simulations/Percentages.25V3UE50/SCHED_2_UE_20_V_3_D_0.1_3.gz\n",
      "Parsing file ...Done\n",
      "Opening file: ../../../Simulations/Percentages.25V3UE50/SCHED_2_UE_30_V_3_D_0.1_1.gz\n",
      "Parsing file ...Done\n",
      "Opening file: ../../../Simulations/Percentages.25V3UE50/SCHED_2_UE_30_V_3_D_0.1_2.gz\n",
      "Parsing file ...Done\n",
      "Opening file: ../../../Simulations/Percentages.25V3UE50/SCHED_2_UE_30_V_3_D_0.1_3.gz\n",
      "Parsing file ...Done\n",
      "Opening file: ../../../Simulations/Percentages.25V3UE50/SCHED_2_UE_40_V_3_D_0.1_1.gz\n",
      "Parsing file ...Done\n",
      "Opening file: ../../../Simulations/Percentages.25V3UE50/SCHED_2_UE_40_V_3_D_0.1_2.gz\n",
      "Parsing file ...Done\n",
      "Opening file: ../../../Simulations/Percentages.25V3UE50/SCHED_2_UE_40_V_3_D_0.1_3.gz\n",
      "Parsing file ...Done\n",
      "Opening file: ../../../Simulations/Percentages.25V3UE50/SCHED_2_UE_50_V_3_D_0.1_1.gz\n",
      "Parsing file ...Done\n",
      "Opening file: ../../../Simulations/Percentages.25V3UE50/SCHED_2_UE_50_V_3_D_0.1_2.gz\n",
      "Parsing file ...Done\n",
      "Opening file: ../../../Simulations/Percentages.25V3UE50/SCHED_2_UE_50_V_3_D_0.1_3.gz\n",
      "Parsing file ...Done\n",
      "Opening file: ../../../Simulations/Percentages.25V3UE50/SCHED_3_UE_10_V_3_D_0.1_1.gz\n",
      "Parsing file ...Done\n",
      "Opening file: ../../../Simulations/Percentages.25V3UE50/SCHED_3_UE_10_V_3_D_0.1_2.gz\n",
      "Parsing file ...Done\n",
      "Opening file: ../../../Simulations/Percentages.25V3UE50/SCHED_3_UE_10_V_3_D_0.1_3.gz\n",
      "Parsing file ...Done\n",
      "Opening file: ../../../Simulations/Percentages.25V3UE50/SCHED_3_UE_20_V_3_D_0.1_1.gz\n",
      "Parsing file ...Done\n",
      "Opening file: ../../../Simulations/Percentages.25V3UE50/SCHED_3_UE_20_V_3_D_0.1_2.gz\n",
      "Parsing file ...Done\n",
      "Opening file: ../../../Simulations/Percentages.25V3UE50/SCHED_3_UE_20_V_3_D_0.1_3.gz\n",
      "Parsing file ...Done\n",
      "Opening file: ../../../Simulations/Percentages.25V3UE50/SCHED_3_UE_30_V_3_D_0.1_1.gz\n",
      "Parsing file ...Done\n",
      "Opening file: ../../../Simulations/Percentages.25V3UE50/SCHED_3_UE_30_V_3_D_0.1_2.gz\n",
      "Parsing file ...Done\n",
      "Opening file: ../../../Simulations/Percentages.25V3UE50/SCHED_3_UE_30_V_3_D_0.1_3.gz\n",
      "Parsing file ...Done\n",
      "Opening file: ../../../Simulations/Percentages.25V3UE50/SCHED_3_UE_40_V_3_D_0.1_1.gz\n",
      "Parsing file ...Done\n",
      "Opening file: ../../../Simulations/Percentages.25V3UE50/SCHED_3_UE_40_V_3_D_0.1_2.gz\n",
      "Parsing file ...Done\n",
      "Opening file: ../../../Simulations/Percentages.25V3UE50/SCHED_3_UE_40_V_3_D_0.1_3.gz\n",
      "Parsing file ...Done\n",
      "Opening file: ../../../Simulations/Percentages.25V3UE50/SCHED_3_UE_50_V_3_D_0.1_1.gz\n",
      "Parsing file ...Done\n",
      "Opening file: ../../../Simulations/Percentages.25V3UE50/SCHED_3_UE_50_V_3_D_0.1_2.gz\n",
      "Parsing file ...Done\n",
      "Opening file: ../../../Simulations/Percentages.25V3UE50/SCHED_3_UE_50_V_3_D_0.1_3.gz\n",
      "Parsing file ...Done\n",
      "Opening file: ../../../Simulations/Percentages.25V3UE50/SCHED_4_UE_10_V_3_D_0.1_1.gz\n",
      "Parsing file ...Done\n",
      "Opening file: ../../../Simulations/Percentages.25V3UE50/SCHED_4_UE_10_V_3_D_0.1_2.gz\n",
      "Parsing file ...Done\n",
      "Opening file: ../../../Simulations/Percentages.25V3UE50/SCHED_4_UE_10_V_3_D_0.1_3.gz\n",
      "Parsing file ...Done\n",
      "Opening file: ../../../Simulations/Percentages.25V3UE50/SCHED_4_UE_20_V_3_D_0.1_1.gz\n",
      "Parsing file ...Done\n",
      "Opening file: ../../../Simulations/Percentages.25V3UE50/SCHED_4_UE_20_V_3_D_0.1_2.gz\n",
      "Parsing file ...Done\n",
      "Opening file: ../../../Simulations/Percentages.25V3UE50/SCHED_4_UE_20_V_3_D_0.1_3.gz\n",
      "Parsing file ...Done\n",
      "Opening file: ../../../Simulations/Percentages.25V3UE50/SCHED_4_UE_30_V_3_D_0.1_1.gz\n",
      "Parsing file ...Done\n",
      "Opening file: ../../../Simulations/Percentages.25V3UE50/SCHED_4_UE_30_V_3_D_0.1_2.gz\n",
      "Parsing file ...Done\n",
      "Opening file: ../../../Simulations/Percentages.25V3UE50/SCHED_4_UE_30_V_3_D_0.1_3.gz\n",
      "Parsing file ...Done\n",
      "Opening file: ../../../Simulations/Percentages.25V3UE50/SCHED_4_UE_40_V_3_D_0.1_1.gz\n",
      "Parsing file ...Done\n",
      "Opening file: ../../../Simulations/Percentages.25V3UE50/SCHED_4_UE_40_V_3_D_0.1_2.gz\n",
      "Parsing file ...Done\n",
      "Opening file: ../../../Simulations/Percentages.25V3UE50/SCHED_4_UE_40_V_3_D_0.1_3.gz\n",
      "Parsing file ...Done\n",
      "Opening file: ../../../Simulations/Percentages.25V3UE50/SCHED_4_UE_50_V_3_D_0.1_1.gz\n",
      "Parsing file ...Done\n",
      "Opening file: ../../../Simulations/Percentages.25V3UE50/SCHED_4_UE_50_V_3_D_0.1_2.gz\n",
      "Parsing file ...Done\n",
      "Opening file: ../../../Simulations/Percentages.25V3UE50/SCHED_4_UE_50_V_3_D_0.1_3.gz\n",
      "Parsing file ...Done\n",
      "Opening file: ../../../Simulations/Percentages.25V3UE50/SCHED_5_UE_10_V_3_D_0.1_1.gz\n",
      "Parsing file ...Done\n",
      "Opening file: ../../../Simulations/Percentages.25V3UE50/SCHED_5_UE_10_V_3_D_0.1_2.gz\n",
      "Parsing file ...Done\n",
      "Opening file: ../../../Simulations/Percentages.25V3UE50/SCHED_5_UE_10_V_3_D_0.1_3.gz\n",
      "Parsing file ...Done\n",
      "Opening file: ../../../Simulations/Percentages.25V3UE50/SCHED_5_UE_20_V_3_D_0.1_1.gz\n",
      "Parsing file ...Done\n",
      "Opening file: ../../../Simulations/Percentages.25V3UE50/SCHED_5_UE_20_V_3_D_0.1_2.gz\n",
      "Parsing file ...Done\n",
      "Opening file: ../../../Simulations/Percentages.25V3UE50/SCHED_5_UE_20_V_3_D_0.1_3.gz\n",
      "Parsing file ...Done\n",
      "Opening file: ../../../Simulations/Percentages.25V3UE50/SCHED_5_UE_30_V_3_D_0.1_1.gz\n",
      "Parsing file ...Done\n",
      "Opening file: ../../../Simulations/Percentages.25V3UE50/SCHED_5_UE_30_V_3_D_0.1_2.gz\n",
      "Parsing file ...Done\n",
      "Opening file: ../../../Simulations/Percentages.25V3UE50/SCHED_5_UE_30_V_3_D_0.1_3.gz\n",
      "Parsing file ...Done\n",
      "Opening file: ../../../Simulations/Percentages.25V3UE50/SCHED_5_UE_40_V_3_D_0.1_1.gz\n",
      "Parsing file ...Done\n",
      "Opening file: ../../../Simulations/Percentages.25V3UE50/SCHED_5_UE_40_V_3_D_0.1_2.gz\n",
      "Parsing file ...Done\n",
      "Opening file: ../../../Simulations/Percentages.25V3UE50/SCHED_5_UE_40_V_3_D_0.1_3.gz\n",
      "Parsing file ...Done\n",
      "Opening file: ../../../Simulations/Percentages.25V3UE50/SCHED_5_UE_50_V_3_D_0.1_1.gz\n",
      "Parsing file ...Done\n",
      "Opening file: ../../../Simulations/Percentages.25V3UE50/SCHED_5_UE_50_V_3_D_0.1_2.gz\n",
      "Parsing file ...Done\n",
      "Opening file: ../../../Simulations/Percentages.25V3UE50/SCHED_5_UE_50_V_3_D_0.1_3.gz\n",
      "Parsing file ...Done\n",
      "Opening file: ../../../Simulations/Percentages.25V3UE50/SCHED_6_UE_10_V_3_D_0.1_1.gz\n",
      "Parsing file ...Done\n",
      "Opening file: ../../../Simulations/Percentages.25V3UE50/SCHED_6_UE_10_V_3_D_0.1_2.gz\n",
      "Parsing file ...Done\n",
      "Opening file: ../../../Simulations/Percentages.25V3UE50/SCHED_6_UE_10_V_3_D_0.1_3.gz\n"
     ]
    },
    {
     "name": "stdout",
     "output_type": "stream",
     "text": [
      "Parsing file ...Done\n",
      "Opening file: ../../../Simulations/Percentages.25V3UE50/SCHED_6_UE_20_V_3_D_0.1_1.gz\n",
      "Parsing file ...Done\n",
      "Opening file: ../../../Simulations/Percentages.25V3UE50/SCHED_6_UE_20_V_3_D_0.1_2.gz\n",
      "Parsing file ...Done\n",
      "Opening file: ../../../Simulations/Percentages.25V3UE50/SCHED_6_UE_20_V_3_D_0.1_3.gz\n",
      "Parsing file ...Done\n",
      "Opening file: ../../../Simulations/Percentages.25V3UE50/SCHED_6_UE_30_V_3_D_0.1_1.gz\n",
      "Parsing file ...Done\n",
      "Opening file: ../../../Simulations/Percentages.25V3UE50/SCHED_6_UE_30_V_3_D_0.1_2.gz\n",
      "Parsing file ...Done\n",
      "Opening file: ../../../Simulations/Percentages.25V3UE50/SCHED_6_UE_30_V_3_D_0.1_3.gz\n",
      "Parsing file ...Done\n",
      "Opening file: ../../../Simulations/Percentages.25V3UE50/SCHED_6_UE_40_V_3_D_0.1_1.gz\n",
      "Parsing file ...Done\n",
      "Opening file: ../../../Simulations/Percentages.25V3UE50/SCHED_6_UE_40_V_3_D_0.1_2.gz\n",
      "Parsing file ...Done\n",
      "Opening file: ../../../Simulations/Percentages.25V3UE50/SCHED_6_UE_40_V_3_D_0.1_3.gz\n",
      "Parsing file ...Done\n",
      "Opening file: ../../../Simulations/Percentages.25V3UE50/SCHED_6_UE_50_V_3_D_0.1_1.gz\n",
      "Parsing file ...Done\n",
      "Opening file: ../../../Simulations/Percentages.25V3UE50/SCHED_6_UE_50_V_3_D_0.1_2.gz\n",
      "Parsing file ...Done\n",
      "Opening file: ../../../Simulations/Percentages.25V3UE50/SCHED_6_UE_50_V_3_D_0.1_3.gz\n",
      "Parsing file ...Done\n"
     ]
    }
   ],
   "source": [
    "#VIDEO\n",
    "GPUTSVIDEO = {1: [], 2: [], 3: [], 4: [], 5: [], 6: []}\n",
    "FAIRVIDEO = {1: [], 2: [], 3: [], 4: [], 5: [], 6: []}\n",
    "DELAYVIDEO = {1: [], 2: [], 3: [], 4: [], 5: [], 6: []}\n",
    "JITTERVIDEO = {1: [], 2: [], 3: [], 4: [], 5: [], 6: []}\n",
    "PLRVIDEO = {1: [], 2: [], 3: [], 4: [], 5: [], 6: []}\n",
    "#VOICE\n",
    "GPUTSVOICE = {1: [], 2: [], 3: [], 4: [], 5: [], 6: []}\n",
    "FAIRVOICE = {1: [], 2: [], 3: [], 4: [], 5: [], 6: []}\n",
    "DELAYVOICE = {1: [], 2: [], 3: [], 4: [], 5: [], 6: []}\n",
    "JITTERVOICE = {1: [], 2: [], 3: [], 4: [], 5: [], 6: []}\n",
    "PLRVOICE = {1: [], 2: [], 3: [], 4: [], 5: [], 6: []}\n",
    "#INFBUF\n",
    "GPUTSINFBUF = {1: [], 2: [], 3: [], 4: [], 5: [], 6: []}\n",
    "FAIRINFBUF = {1: [], 2: [], 3: [], 4: [], 5: [], 6: []}\n",
    "DELAYINFBUF = {1: [], 2: [], 3: [], 4: [], 5: [], 6: []}\n",
    "JITTERINFBUF = {1: [], 2: [], 3: [], 4: [], 5: [], 6: []}\n",
    "PLRINFBUF = {1: [], 2: [], 3: [], 4: [], 5: [], 6: []}\n",
    "#GERAL\n",
    "PACKETLOSS = {1: [], 2: [], 3: [], 4: [], 5: [], 6: []}\n",
    "for sched in GPUTSVIDEO:\n",
    "    for ue in range(10, users, 10):\n",
    "        info = LTEParser.parse(files[sched][3][ue], 100)\n",
    "        #VIDEO\n",
    "        GPUTSVIDEO[sched].append(info[0])\n",
    "        FAIRVIDEO[sched].append(info[1])\n",
    "        DELAYVIDEO[sched].append(info[2])\n",
    "        JITTERVIDEO[sched].append(info[3])\n",
    "        PLRVIDEO[sched].append(info[4])\n",
    "        #VOICE\n",
    "        GPUTSVOICE[sched].append(info[5])\n",
    "        FAIRVOICE[sched].append(info[6])\n",
    "        DELAYVOICE[sched].append(info[7])\n",
    "        JITTERVOICE[sched].append(info[8])\n",
    "        PLRVOICE[sched].append(info[9])\n",
    "        #INFBUF\n",
    "        GPUTSINFBUF[sched].append(info[10])\n",
    "        FAIRINFBUF[sched].append(info[11])\n",
    "        DELAYINFBUF[sched].append(info[12])\n",
    "        JITTERINFBUF[sched].append(info[13])\n",
    "        PLRINFBUF[sched].append(info[14])\n",
    "        #GERAL\n",
    "        PACKETLOSS[sched].append(info[15])\n",
    "    #VIDEO\n",
    "    GPUTSVIDEO[sched] = np.array(GPUTSVIDEO[sched], dtype=np.float32)\n",
    "    FAIRVIDEO[sched] = np.array(FAIRVIDEO[sched], dtype=np.float32)\n",
    "    DELAYVIDEO[sched] = np.array(DELAYVIDEO[sched], dtype = np.float32)\n",
    "    JITTERVIDEO[sched] = np.array(JITTERVIDEO[sched], dtype = np.float32)\n",
    "    PLRVIDEO[sched] = np.array(PLRVIDEO[sched], dtype = np.float32)\n",
    "    #VOICE\n",
    "    GPUTSVOICE[sched] = np.array(GPUTSVOICE[sched], dtype=np.float32)\n",
    "    FAIRVOICE[sched] = np.array(FAIRVOICE[sched], dtype=np.float32)\n",
    "    DELAYVOICE[sched] = np.array(DELAYVOICE[sched], dtype = np.float32)\n",
    "    JITTERVOICE[sched] = np.array(JITTERVOICE[sched], dtype = np.float32)\n",
    "    PLRVOICE[sched] = np.array(PLRVOICE[sched], dtype = np.float32)\n",
    "    #INFBUF\n",
    "    GPUTSINFBUF[sched] = np.array(GPUTSINFBUF[sched], dtype=np.float32)\n",
    "    FAIRINFBUF[sched] = np.array(FAIRINFBUF[sched], dtype=np.float32)\n",
    "    DELAYINFBUF[sched] = np.array(DELAYINFBUF[sched], dtype = np.float32)\n",
    "    JITTERINFBUF[sched] = np.array(JITTERINFBUF[sched], dtype = np.float32)\n",
    "    PLRINFBUF[sched] = np.array(PLRINFBUF[sched], dtype = np.float32)\n",
    "    #GERAL\n",
    "    PACKETLOSS[sched] = np.array(PACKETLOSS[sched], dtype=np.float32)"
   ]
  },
  {
   "cell_type": "markdown",
   "metadata": {},
   "source": [
    "# VIDEO\n",
    "## GPUT"
   ]
  },
  {
   "cell_type": "code",
   "execution_count": 4,
   "metadata": {},
   "outputs": [],
   "source": [
    "MEGAVIDEO = {1: [], 2: [], 3: [], 4: [], 5: [], 6: []}\n",
    "for sched in GPUTSVIDEO:\n",
    "    MEGAVIDEO[sched] = np.true_divide(GPUTSVIDEO[sched], 1e+6)"
   ]
  },
  {
   "cell_type": "code",
   "execution_count": 5,
   "metadata": {},
   "outputs": [
    {
     "data": {
      "image/png": "[encoded data removed]",
      "text/plain": [
       "<Figure size 432x288 with 1 Axes>"
      ]
     },
     "metadata": {
      "needs_background": "light"
     },
     "output_type": "display_data"
    }
   ],
   "source": [
    "dfGPUTVIDEO = pd.DataFrame({'PF': MEGAVIDEO[1], 'MLWDF': MEGAVIDEO[2], 'EXP': MEGAVIDEO[3],\n",
    "                       'FLS': MEGAVIDEO[4], 'EXPR': MEGAVIDEO[5], 'LOGR': MEGAVIDEO[6]},\n",
    "                      index=[10,20,30,40,50])\n",
    "plot = dfGPUTVIDEO.plot.bar(rot=0)\n",
    "fig = plot.get_figure()\n",
    "fig.savefig(\"./pdfs/GPUTVideo.pdf\", bbox_inches='tight')"
   ]
  },
  {
   "cell_type": "code",
   "execution_count": 6,
   "metadata": {},
   "outputs": [
    {
     "data": {
      "text/html": [
       "<div>\n",
       "<style scoped>\n",
       "    .dataframe tbody tr th:only-of-type {\n",
       "        vertical-align: middle;\n",
       "    }\n",
       "\n",
       "    .dataframe tbody tr th {\n",
       "        vertical-align: top;\n",
       "    }\n",
       "\n",
       "    .dataframe thead th {\n",
       "        text-align: right;\n",
       "    }\n",
       "</style>\n",
       "<table border=\"1\" class=\"dataframe\">\n",
       "  <thead>\n",
       "    <tr style=\"text-align: right;\">\n",
       "      <th></th>\n",
       "      <th>PF</th>\n",
       "      <th>MLWDF</th>\n",
       "      <th>EXP</th>\n",
       "      <th>FLS</th>\n",
       "      <th>EXPR</th>\n",
       "      <th>LOGR</th>\n",
       "    </tr>\n",
       "  </thead>\n",
       "  <tbody>\n",
       "    <tr>\n",
       "      <th>10</th>\n",
       "      <td>0.693364</td>\n",
       "      <td>0.716516</td>\n",
       "      <td>0.707098</td>\n",
       "      <td>0.714516</td>\n",
       "      <td>0.716612</td>\n",
       "      <td>0.701121</td>\n",
       "    </tr>\n",
       "    <tr>\n",
       "      <th>20</th>\n",
       "      <td>1.087967</td>\n",
       "      <td>1.128083</td>\n",
       "      <td>1.130381</td>\n",
       "      <td>1.195841</td>\n",
       "      <td>1.192799</td>\n",
       "      <td>1.125152</td>\n",
       "    </tr>\n",
       "    <tr>\n",
       "      <th>30</th>\n",
       "      <td>1.201752</td>\n",
       "      <td>1.639393</td>\n",
       "      <td>1.546360</td>\n",
       "      <td>1.896548</td>\n",
       "      <td>1.896565</td>\n",
       "      <td>1.474038</td>\n",
       "    </tr>\n",
       "    <tr>\n",
       "      <th>40</th>\n",
       "      <td>0.559424</td>\n",
       "      <td>1.748146</td>\n",
       "      <td>1.743353</td>\n",
       "      <td>2.362978</td>\n",
       "      <td>2.349496</td>\n",
       "      <td>1.637946</td>\n",
       "    </tr>\n",
       "    <tr>\n",
       "      <th>50</th>\n",
       "      <td>0.542931</td>\n",
       "      <td>1.790314</td>\n",
       "      <td>1.357249</td>\n",
       "      <td>2.999751</td>\n",
       "      <td>2.783215</td>\n",
       "      <td>1.947926</td>\n",
       "    </tr>\n",
       "  </tbody>\n",
       "</table>\n",
       "</div>"
      ],
      "text/plain": [
       "          PF     MLWDF       EXP       FLS      EXPR      LOGR\n",
       "10  0.693364  0.716516  0.707098  0.714516  0.716612  0.701121\n",
       "20  1.087967  1.128083  1.130381  1.195841  1.192799  1.125152\n",
       "30  1.201752  1.639393  1.546360  1.896548  1.896565  1.474038\n",
       "40  0.559424  1.748146  1.743353  2.362978  2.349496  1.637946\n",
       "50  0.542931  1.790314  1.357249  2.999751  2.783215  1.947926"
      ]
     },
     "execution_count": 6,
     "metadata": {},
     "output_type": "execute_result"
    }
   ],
   "source": [
    "dfGPUTVIDEO"
   ]
  },
  {
   "cell_type": "markdown",
   "metadata": {},
   "source": [
    "## Delay"
   ]
  },
  {
   "cell_type": "code",
   "execution_count": 7,
   "metadata": {},
   "outputs": [
    {
     "data": {
      "image/png": "[encoded data removed]",
      "text/plain": [
       "<Figure size 432x288 with 1 Axes>"
      ]
     },
     "metadata": {
      "needs_background": "light"
     },
     "output_type": "display_data"
    }
   ],
   "source": [
    "dfDELAYVIDEO = pd.DataFrame({'PF': DELAYVIDEO[1], 'MLWDF': DELAYVIDEO[2], 'EXP': DELAYVIDEO[3],\n",
    "                            'FLS': DELAYVIDEO[4], 'EXPR': DELAYVIDEO[5], 'LOGR': DELAYVIDEO[6]},\n",
    "                           index=[10,20,30,40,50])\n",
    "plot = dfDELAYVIDEO.plot.bar(rot=0)\n",
    "fig = plot.get_figure()\n",
    "fig.savefig(\"./pdfs/DelayVideoPF.pdf\", bbox_inches='tight')"
   ]
  },
  {
   "cell_type": "code",
   "execution_count": 8,
   "metadata": {},
   "outputs": [
    {
     "data": {
      "image/png": "[encoded data removed]",
      "text/plain": [
       "<Figure size 432x288 with 1 Axes>"
      ]
     },
     "metadata": {
      "needs_background": "light"
     },
     "output_type": "display_data"
    }
   ],
   "source": [
    "dfDELAYVIDEO = pd.DataFrame({'MLWDF': DELAYVIDEO[2], 'EXP': DELAYVIDEO[3],\n",
    "                            'FLS': DELAYVIDEO[4], 'EXPR': DELAYVIDEO[5], 'LOGR': DELAYVIDEO[6]},\n",
    "                           index=[10,20,30,40,50])\n",
    "plot = dfDELAYVIDEO.plot.bar(rot=0)\n",
    "fig = plot.get_figure()\n",
    "fig.savefig(\"./pdfs/DelayVideo.pdf\", bbox_inches='tight')"
   ]
  },
  {
   "cell_type": "markdown",
   "metadata": {},
   "source": [
    "## JITTER"
   ]
  },
  {
   "cell_type": "code",
   "execution_count": 9,
   "metadata": {},
   "outputs": [
    {
     "data": {
      "image/png": "[encoded data removed]",
      "text/plain": [
       "<Figure size 432x288 with 1 Axes>"
      ]
     },
     "metadata": {
      "needs_background": "light"
     },
     "output_type": "display_data"
    }
   ],
   "source": [
    "dfJITTERVIDEO = pd.DataFrame({'PF': JITTERVIDEO[1], 'MLWDF': JITTERVIDEO[2], 'EXP': JITTERVIDEO[3],\n",
    "                            'FLS': JITTERVIDEO[4], 'EXPR': JITTERVIDEO[5], 'LOGR': JITTERVIDEO[6]},\n",
    "                           index=[10,20,30,40,50])\n",
    "plot = dfJITTERVIDEO.plot.bar(rot=0)\n",
    "fig = plot.get_figure()\n",
    "fig.savefig(\"./pdfs/JitterVideoPF.pdf\", bbox_inches='tight')"
   ]
  },
  {
   "cell_type": "code",
   "execution_count": 10,
   "metadata": {},
   "outputs": [
    {
     "data": {
      "image/png": "[encoded data removed]",
      "text/plain": [
       "<Figure size 432x288 with 1 Axes>"
      ]
     },
     "metadata": {
      "needs_background": "light"
     },
     "output_type": "display_data"
    }
   ],
   "source": [
    "dfJITTERVIDEO = pd.DataFrame({'MLWDF': JITTERVIDEO[2], 'EXP': JITTERVIDEO[3],\n",
    "                            'FLS': JITTERVIDEO[4], 'EXPR': JITTERVIDEO[5], 'LOGR': JITTERVIDEO[6]},\n",
    "                           index=[10,20,30,40,50])\n",
    "plot = dfJITTERVIDEO.plot.bar(rot=0)\n",
    "fig = plot.get_figure()\n",
    "fig.savefig(\"./pdfs/JitterVideo.pdf\", bbox_inches='tight')"
   ]
  },
  {
   "cell_type": "markdown",
   "metadata": {},
   "source": [
    "## FAIRNESS"
   ]
  },
  {
   "cell_type": "code",
   "execution_count": 11,
   "metadata": {},
   "outputs": [
    {
     "data": {
      "image/png": "[encoded data removed]",
      "text/plain": [
       "<Figure size 432x288 with 1 Axes>"
      ]
     },
     "metadata": {
      "needs_background": "light"
     },
     "output_type": "display_data"
    }
   ],
   "source": [
    "dfFAIRVIDEO = pd.DataFrame({'PF': FAIRVIDEO[1], 'MLWDF': FAIRVIDEO[2], 'EXP': FAIRVIDEO[3],\n",
    "                            'FLS': FAIRVIDEO[4], 'EXPR': FAIRVIDEO[5], 'LOGR': FAIRVIDEO[6]},\n",
    "                           index=[10,20,30,40,50])\n",
    "plot = dfFAIRVIDEO.plot.bar(rot=0)\n",
    "fig = plot.get_figure()\n",
    "fig.savefig(\"./pdfs/FairnessVideo.pdf\", bbox_inches='tight')"
   ]
  },
  {
   "cell_type": "markdown",
   "metadata": {},
   "source": [
    "## PLR"
   ]
  },
  {
   "cell_type": "code",
   "execution_count": 12,
   "metadata": {},
   "outputs": [
    {
     "data": {
      "image/png": "[encoded data removed]",
      "text/plain": [
       "<Figure size 432x288 with 1 Axes>"
      ]
     },
     "metadata": {
      "needs_background": "light"
     },
     "output_type": "display_data"
    }
   ],
   "source": [
    "dfPLRVIDEO = pd.DataFrame({'PF': PLRVIDEO[1], 'MLWDF': PLRVIDEO[2], 'EXP': PLRVIDEO[3],\n",
    "                            'FLS': PLRVIDEO[4], 'EXPR': PLRVIDEO[5], 'LOGR': PLRVIDEO[6]},\n",
    "                           index=[10,20,30,40,50])\n",
    "plot = dfPLRVIDEO.plot.bar(rot=0)\n",
    "fig = plot.get_figure()\n",
    "fig.savefig(\"./pdfs/PacketLossVideo.pdf\", bbox_inches='tight')"
   ]
  },
  {
   "cell_type": "markdown",
   "metadata": {},
   "source": [
    "# VOIP\n",
    "## GPUT"
   ]
  },
  {
   "cell_type": "code",
   "execution_count": 13,
   "metadata": {},
   "outputs": [],
   "source": [
    "MEGAVOIP = {1: [], 2: [], 3: [], 4: [], 5: [], 6: []}\n",
    "for sched in GPUTSVOICE:\n",
    "    MEGAVOIP[sched] = np.true_divide(GPUTSVOICE[sched], 1e+6)"
   ]
  },
  {
   "cell_type": "code",
   "execution_count": 14,
   "metadata": {},
   "outputs": [
    {
     "data": {
      "image/png": "[encoded data removed]",
      "text/plain": [
       "<Figure size 432x288 with 1 Axes>"
      ]
     },
     "metadata": {
      "needs_background": "light"
     },
     "output_type": "display_data"
    }
   ],
   "source": [
    "dfGPUTVOICE = pd.DataFrame({'PF': MEGAVOIP[1], 'MLWDF': MEGAVOIP[2], 'EXP': MEGAVOIP[3],\n",
    "                       'FLS': MEGAVOIP[4], 'EXPR': MEGAVOIP[5], 'LOGR': MEGAVOIP[6]},\n",
    "                      index=[10,20,30,40,50])\n",
    "plot = dfGPUTVOICE.plot.bar(rot=0)\n",
    "fig = plot.get_figure()\n",
    "fig.savefig(\"./pdfs/GPUTVoIP.pdf\", bbox_inches='tight')"
   ]
  },
  {
   "cell_type": "markdown",
   "metadata": {},
   "source": [
    "## Delay"
   ]
  },
  {
   "cell_type": "code",
   "execution_count": 15,
   "metadata": {},
   "outputs": [
    {
     "data": {
      "image/png": "[encoded data removed]",
      "text/plain": [
       "<Figure size 432x288 with 1 Axes>"
      ]
     },
     "metadata": {
      "needs_background": "light"
     },
     "output_type": "display_data"
    }
   ],
   "source": [
    "dfDELAYVOICE = pd.DataFrame({'PF': DELAYVOICE[1], 'MLWDF': DELAYVOICE[2], 'EXP': DELAYVOICE[3],\n",
    "                            'FLS': DELAYVOICE[4], 'EXPR': DELAYVOICE[5], 'LOGR': DELAYVOICE[6]},\n",
    "                           index=[10,20,30,40,50])\n",
    "plot = dfDELAYVOICE.plot.bar(rot=0)\n",
    "fig = plot.get_figure()\n",
    "fig.savefig(\"./pdfs/DelayVoIPPF.pdf\", bbox_inches='tight')"
   ]
  },
  {
   "cell_type": "code",
   "execution_count": 16,
   "metadata": {},
   "outputs": [
    {
     "data": {
      "image/png": "[encoded data removed]",
      "text/plain": [
       "<Figure size 432x288 with 1 Axes>"
      ]
     },
     "metadata": {
      "needs_background": "light"
     },
     "output_type": "display_data"
    }
   ],
   "source": [
    "dfDELAYVOICE = pd.DataFrame({'MLWDF': DELAYVOICE[2], 'EXP': DELAYVOICE[3],\n",
    "                            'FLS': DELAYVOICE[4], 'EXPR': DELAYVOICE[5], 'LOGR': DELAYVOICE[6]},\n",
    "                           index=[10,20,30,40,50])\n",
    "plot = dfDELAYVOICE.plot.bar(rot=0)\n",
    "fig = plot.get_figure()\n",
    "fig.savefig(\"./pdfs/DelayVoIP.pdf\", bbox_inches='tight')"
   ]
  },
  {
   "cell_type": "markdown",
   "metadata": {},
   "source": [
    "## Jitter"
   ]
  },
  {
   "cell_type": "code",
   "execution_count": 17,
   "metadata": {},
   "outputs": [
    {
     "data": {
      "image/png": "[encoded data removed]",
      "text/plain": [
       "<Figure size 432x288 with 1 Axes>"
      ]
     },
     "metadata": {
      "needs_background": "light"
     },
     "output_type": "display_data"
    }
   ],
   "source": [
    "dfJITTERVOICE = pd.DataFrame({'PF': JITTERVOICE[1], 'MLWDF': JITTERVOICE[2], 'EXP': JITTERVOICE[3],\n",
    "                            'FLS': JITTERVOICE[4], 'EXPR': JITTERVOICE[5], 'LOGR': JITTERVOICE[6]},\n",
    "                           index=[10,20,30,40,50])\n",
    "plot = dfJITTERVOICE.plot.bar(rot=0)\n",
    "fig = plot.get_figure()\n",
    "fig.savefig(\"./pdfs/JitterVoIPPF.pdf\", bbox_inches='tight')"
   ]
  },
  {
   "cell_type": "code",
   "execution_count": 18,
   "metadata": {},
   "outputs": [
    {
     "data": {
      "image/png": "[encoded data removed]",
      "text/plain": [
       "<Figure size 432x288 with 1 Axes>"
      ]
     },
     "metadata": {
      "needs_background": "light"
     },
     "output_type": "display_data"
    }
   ],
   "source": [
    "dfJITTERVOICE = pd.DataFrame({'MLWDF': JITTERVOICE[2], 'EXP': JITTERVOICE[3],\n",
    "                            'FLS': JITTERVOICE[4], 'EXPR': JITTERVOICE[5], 'LOGR': JITTERVOICE[6]},\n",
    "                           index=[10,20,30,40,50])\n",
    "plot = dfJITTERVOICE.plot.bar(rot=0)\n",
    "fig = plot.get_figure()\n",
    "fig.savefig(\"./pdfs/JitterVoIP.pdf\", bbox_inches='tight')"
   ]
  },
  {
   "cell_type": "markdown",
   "metadata": {},
   "source": [
    "## FAIRNESS"
   ]
  },
  {
   "cell_type": "code",
   "execution_count": 19,
   "metadata": {},
   "outputs": [
    {
     "data": {
      "image/png": "[encoded data removed]",
      "text/plain": [
       "<Figure size 432x288 with 1 Axes>"
      ]
     },
     "metadata": {
      "needs_background": "light"
     },
     "output_type": "display_data"
    }
   ],
   "source": [
    "dfFAIRVOICE = pd.DataFrame({'PF': FAIRVOICE[1], 'MLWDF': FAIRVOICE[2], 'EXP': FAIRVOICE[3],\n",
    "                            'FLS': FAIRVOICE[4], 'EXPR': FAIRVOICE[5], 'LOGR': FAIRVOICE[6]},\n",
    "                           index=[10,20,30,40,50])\n",
    "plot = dfFAIRVOICE.plot.bar(rot=0)\n",
    "fig = plot.get_figure()\n",
    "fig.savefig(\"./pdfs/FairnessVoice.pdf\", bbox_inches='tight')"
   ]
  },
  {
   "cell_type": "markdown",
   "metadata": {},
   "source": [
    "## PLR"
   ]
  },
  {
   "cell_type": "code",
   "execution_count": 20,
   "metadata": {},
   "outputs": [
    {
     "data": {
      "image/png": "[encoded data removed]",
      "text/plain": [
       "<Figure size 432x288 with 1 Axes>"
      ]
     },
     "metadata": {
      "needs_background": "light"
     },
     "output_type": "display_data"
    }
   ],
   "source": [
    "dfPLRVOICE = pd.DataFrame({'PF': PLRVOICE[1], 'MLWDF': PLRVOICE[2], 'EXP': PLRVOICE[3],\n",
    "                            'FLS': PLRVOICE[4], 'EXPR': PLRVOICE[5], 'LOGR': PLRVOICE[6]},\n",
    "                           index=[10,20,30,40,50])\n",
    "plot = dfPLRVOICE.plot.bar(rot=0)\n",
    "fig = plot.get_figure()\n",
    "fig.savefig(\"./pdfs/PacketLossVoice.pdf\", bbox_inches='tight')"
   ]
  },
  {
   "cell_type": "markdown",
   "metadata": {},
   "source": [
    "# INF BUF\n",
    "## GPUT"
   ]
  },
  {
   "cell_type": "code",
   "execution_count": 21,
   "metadata": {},
   "outputs": [],
   "source": [
    "MEGAINFBUF = {1: [], 2: [], 3: [], 4: [], 5: [], 6: []}\n",
    "for sched in GPUTSINFBUF:\n",
    "    MEGAINFBUF[sched] = np.true_divide(GPUTSINFBUF[sched], 1e+6)"
   ]
  },
  {
   "cell_type": "code",
   "execution_count": 22,
   "metadata": {},
   "outputs": [
    {
     "data": {
      "image/png": "[encoded data removed]",
      "text/plain": [
       "<Figure size 432x288 with 1 Axes>"
      ]
     },
     "metadata": {
      "needs_background": "light"
     },
     "output_type": "display_data"
    }
   ],
   "source": [
    "dfGPUTINFBUF = pd.DataFrame({'PF': MEGAINFBUF[1], 'MLWDF': MEGAINFBUF[2], 'EXP': MEGAINFBUF[3],\n",
    "                       'FLS': MEGAINFBUF[4], 'EXPR': MEGAINFBUF[5], 'LOGR': MEGAINFBUF[6]},\n",
    "                      index=[10,20,30,40,50])\n",
    "plot = dfGPUTINFBUF.plot.bar(rot=0)\n",
    "fig = plot.get_figure()\n",
    "fig.savefig(\"./pdfs/GPUTInfBuf.pdf\", bbox_inches='tight')"
   ]
  },
  {
   "cell_type": "markdown",
   "metadata": {},
   "source": [
    "## Delay"
   ]
  },
  {
   "cell_type": "code",
   "execution_count": 23,
   "metadata": {},
   "outputs": [
    {
     "data": {
      "image/png": "[encoded data removed]",
      "text/plain": [
       "<Figure size 432x288 with 1 Axes>"
      ]
     },
     "metadata": {
      "needs_background": "light"
     },
     "output_type": "display_data"
    }
   ],
   "source": [
    "dfDELAYINFBUF = pd.DataFrame({'PF': DELAYINFBUF[1], 'MLWDF': DELAYINFBUF[2], 'EXP': DELAYINFBUF[3],\n",
    "                            'FLS': DELAYINFBUF[4], 'EXPR': DELAYINFBUF[5], 'LOGR': DELAYINFBUF[6]},\n",
    "                           index=[10,20,30,40,50])\n",
    "plot = dfDELAYINFBUF.plot.bar(rot=0)\n",
    "fig = plot.get_figure()\n",
    "fig.savefig(\"./pdfs/DelayINFBUFPF.pdf\", bbox_inches='tight')"
   ]
  },
  {
   "cell_type": "code",
   "execution_count": 24,
   "metadata": {},
   "outputs": [
    {
     "data": {
      "image/png": "[encoded data removed]",
      "text/plain": [
       "<Figure size 432x288 with 1 Axes>"
      ]
     },
     "metadata": {
      "needs_background": "light"
     },
     "output_type": "display_data"
    }
   ],
   "source": [
    "dfDELAYINFBUF = pd.DataFrame({'MLWDF': DELAYINFBUF[2], 'EXP': DELAYINFBUF[3],\n",
    "                            'FLS': DELAYINFBUF[4], 'EXPR': DELAYINFBUF[5], 'LOGR': DELAYINFBUF[6]},\n",
    "                           index=[10,20,30,40,50])\n",
    "plot = dfDELAYINFBUF.plot.bar(rot=0)\n",
    "fig = plot.get_figure()\n",
    "fig.savefig(\"./pdfs/DelayInfBuf.pdf\", bbox_inches='tight')"
   ]
  },
  {
   "cell_type": "markdown",
   "metadata": {},
   "source": [
    "## Jitter"
   ]
  },
  {
   "cell_type": "code",
   "execution_count": 25,
   "metadata": {},
   "outputs": [
    {
     "data": {
      "image/png": "[encoded data removed]",
      "text/plain": [
       "<Figure size 432x288 with 1 Axes>"
      ]
     },
     "metadata": {
      "needs_background": "light"
     },
     "output_type": "display_data"
    }
   ],
   "source": [
    "dfJITTERINFBUF = pd.DataFrame({'PF': JITTERINFBUF[1], 'MLWDF': JITTERINFBUF[2], 'EXP': JITTERINFBUF[3],\n",
    "                            'FLS': JITTERINFBUF[4], 'EXPR': JITTERINFBUF[5], 'LOGR': JITTERINFBUF[6]},\n",
    "                           index=[10,20,30,40,50])\n",
    "plot = dfJITTERINFBUF.plot.bar(rot=0)\n",
    "fig = plot.get_figure()\n",
    "fig.savefig(\"./pdfs/JitterInfBufPF.pdf\", bbox_inches='tight')"
   ]
  },
  {
   "cell_type": "code",
   "execution_count": 26,
   "metadata": {},
   "outputs": [
    {
     "data": {
      "image/png": "[encoded data removed]",
      "text/plain": [
       "<Figure size 432x288 with 1 Axes>"
      ]
     },
     "metadata": {
      "needs_background": "light"
     },
     "output_type": "display_data"
    }
   ],
   "source": [
    "dfJITTERINFBUF = pd.DataFrame({'MLWDF': JITTERINFBUF[2], 'EXP': JITTERINFBUF[3],\n",
    "                            'FLS': JITTERINFBUF[4], 'EXPR': JITTERINFBUF[5], 'LOGR': JITTERINFBUF[6]},\n",
    "                           index=[10,20,30,40,50])\n",
    "plot = dfJITTERINFBUF.plot.bar(rot=0)\n",
    "fig = plot.get_figure()\n",
    "fig.savefig(\"./pdfs/JitterInfBuf.pdf\", bbox_inches='tight')"
   ]
  },
  {
   "cell_type": "markdown",
   "metadata": {},
   "source": [
    "## FAIRNESS"
   ]
  },
  {
   "cell_type": "code",
   "execution_count": 27,
   "metadata": {},
   "outputs": [
    {
     "data": {
      "image/png": "[encoded data removed]",
      "text/plain": [
       "<Figure size 432x288 with 1 Axes>"
      ]
     },
     "metadata": {
      "needs_background": "light"
     },
     "output_type": "display_data"
    }
   ],
   "source": [
    "dfFAIRINFBUF = pd.DataFrame({'PF': FAIRINFBUF[1], 'MLWDF': FAIRINFBUF[2], 'EXP': FAIRINFBUF[3],\n",
    "                            'FLS': FAIRINFBUF[4], 'EXPR': FAIRINFBUF[5], 'LOGR': FAIRINFBUF[6]},\n",
    "                           index=[10,20,30,40,50])\n",
    "plot = dfFAIRINFBUF.plot.bar(rot=0)\n",
    "fig = plot.get_figure()\n",
    "fig.savefig(\"./pdfs/FairnessInfBuf.pdf\", bbox_inches='tight')"
   ]
  },
  {
   "cell_type": "markdown",
   "metadata": {},
   "source": [
    "## PLR"
   ]
  },
  {
   "cell_type": "code",
   "execution_count": 28,
   "metadata": {},
   "outputs": [
    {
     "data": {
      "image/png": "[encoded data removed]",
      "text/plain": [
       "<Figure size 432x288 with 1 Axes>"
      ]
     },
     "metadata": {
      "needs_background": "light"
     },
     "output_type": "display_data"
    }
   ],
   "source": [
    "dfPLRINFBUF = pd.DataFrame({'PF': PLRINFBUF[1], 'MLWDF': PLRINFBUF[2], 'EXP': PLRINFBUF[3],\n",
    "                            'FLS': PLRINFBUF[4], 'EXPR': PLRINFBUF[5], 'LOGR': PLRINFBUF[6]},\n",
    "                           index=[10,20,30,40,50])\n",
    "plot = dfPLRINFBUF.plot.bar(rot=0)\n",
    "fig = plot.get_figure()\n",
    "fig.savefig(\"./pdfs/PacketLossInfBuf.pdf\", bbox_inches='tight')"
   ]
  },
  {
   "cell_type": "markdown",
   "metadata": {},
   "source": [
    "# Loss Ratio"
   ]
  },
  {
   "cell_type": "code",
   "execution_count": 29,
   "metadata": {},
   "outputs": [],
   "source": [
    "averagePacketLoss = {}\n",
    "for key in PACKETLOSS:\n",
    "    averagePacketLoss[key] = []\n",
    "    for i in range(0, 5):\n",
    "        average = sum(PACKETLOSS[key][i])/len(PACKETLOSS[key][i])         \n",
    "        averagePacketLoss[key].append(average)"
   ]
  },
  {
   "cell_type": "code",
   "execution_count": 30,
   "metadata": {},
   "outputs": [
    {
     "data": {
      "image/png": "[encoded data removed]",
      "text/plain": [
       "<Figure size 432x288 with 1 Axes>"
      ]
     },
     "metadata": {
      "needs_background": "light"
     },
     "output_type": "display_data"
    }
   ],
   "source": [
    "dfLossRatio = pd.DataFrame({'PF': averagePacketLoss[1], 'MLWDF': averagePacketLoss[2], 'EXP': averagePacketLoss[3],\n",
    "                            'FLS': averagePacketLoss[4], 'EXPR': averagePacketLoss[5], 'LOGR': averagePacketLoss[6]},\n",
    "                           index=[10,20,30,40,50])\n",
    "plot = dfLossRatio.plot.bar(rot=0)\n",
    "fig = plot.get_figure()\n",
    "fig.savefig(\"./pdfs/PacketLossRatio.pdf\", bbox_inches='tight')"
   ]
  },
  {
   "cell_type": "markdown",
   "metadata": {},
   "source": [
    "FLS + EXPRULE\n",
    "Priorização do FLS, "
   ]
  }
 ],
 "metadata": {
  "kernelspec": {
   "display_name": "Python 3",
   "language": "python",
   "name": "python3"
  },
  "language_info": {
   "codemirror_mode": {
    "name": "ipython",
    "version": 3
   },
   "file_extension": ".py",
   "mimetype": "text/x-python",
   "name": "python",
   "nbconvert_exporter": "python",
   "pygments_lexer": "ipython3",
   "version": "3.7.3"
  }
 },
 "nbformat": 4,
 "nbformat_minor": 2
}
