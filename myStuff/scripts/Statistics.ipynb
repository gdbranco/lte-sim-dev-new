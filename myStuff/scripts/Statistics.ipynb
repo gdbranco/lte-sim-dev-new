{
 "cells": [
  {
   "cell_type": "code",
   "execution_count": 2,
   "metadata": {},
   "outputs": [],
   "source": [
    "import pandas as pd\n",
    "import numpy as np\n",
    "import matplotlib.pyplot as plt\n",
    "%matplotlib inline  \n",
    "from pprint import pprint\n",
    "import re\n",
    "import json\n",
    "import gzip\n",
    "class LTEParser:\n",
    "    @staticmethod\n",
    "    def parse(inFile, flowDuration = 100):\n",
    "        videoAverages = []\n",
    "        videoFairness = []\n",
    "        videoDelay = []\n",
    "        videoJitter = []\n",
    "        voiceAverages = []\n",
    "        voiceFairness = []\n",
    "        voiceDelay = []\n",
    "        voiceJitter = []\n",
    "        packetLoss = []\n",
    "        for sfile in inFile:\n",
    "            content = \"\"\n",
    "            print(\"Opening file: \" + sfile)\n",
    "            with gzip.open(sfile, 'rb') as file:\n",
    "                content = file.read()\n",
    "                content = content.decode('utf-8')\n",
    "            print(\"Parsing file ...\", end=\"\")\n",
    "            txContent, rxContent = LTEParser._parse(content)\n",
    "            info = LTEParser.getFairnessIndex(rxContent, flowDuration)\n",
    "            packetLossInfo = LTEParser.getPacketLossRatio(txContent, rxContent)\n",
    "            delayInfo = LTEParser.getDelayJitter(rxContent)\n",
    "            videoAverages.append(info['VIDEO']['Average'])\n",
    "            videoFairness.append(info['VIDEO']['FairnessIndex'])\n",
    "            videoDelay.append(delayInfo['VIDEO']['Average'])\n",
    "            videoJitter.append(delayInfo['VIDEO']['StD'])\n",
    "            voiceAverages.append(info['VOIP']['Average'])\n",
    "            voiceFairness.append(info['VOIP']['FairnessIndex'])\n",
    "            voiceDelay.append(delayInfo['VOIP']['Average'])\n",
    "            voiceJitter.append(delayInfo['VOIP']['StD'])\n",
    "            packetLoss.append(packetLossInfo)\n",
    "        return [(sum(videoAverages)/len(videoAverages)),\n",
    "                (sum(videoFairness)/len(videoFairness)),\n",
    "                (sum(videoDelay)/len(videoDelay)),\n",
    "                (sum(videoJitter)/len(videoJitter)),\n",
    "                (sum(voiceAverages)/len(voiceAverages)),\n",
    "                (sum(voiceFairness)/len(voiceFairness)),\n",
    "                (sum(videoDelay)/len(videoDelay)),\n",
    "                (sum(videoJitter)/len(videoJitter)),\n",
    "                packetLoss]\n",
    "    @staticmethod\n",
    "    def _parse(content):\n",
    "        txContent = LTEParser.parseTX(content)\n",
    "        rxContent = LTEParser.parseRX(content)\n",
    "        print(\"Done\")\n",
    "        return txContent, rxContent\n",
    "    \n",
    "    @staticmethod\n",
    "    def parseTX(content):\n",
    "        _mapa = {\n",
    "            \"B\": \"#Bearer\",\n",
    "            \"T\": \"TimeStamp\",\n",
    "            \"TX\": \"Transmission\",\n",
    "            \"RX\": \"Receiver\",\n",
    "            \"D\": \"Delay\",\n",
    "            \"ID\": \"#Packet\",\n",
    "            \"DST\": \"Destiny\",\n",
    "            \"SRC\": \"Source\",\n",
    "            \"SIZE\": \"Size\"\n",
    "        }\n",
    "        matches = re.findall(\"(TX.+)\", content)\n",
    "        if(matches == []):\n",
    "            raise Exception(\"No matches in content for TX\")\n",
    "        dictPacketType = {\"CBR\": [], \"VOIP\": [], \"VIDEO\": [], \"INF_BUF\": [], \"WEB\": []}\n",
    "        for match in matches:\n",
    "            values = match.split(' ')\n",
    "            tamanho = len(values)\n",
    "            dic = {}\n",
    "            for i in range(2, tamanho if tamanho%2==0 else tamanho-1, 2):\n",
    "                dic[_mapa[values[i]]] = values[i+1]\n",
    "            dic = dict(sorted(dic.items(), key=lambda x: x[0]))\n",
    "            dictPacketType[values[1]].append(dic)\n",
    "        return json.loads(json.dumps(dictPacketType))\n",
    "        \n",
    "    @staticmethod        \n",
    "    def parseRX(content):\n",
    "        _mapa = {\n",
    "            \"B\": \"#Bearer\",\n",
    "            \"T\": \"TimeStamp\",\n",
    "            \"TX\": \"Transmission\",\n",
    "            \"RX\": \"Receiver\",\n",
    "            \"D\": \"Delay\",\n",
    "            \"ID\": \"#Packet\",\n",
    "            \"DST\": \"Destiny\",\n",
    "            \"SRC\": \"Source\",\n",
    "            \"SIZE\": \"Size\"\n",
    "        }\n",
    "        matches = re.findall(\"(RX.+)\", content)\n",
    "        if(matches == []):\n",
    "            raise Exception(\"No matches in content for TX\")\n",
    "        dictPacketType = {\"CBR\": [], \"VOIP\": [], \"VIDEO\": [], \"INF_BUF\": [], \"WEB\": []}\n",
    "        for match in matches:\n",
    "            values = match.split(' ')\n",
    "            tamanho = len(values)\n",
    "            dic = {}\n",
    "            for i in range(2, tamanho if tamanho%2==0 else tamanho-1, 2):\n",
    "                dic[_mapa[values[i]]] = values[i+1]\n",
    "            dic = dict(sorted(dic.items(), key=lambda x: x[0]))\n",
    "            dictPacketType[values[1]].append(dic)\n",
    "        return json.loads(json.dumps(dictPacketType))\n",
    "    \n",
    "    @staticmethod\n",
    "    def getPacketLossRatio(txContent, rxContent):\n",
    "        tx_pkts = 0\n",
    "        rx_pkts = 0\n",
    "        for key in txContent:\n",
    "            tx_pkts += len(txContent[key])\n",
    "        for key in rxContent:\n",
    "            rx_pkts += len(rxContent[key])\n",
    "        plr = ((tx_pkts - rx_pkts) / tx_pkts) * 100\n",
    "        return plr\n",
    "    \n",
    "    @staticmethod\n",
    "    def getDelayJitter(rxContent):\n",
    "        delayPerApp = {}\n",
    "        for app in rxContent:\n",
    "            delayPerApp[app] = {\"Sum\": 0, \"Average\": 0, \"StD\": 0}\n",
    "            delayPerApp[app][\"Sum\"] = sum(float(item[\"Delay\"]) for item in rxContent[app])\n",
    "            tamanho = len(rxContent[app])\n",
    "            delayPerApp[app][\"Average\"] = delayPerApp[app][\"Sum\"]/tamanho if tamanho != 0 else 0\n",
    "            delayPerApp[app][\"StD\"] = sum((float(item[\"Delay\"]) - delayPerApp[app][\"Average\"])**2 for item in rxContent[app])/ (tamanho - 1) if tamanho != 0 else 0\n",
    "        return delayPerApp\n",
    "    \n",
    "    @staticmethod\n",
    "    def getGoodput(rxContent, flowDuration):\n",
    "        gputPerApp = {}\n",
    "        for app in rxContent:\n",
    "            gputPerApp[app] = {\"Sum\": 0, \"Average\": 0}\n",
    "            gputPerApp[app][\"Sum\"] = sum(float(item[\"Size\"])*8 for item in rxContent[app])\n",
    "            gputPerApp[app][\"Average\"] = (gputPerApp[app][\"Sum\"]/125000)/flowDuration\n",
    "        return gputPerApp\n",
    "    \n",
    "    @staticmethod\n",
    "    def getThroughput(rxContent, flowDuration):\n",
    "        tputPerApp = {}\n",
    "        for app in rxContent:\n",
    "            tputPerApp[app] = {\"Sum\": 0, \"Average\": 0}\n",
    "            tputPerApp[app][\"Sum\"] = sum((float(item[\"Size\"]) + 5)*8 for item in rxContent[app])\n",
    "            tputPerApp[app][\"Average\"] = (tputPerApp[app][\"Sum\"]/125000)/flowDuration\n",
    "        return tputPerApp\n",
    "    \n",
    "    @staticmethod\n",
    "    def getFairnessIndex(rxContent, flowDuration):\n",
    "        fairnessPerApp = {}\n",
    "        for app in rxContent:\n",
    "            fairnessPerApp[app] = {\"Sum\": 0, \"Average\": 0, \"SumSquared\": 0, \"SquaredSum\": 0, \"FairnessIndex\": 0}\n",
    "            if(len(rxContent[app]) > 0):\n",
    "                fairnessPerApp[app][\"Sum\"] = sum(float(item[\"Size\"])*8 for item in rxContent[app])\n",
    "                fairnessPerApp[app][\"Average\"] = (fairnessPerApp[app][\"Sum\"]/125000)/flowDuration\n",
    "                fairnessPerApp[app][\"SumSquared\"] = sum(pow(float(item[\"Size\"])*8,2) for item in rxContent[app])\n",
    "                fairnessPerApp[app][\"SquaredSum\"] = pow(fairnessPerApp[app][\"Sum\"], 2)\n",
    "                division = (len(rxContent[app]) * fairnessPerApp[app][\"SumSquared\"])\n",
    "                fairnessPerApp[app][\"FairnessIndex\"] = fairnessPerApp[app][\"SquaredSum\"] / division if division > 0 else 1\n",
    "        return fairnessPerApp"
   ]
  },
  {
   "cell_type": "code",
   "execution_count": 3,
   "metadata": {},
   "outputs": [],
   "source": [
    "base = \"../raw_outputs/Interference_og\"\n",
    "ext = \".gz\"\n",
    "files = {1: {30: {20: [], 30: [], 40: [], 50: [], 60: [], 70: [], 80: [], 90: [], 100: []}},\n",
    "         2: {30: {20: [], 30: [], 40: [], 50: [], 60: [], 70: [], 80: [], 90: [], 100: []}},\n",
    "         3: {30: {20: [], 30: [], 40: [], 50: [], 60: [], 70: [], 80: [], 90: [], 100: []}},\n",
    "         4: {30: {20: [], 30: [], 40: [], 50: [], 60: [], 70: [], 80: [], 90: [], 100: []}},\n",
    "         5: {30: {20: [], 30: [], 40: [], 50: [], 60: [], 70: [], 80: [], 90: [], 100: []}},\n",
    "         6: {30: {20: [], 30: [], 40: [], 50: [], 60: [], 70: [], 80: [], 90: [], 100: []}}}\n",
    "for sched in range(1,7):\n",
    "    for ue in range(20, 101, 10):\n",
    "        for vel in [30]:\n",
    "            for count in range(1,6):\n",
    "                file = \"/SCHED_\" + str(sched) + \"_UE_\" + str(ue) + \"_V_\" + str(vel) +\"_D_0.1_\" + str(count)\n",
    "                filename = base + \"/\" + str(sched) + \"/UE\" + str(ue) + \"/V\" + str(vel) + file + ext\n",
    "                files[sched][vel][ue].append(filename)"
   ]
  },
  {
   "cell_type": "code",
   "execution_count": null,
   "metadata": {},
   "outputs": [],
   "source": [
    "pprint(files)"
   ]
  },
  {
   "cell_type": "markdown",
   "metadata": {},
   "source": [
    "# Proportional and Fair - 30KM/H"
   ]
  },
  {
   "cell_type": "code",
   "execution_count": 4,
   "metadata": {
    "scrolled": true
   },
   "outputs": [
    {
     "name": "stdout",
     "output_type": "stream",
     "text": [
      "Opening file: ../raw_outputs/Interference_og/1/UE20/V30/SCHED_1_UE_20_V_30_D_0.1_1.gz\n",
      "Parsing file ...Done\n",
      "Opening file: ../raw_outputs/Interference_og/1/UE20/V30/SCHED_1_UE_20_V_30_D_0.1_2.gz\n",
      "Parsing file ...Done\n",
      "Opening file: ../raw_outputs/Interference_og/1/UE20/V30/SCHED_1_UE_20_V_30_D_0.1_3.gz\n",
      "Parsing file ...Done\n",
      "Opening file: ../raw_outputs/Interference_og/1/UE20/V30/SCHED_1_UE_20_V_30_D_0.1_4.gz\n",
      "Parsing file ...Done\n",
      "Opening file: ../raw_outputs/Interference_og/1/UE20/V30/SCHED_1_UE_20_V_30_D_0.1_5.gz\n",
      "Parsing file ...Done\n",
      "Opening file: ../raw_outputs/Interference_og/1/UE30/V30/SCHED_1_UE_30_V_30_D_0.1_1.gz\n",
      "Parsing file ...Done\n",
      "Opening file: ../raw_outputs/Interference_og/1/UE30/V30/SCHED_1_UE_30_V_30_D_0.1_2.gz\n",
      "Parsing file ...Done\n",
      "Opening file: ../raw_outputs/Interference_og/1/UE30/V30/SCHED_1_UE_30_V_30_D_0.1_3.gz\n",
      "Parsing file ...Done\n",
      "Opening file: ../raw_outputs/Interference_og/1/UE30/V30/SCHED_1_UE_30_V_30_D_0.1_4.gz\n",
      "Parsing file ...Done\n",
      "Opening file: ../raw_outputs/Interference_og/1/UE30/V30/SCHED_1_UE_30_V_30_D_0.1_5.gz\n",
      "Parsing file ...Done\n",
      "Opening file: ../raw_outputs/Interference_og/1/UE40/V30/SCHED_1_UE_40_V_30_D_0.1_1.gz\n",
      "Parsing file ...Done\n",
      "Opening file: ../raw_outputs/Interference_og/1/UE40/V30/SCHED_1_UE_40_V_30_D_0.1_2.gz\n",
      "Parsing file ...Done\n",
      "Opening file: ../raw_outputs/Interference_og/1/UE40/V30/SCHED_1_UE_40_V_30_D_0.1_3.gz\n",
      "Parsing file ...Done\n",
      "Opening file: ../raw_outputs/Interference_og/1/UE40/V30/SCHED_1_UE_40_V_30_D_0.1_4.gz\n",
      "Parsing file ...Done\n",
      "Opening file: ../raw_outputs/Interference_og/1/UE40/V30/SCHED_1_UE_40_V_30_D_0.1_5.gz\n",
      "Parsing file ...Done\n",
      "Opening file: ../raw_outputs/Interference_og/1/UE50/V30/SCHED_1_UE_50_V_30_D_0.1_1.gz\n",
      "Parsing file ...Done\n",
      "Opening file: ../raw_outputs/Interference_og/1/UE50/V30/SCHED_1_UE_50_V_30_D_0.1_2.gz\n",
      "Parsing file ...Done\n",
      "Opening file: ../raw_outputs/Interference_og/1/UE50/V30/SCHED_1_UE_50_V_30_D_0.1_3.gz\n",
      "Parsing file ...Done\n",
      "Opening file: ../raw_outputs/Interference_og/1/UE50/V30/SCHED_1_UE_50_V_30_D_0.1_4.gz\n",
      "Parsing file ...Done\n",
      "Opening file: ../raw_outputs/Interference_og/1/UE50/V30/SCHED_1_UE_50_V_30_D_0.1_5.gz\n",
      "Parsing file ...Done\n",
      "Opening file: ../raw_outputs/Interference_og/1/UE60/V30/SCHED_1_UE_60_V_30_D_0.1_1.gz\n",
      "Parsing file ...Done\n",
      "Opening file: ../raw_outputs/Interference_og/1/UE60/V30/SCHED_1_UE_60_V_30_D_0.1_2.gz\n",
      "Parsing file ...Done\n",
      "Opening file: ../raw_outputs/Interference_og/1/UE60/V30/SCHED_1_UE_60_V_30_D_0.1_3.gz\n",
      "Parsing file ...Done\n",
      "Opening file: ../raw_outputs/Interference_og/1/UE60/V30/SCHED_1_UE_60_V_30_D_0.1_4.gz\n",
      "Parsing file ...Done\n",
      "Opening file: ../raw_outputs/Interference_og/1/UE60/V30/SCHED_1_UE_60_V_30_D_0.1_5.gz\n",
      "Parsing file ...Done\n",
      "Opening file: ../raw_outputs/Interference_og/1/UE70/V30/SCHED_1_UE_70_V_30_D_0.1_1.gz\n",
      "Parsing file ...Done\n",
      "Opening file: ../raw_outputs/Interference_og/1/UE70/V30/SCHED_1_UE_70_V_30_D_0.1_2.gz\n",
      "Parsing file ...Done\n",
      "Opening file: ../raw_outputs/Interference_og/1/UE70/V30/SCHED_1_UE_70_V_30_D_0.1_3.gz\n",
      "Parsing file ...Done\n",
      "Opening file: ../raw_outputs/Interference_og/1/UE70/V30/SCHED_1_UE_70_V_30_D_0.1_4.gz\n",
      "Parsing file ...Done\n",
      "Opening file: ../raw_outputs/Interference_og/1/UE70/V30/SCHED_1_UE_70_V_30_D_0.1_5.gz\n",
      "Parsing file ...Done\n",
      "Opening file: ../raw_outputs/Interference_og/1/UE80/V30/SCHED_1_UE_80_V_30_D_0.1_1.gz\n",
      "Parsing file ...Done\n",
      "Opening file: ../raw_outputs/Interference_og/1/UE80/V30/SCHED_1_UE_80_V_30_D_0.1_2.gz\n",
      "Parsing file ...Done\n",
      "Opening file: ../raw_outputs/Interference_og/1/UE80/V30/SCHED_1_UE_80_V_30_D_0.1_3.gz\n",
      "Parsing file ...Done\n",
      "Opening file: ../raw_outputs/Interference_og/1/UE80/V30/SCHED_1_UE_80_V_30_D_0.1_4.gz\n",
      "Parsing file ...Done\n",
      "Opening file: ../raw_outputs/Interference_og/1/UE80/V30/SCHED_1_UE_80_V_30_D_0.1_5.gz\n",
      "Parsing file ...Done\n",
      "Opening file: ../raw_outputs/Interference_og/1/UE90/V30/SCHED_1_UE_90_V_30_D_0.1_1.gz\n",
      "Parsing file ...Done\n",
      "Opening file: ../raw_outputs/Interference_og/1/UE90/V30/SCHED_1_UE_90_V_30_D_0.1_2.gz\n",
      "Parsing file ...Done\n",
      "Opening file: ../raw_outputs/Interference_og/1/UE90/V30/SCHED_1_UE_90_V_30_D_0.1_3.gz\n",
      "Parsing file ...Done\n",
      "Opening file: ../raw_outputs/Interference_og/1/UE90/V30/SCHED_1_UE_90_V_30_D_0.1_4.gz\n",
      "Parsing file ...Done\n",
      "Opening file: ../raw_outputs/Interference_og/1/UE90/V30/SCHED_1_UE_90_V_30_D_0.1_5.gz\n",
      "Parsing file ...Done\n",
      "Opening file: ../raw_outputs/Interference_og/1/UE100/V30/SCHED_1_UE_100_V_30_D_0.1_1.gz\n",
      "Parsing file ...Done\n",
      "Opening file: ../raw_outputs/Interference_og/1/UE100/V30/SCHED_1_UE_100_V_30_D_0.1_2.gz\n",
      "Parsing file ...Done\n",
      "Opening file: ../raw_outputs/Interference_og/1/UE100/V30/SCHED_1_UE_100_V_30_D_0.1_3.gz\n",
      "Parsing file ...Done\n",
      "Opening file: ../raw_outputs/Interference_og/1/UE100/V30/SCHED_1_UE_100_V_30_D_0.1_4.gz\n",
      "Parsing file ...Done\n",
      "Opening file: ../raw_outputs/Interference_og/1/UE100/V30/SCHED_1_UE_100_V_30_D_0.1_5.gz\n",
      "Parsing file ...Done\n",
      "Opening file: ../raw_outputs/Interference_og/2/UE20/V30/SCHED_2_UE_20_V_30_D_0.1_1.gz\n",
      "Parsing file ...Done\n",
      "Opening file: ../raw_outputs/Interference_og/2/UE20/V30/SCHED_2_UE_20_V_30_D_0.1_2.gz\n",
      "Parsing file ...Done\n",
      "Opening file: ../raw_outputs/Interference_og/2/UE20/V30/SCHED_2_UE_20_V_30_D_0.1_3.gz\n",
      "Parsing file ...Done\n",
      "Opening file: ../raw_outputs/Interference_og/2/UE20/V30/SCHED_2_UE_20_V_30_D_0.1_4.gz\n",
      "Parsing file ...Done\n",
      "Opening file: ../raw_outputs/Interference_og/2/UE20/V30/SCHED_2_UE_20_V_30_D_0.1_5.gz\n",
      "Parsing file ...Done\n",
      "Opening file: ../raw_outputs/Interference_og/2/UE30/V30/SCHED_2_UE_30_V_30_D_0.1_1.gz\n",
      "Parsing file ...Done\n",
      "Opening file: ../raw_outputs/Interference_og/2/UE30/V30/SCHED_2_UE_30_V_30_D_0.1_2.gz\n",
      "Parsing file ...Done\n",
      "Opening file: ../raw_outputs/Interference_og/2/UE30/V30/SCHED_2_UE_30_V_30_D_0.1_3.gz\n",
      "Parsing file ...Done\n",
      "Opening file: ../raw_outputs/Interference_og/2/UE30/V30/SCHED_2_UE_30_V_30_D_0.1_4.gz\n",
      "Parsing file ...Done\n",
      "Opening file: ../raw_outputs/Interference_og/2/UE30/V30/SCHED_2_UE_30_V_30_D_0.1_5.gz\n",
      "Parsing file ...Done\n",
      "Opening file: ../raw_outputs/Interference_og/2/UE40/V30/SCHED_2_UE_40_V_30_D_0.1_1.gz\n",
      "Parsing file ...Done\n",
      "Opening file: ../raw_outputs/Interference_og/2/UE40/V30/SCHED_2_UE_40_V_30_D_0.1_2.gz\n",
      "Parsing file ...Done\n",
      "Opening file: ../raw_outputs/Interference_og/2/UE40/V30/SCHED_2_UE_40_V_30_D_0.1_3.gz\n",
      "Parsing file ...Done\n",
      "Opening file: ../raw_outputs/Interference_og/2/UE40/V30/SCHED_2_UE_40_V_30_D_0.1_4.gz\n",
      "Parsing file ...Done\n",
      "Opening file: ../raw_outputs/Interference_og/2/UE40/V30/SCHED_2_UE_40_V_30_D_0.1_5.gz\n",
      "Parsing file ...Done\n",
      "Opening file: ../raw_outputs/Interference_og/2/UE50/V30/SCHED_2_UE_50_V_30_D_0.1_1.gz\n",
      "Parsing file ...Done\n",
      "Opening file: ../raw_outputs/Interference_og/2/UE50/V30/SCHED_2_UE_50_V_30_D_0.1_2.gz\n",
      "Parsing file ...Done\n",
      "Opening file: ../raw_outputs/Interference_og/2/UE50/V30/SCHED_2_UE_50_V_30_D_0.1_3.gz\n",
      "Parsing file ...Done\n",
      "Opening file: ../raw_outputs/Interference_og/2/UE50/V30/SCHED_2_UE_50_V_30_D_0.1_4.gz\n",
      "Parsing file ...Done\n",
      "Opening file: ../raw_outputs/Interference_og/2/UE50/V30/SCHED_2_UE_50_V_30_D_0.1_5.gz\n",
      "Parsing file ...Done\n",
      "Opening file: ../raw_outputs/Interference_og/2/UE60/V30/SCHED_2_UE_60_V_30_D_0.1_1.gz\n",
      "Parsing file ...Done\n",
      "Opening file: ../raw_outputs/Interference_og/2/UE60/V30/SCHED_2_UE_60_V_30_D_0.1_2.gz\n",
      "Parsing file ...Done\n",
      "Opening file: ../raw_outputs/Interference_og/2/UE60/V30/SCHED_2_UE_60_V_30_D_0.1_3.gz\n",
      "Parsing file ...Done\n",
      "Opening file: ../raw_outputs/Interference_og/2/UE60/V30/SCHED_2_UE_60_V_30_D_0.1_4.gz\n",
      "Parsing file ...Done\n",
      "Opening file: ../raw_outputs/Interference_og/2/UE60/V30/SCHED_2_UE_60_V_30_D_0.1_5.gz\n",
      "Parsing file ...Done\n",
      "Opening file: ../raw_outputs/Interference_og/2/UE70/V30/SCHED_2_UE_70_V_30_D_0.1_1.gz\n",
      "Parsing file ...Done\n",
      "Opening file: ../raw_outputs/Interference_og/2/UE70/V30/SCHED_2_UE_70_V_30_D_0.1_2.gz\n",
      "Parsing file ...Done\n",
      "Opening file: ../raw_outputs/Interference_og/2/UE70/V30/SCHED_2_UE_70_V_30_D_0.1_3.gz\n",
      "Parsing file ...Done\n",
      "Opening file: ../raw_outputs/Interference_og/2/UE70/V30/SCHED_2_UE_70_V_30_D_0.1_4.gz\n",
      "Parsing file ...Done\n",
      "Opening file: ../raw_outputs/Interference_og/2/UE70/V30/SCHED_2_UE_70_V_30_D_0.1_5.gz\n",
      "Parsing file ...Done\n",
      "Opening file: ../raw_outputs/Interference_og/2/UE80/V30/SCHED_2_UE_80_V_30_D_0.1_1.gz\n",
      "Parsing file ...Done\n",
      "Opening file: ../raw_outputs/Interference_og/2/UE80/V30/SCHED_2_UE_80_V_30_D_0.1_2.gz\n"
     ]
    },
    {
     "name": "stdout",
     "output_type": "stream",
     "text": [
      "Parsing file ...Done\n",
      "Opening file: ../raw_outputs/Interference_og/2/UE80/V30/SCHED_2_UE_80_V_30_D_0.1_3.gz\n",
      "Parsing file ...Done\n",
      "Opening file: ../raw_outputs/Interference_og/2/UE80/V30/SCHED_2_UE_80_V_30_D_0.1_4.gz\n",
      "Parsing file ...Done\n",
      "Opening file: ../raw_outputs/Interference_og/2/UE80/V30/SCHED_2_UE_80_V_30_D_0.1_5.gz\n",
      "Parsing file ...Done\n",
      "Opening file: ../raw_outputs/Interference_og/2/UE90/V30/SCHED_2_UE_90_V_30_D_0.1_1.gz\n",
      "Parsing file ...Done\n",
      "Opening file: ../raw_outputs/Interference_og/2/UE90/V30/SCHED_2_UE_90_V_30_D_0.1_2.gz\n",
      "Parsing file ...Done\n",
      "Opening file: ../raw_outputs/Interference_og/2/UE90/V30/SCHED_2_UE_90_V_30_D_0.1_3.gz\n",
      "Parsing file ...Done\n",
      "Opening file: ../raw_outputs/Interference_og/2/UE90/V30/SCHED_2_UE_90_V_30_D_0.1_4.gz\n",
      "Parsing file ...Done\n",
      "Opening file: ../raw_outputs/Interference_og/2/UE90/V30/SCHED_2_UE_90_V_30_D_0.1_5.gz\n",
      "Parsing file ...Done\n",
      "Opening file: ../raw_outputs/Interference_og/2/UE100/V30/SCHED_2_UE_100_V_30_D_0.1_1.gz\n",
      "Parsing file ...Done\n",
      "Opening file: ../raw_outputs/Interference_og/2/UE100/V30/SCHED_2_UE_100_V_30_D_0.1_2.gz\n",
      "Parsing file ...Done\n",
      "Opening file: ../raw_outputs/Interference_og/2/UE100/V30/SCHED_2_UE_100_V_30_D_0.1_3.gz\n",
      "Parsing file ...Done\n",
      "Opening file: ../raw_outputs/Interference_og/2/UE100/V30/SCHED_2_UE_100_V_30_D_0.1_4.gz\n",
      "Parsing file ...Done\n",
      "Opening file: ../raw_outputs/Interference_og/2/UE100/V30/SCHED_2_UE_100_V_30_D_0.1_5.gz\n",
      "Parsing file ...Done\n",
      "Opening file: ../raw_outputs/Interference_og/3/UE20/V30/SCHED_3_UE_20_V_30_D_0.1_1.gz\n",
      "Parsing file ...Done\n",
      "Opening file: ../raw_outputs/Interference_og/3/UE20/V30/SCHED_3_UE_20_V_30_D_0.1_2.gz\n",
      "Parsing file ...Done\n",
      "Opening file: ../raw_outputs/Interference_og/3/UE20/V30/SCHED_3_UE_20_V_30_D_0.1_3.gz\n",
      "Parsing file ...Done\n",
      "Opening file: ../raw_outputs/Interference_og/3/UE20/V30/SCHED_3_UE_20_V_30_D_0.1_4.gz\n",
      "Parsing file ...Done\n",
      "Opening file: ../raw_outputs/Interference_og/3/UE20/V30/SCHED_3_UE_20_V_30_D_0.1_5.gz\n",
      "Parsing file ...Done\n",
      "Opening file: ../raw_outputs/Interference_og/3/UE30/V30/SCHED_3_UE_30_V_30_D_0.1_1.gz\n",
      "Parsing file ...Done\n",
      "Opening file: ../raw_outputs/Interference_og/3/UE30/V30/SCHED_3_UE_30_V_30_D_0.1_2.gz\n",
      "Parsing file ...Done\n",
      "Opening file: ../raw_outputs/Interference_og/3/UE30/V30/SCHED_3_UE_30_V_30_D_0.1_3.gz\n",
      "Parsing file ...Done\n",
      "Opening file: ../raw_outputs/Interference_og/3/UE30/V30/SCHED_3_UE_30_V_30_D_0.1_4.gz\n",
      "Parsing file ...Done\n",
      "Opening file: ../raw_outputs/Interference_og/3/UE30/V30/SCHED_3_UE_30_V_30_D_0.1_5.gz\n",
      "Parsing file ...Done\n",
      "Opening file: ../raw_outputs/Interference_og/3/UE40/V30/SCHED_3_UE_40_V_30_D_0.1_1.gz\n",
      "Parsing file ...Done\n",
      "Opening file: ../raw_outputs/Interference_og/3/UE40/V30/SCHED_3_UE_40_V_30_D_0.1_2.gz\n",
      "Parsing file ...Done\n",
      "Opening file: ../raw_outputs/Interference_og/3/UE40/V30/SCHED_3_UE_40_V_30_D_0.1_3.gz\n",
      "Parsing file ...Done\n",
      "Opening file: ../raw_outputs/Interference_og/3/UE40/V30/SCHED_3_UE_40_V_30_D_0.1_4.gz\n",
      "Parsing file ...Done\n",
      "Opening file: ../raw_outputs/Interference_og/3/UE40/V30/SCHED_3_UE_40_V_30_D_0.1_5.gz\n",
      "Parsing file ...Done\n",
      "Opening file: ../raw_outputs/Interference_og/3/UE50/V30/SCHED_3_UE_50_V_30_D_0.1_1.gz\n",
      "Parsing file ...Done\n",
      "Opening file: ../raw_outputs/Interference_og/3/UE50/V30/SCHED_3_UE_50_V_30_D_0.1_2.gz\n",
      "Parsing file ...Done\n",
      "Opening file: ../raw_outputs/Interference_og/3/UE50/V30/SCHED_3_UE_50_V_30_D_0.1_3.gz\n",
      "Parsing file ...Done\n",
      "Opening file: ../raw_outputs/Interference_og/3/UE50/V30/SCHED_3_UE_50_V_30_D_0.1_4.gz\n",
      "Parsing file ...Done\n",
      "Opening file: ../raw_outputs/Interference_og/3/UE50/V30/SCHED_3_UE_50_V_30_D_0.1_5.gz\n",
      "Parsing file ...Done\n",
      "Opening file: ../raw_outputs/Interference_og/3/UE60/V30/SCHED_3_UE_60_V_30_D_0.1_1.gz\n",
      "Parsing file ...Done\n",
      "Opening file: ../raw_outputs/Interference_og/3/UE60/V30/SCHED_3_UE_60_V_30_D_0.1_2.gz\n",
      "Parsing file ...Done\n",
      "Opening file: ../raw_outputs/Interference_og/3/UE60/V30/SCHED_3_UE_60_V_30_D_0.1_3.gz\n",
      "Parsing file ...Done\n",
      "Opening file: ../raw_outputs/Interference_og/3/UE60/V30/SCHED_3_UE_60_V_30_D_0.1_4.gz\n",
      "Parsing file ...Done\n",
      "Opening file: ../raw_outputs/Interference_og/3/UE60/V30/SCHED_3_UE_60_V_30_D_0.1_5.gz\n",
      "Parsing file ...Done\n",
      "Opening file: ../raw_outputs/Interference_og/3/UE70/V30/SCHED_3_UE_70_V_30_D_0.1_1.gz\n",
      "Parsing file ...Done\n",
      "Opening file: ../raw_outputs/Interference_og/3/UE70/V30/SCHED_3_UE_70_V_30_D_0.1_2.gz\n",
      "Parsing file ...Done\n",
      "Opening file: ../raw_outputs/Interference_og/3/UE70/V30/SCHED_3_UE_70_V_30_D_0.1_3.gz\n",
      "Parsing file ...Done\n",
      "Opening file: ../raw_outputs/Interference_og/3/UE70/V30/SCHED_3_UE_70_V_30_D_0.1_4.gz\n",
      "Parsing file ...Done\n",
      "Opening file: ../raw_outputs/Interference_og/3/UE70/V30/SCHED_3_UE_70_V_30_D_0.1_5.gz\n",
      "Parsing file ...Done\n",
      "Opening file: ../raw_outputs/Interference_og/3/UE80/V30/SCHED_3_UE_80_V_30_D_0.1_1.gz\n",
      "Parsing file ...Done\n",
      "Opening file: ../raw_outputs/Interference_og/3/UE80/V30/SCHED_3_UE_80_V_30_D_0.1_2.gz\n",
      "Parsing file ...Done\n",
      "Opening file: ../raw_outputs/Interference_og/3/UE80/V30/SCHED_3_UE_80_V_30_D_0.1_3.gz\n",
      "Parsing file ...Done\n",
      "Opening file: ../raw_outputs/Interference_og/3/UE80/V30/SCHED_3_UE_80_V_30_D_0.1_4.gz\n",
      "Parsing file ...Done\n",
      "Opening file: ../raw_outputs/Interference_og/3/UE80/V30/SCHED_3_UE_80_V_30_D_0.1_5.gz\n",
      "Parsing file ...Done\n",
      "Opening file: ../raw_outputs/Interference_og/3/UE90/V30/SCHED_3_UE_90_V_30_D_0.1_1.gz\n",
      "Parsing file ...Done\n",
      "Opening file: ../raw_outputs/Interference_og/3/UE90/V30/SCHED_3_UE_90_V_30_D_0.1_2.gz\n",
      "Parsing file ...Done\n",
      "Opening file: ../raw_outputs/Interference_og/3/UE90/V30/SCHED_3_UE_90_V_30_D_0.1_3.gz\n",
      "Parsing file ...Done\n",
      "Opening file: ../raw_outputs/Interference_og/3/UE90/V30/SCHED_3_UE_90_V_30_D_0.1_4.gz\n",
      "Parsing file ...Done\n",
      "Opening file: ../raw_outputs/Interference_og/3/UE90/V30/SCHED_3_UE_90_V_30_D_0.1_5.gz\n",
      "Parsing file ...Done\n",
      "Opening file: ../raw_outputs/Interference_og/3/UE100/V30/SCHED_3_UE_100_V_30_D_0.1_1.gz\n",
      "Parsing file ...Done\n",
      "Opening file: ../raw_outputs/Interference_og/3/UE100/V30/SCHED_3_UE_100_V_30_D_0.1_2.gz\n",
      "Parsing file ...Done\n",
      "Opening file: ../raw_outputs/Interference_og/3/UE100/V30/SCHED_3_UE_100_V_30_D_0.1_3.gz\n",
      "Parsing file ...Done\n",
      "Opening file: ../raw_outputs/Interference_og/3/UE100/V30/SCHED_3_UE_100_V_30_D_0.1_4.gz\n",
      "Parsing file ...Done\n",
      "Opening file: ../raw_outputs/Interference_og/3/UE100/V30/SCHED_3_UE_100_V_30_D_0.1_5.gz\n",
      "Parsing file ...Done\n",
      "Opening file: ../raw_outputs/Interference_og/4/UE20/V30/SCHED_4_UE_20_V_30_D_0.1_1.gz\n",
      "Parsing file ...Done\n",
      "Opening file: ../raw_outputs/Interference_og/4/UE20/V30/SCHED_4_UE_20_V_30_D_0.1_2.gz\n",
      "Parsing file ...Done\n",
      "Opening file: ../raw_outputs/Interference_og/4/UE20/V30/SCHED_4_UE_20_V_30_D_0.1_3.gz\n",
      "Parsing file ...Done\n",
      "Opening file: ../raw_outputs/Interference_og/4/UE20/V30/SCHED_4_UE_20_V_30_D_0.1_4.gz\n",
      "Parsing file ...Done\n",
      "Opening file: ../raw_outputs/Interference_og/4/UE20/V30/SCHED_4_UE_20_V_30_D_0.1_5.gz\n",
      "Parsing file ...Done\n",
      "Opening file: ../raw_outputs/Interference_og/4/UE30/V30/SCHED_4_UE_30_V_30_D_0.1_1.gz\n",
      "Parsing file ...Done\n",
      "Opening file: ../raw_outputs/Interference_og/4/UE30/V30/SCHED_4_UE_30_V_30_D_0.1_2.gz\n",
      "Parsing file ...Done\n",
      "Opening file: ../raw_outputs/Interference_og/4/UE30/V30/SCHED_4_UE_30_V_30_D_0.1_3.gz\n",
      "Parsing file ...Done\n",
      "Opening file: ../raw_outputs/Interference_og/4/UE30/V30/SCHED_4_UE_30_V_30_D_0.1_4.gz\n",
      "Parsing file ...Done\n",
      "Opening file: ../raw_outputs/Interference_og/4/UE30/V30/SCHED_4_UE_30_V_30_D_0.1_5.gz\n",
      "Parsing file ...Done\n",
      "Opening file: ../raw_outputs/Interference_og/4/UE40/V30/SCHED_4_UE_40_V_30_D_0.1_1.gz\n",
      "Parsing file ...Done\n",
      "Opening file: ../raw_outputs/Interference_og/4/UE40/V30/SCHED_4_UE_40_V_30_D_0.1_2.gz\n",
      "Parsing file ...Done\n",
      "Opening file: ../raw_outputs/Interference_og/4/UE40/V30/SCHED_4_UE_40_V_30_D_0.1_3.gz\n",
      "Parsing file ...Done\n",
      "Opening file: ../raw_outputs/Interference_og/4/UE40/V30/SCHED_4_UE_40_V_30_D_0.1_4.gz\n",
      "Parsing file ...Done\n",
      "Opening file: ../raw_outputs/Interference_og/4/UE40/V30/SCHED_4_UE_40_V_30_D_0.1_5.gz\n",
      "Parsing file ...Done\n",
      "Opening file: ../raw_outputs/Interference_og/4/UE50/V30/SCHED_4_UE_50_V_30_D_0.1_1.gz\n",
      "Parsing file ...Done\n",
      "Opening file: ../raw_outputs/Interference_og/4/UE50/V30/SCHED_4_UE_50_V_30_D_0.1_2.gz\n",
      "Parsing file ...Done\n",
      "Opening file: ../raw_outputs/Interference_og/4/UE50/V30/SCHED_4_UE_50_V_30_D_0.1_3.gz\n",
      "Parsing file ...Done\n",
      "Opening file: ../raw_outputs/Interference_og/4/UE50/V30/SCHED_4_UE_50_V_30_D_0.1_4.gz\n"
     ]
    },
    {
     "name": "stdout",
     "output_type": "stream",
     "text": [
      "Parsing file ...Done\n",
      "Opening file: ../raw_outputs/Interference_og/4/UE50/V30/SCHED_4_UE_50_V_30_D_0.1_5.gz\n",
      "Parsing file ...Done\n",
      "Opening file: ../raw_outputs/Interference_og/4/UE60/V30/SCHED_4_UE_60_V_30_D_0.1_1.gz\n",
      "Parsing file ...Done\n",
      "Opening file: ../raw_outputs/Interference_og/4/UE60/V30/SCHED_4_UE_60_V_30_D_0.1_2.gz\n",
      "Parsing file ...Done\n",
      "Opening file: ../raw_outputs/Interference_og/4/UE60/V30/SCHED_4_UE_60_V_30_D_0.1_3.gz\n",
      "Parsing file ...Done\n",
      "Opening file: ../raw_outputs/Interference_og/4/UE60/V30/SCHED_4_UE_60_V_30_D_0.1_4.gz\n",
      "Parsing file ...Done\n",
      "Opening file: ../raw_outputs/Interference_og/4/UE60/V30/SCHED_4_UE_60_V_30_D_0.1_5.gz\n",
      "Parsing file ...Done\n",
      "Opening file: ../raw_outputs/Interference_og/4/UE70/V30/SCHED_4_UE_70_V_30_D_0.1_1.gz\n",
      "Parsing file ...Done\n",
      "Opening file: ../raw_outputs/Interference_og/4/UE70/V30/SCHED_4_UE_70_V_30_D_0.1_2.gz\n",
      "Parsing file ...Done\n",
      "Opening file: ../raw_outputs/Interference_og/4/UE70/V30/SCHED_4_UE_70_V_30_D_0.1_3.gz\n",
      "Parsing file ...Done\n",
      "Opening file: ../raw_outputs/Interference_og/4/UE70/V30/SCHED_4_UE_70_V_30_D_0.1_4.gz\n",
      "Parsing file ...Done\n",
      "Opening file: ../raw_outputs/Interference_og/4/UE70/V30/SCHED_4_UE_70_V_30_D_0.1_5.gz\n",
      "Parsing file ...Done\n",
      "Opening file: ../raw_outputs/Interference_og/4/UE80/V30/SCHED_4_UE_80_V_30_D_0.1_1.gz\n",
      "Parsing file ...Done\n",
      "Opening file: ../raw_outputs/Interference_og/4/UE80/V30/SCHED_4_UE_80_V_30_D_0.1_2.gz\n",
      "Parsing file ...Done\n",
      "Opening file: ../raw_outputs/Interference_og/4/UE80/V30/SCHED_4_UE_80_V_30_D_0.1_3.gz\n",
      "Parsing file ...Done\n",
      "Opening file: ../raw_outputs/Interference_og/4/UE80/V30/SCHED_4_UE_80_V_30_D_0.1_4.gz\n",
      "Parsing file ...Done\n",
      "Opening file: ../raw_outputs/Interference_og/4/UE80/V30/SCHED_4_UE_80_V_30_D_0.1_5.gz\n",
      "Parsing file ...Done\n",
      "Opening file: ../raw_outputs/Interference_og/4/UE90/V30/SCHED_4_UE_90_V_30_D_0.1_1.gz\n",
      "Parsing file ...Done\n",
      "Opening file: ../raw_outputs/Interference_og/4/UE90/V30/SCHED_4_UE_90_V_30_D_0.1_2.gz\n",
      "Parsing file ...Done\n",
      "Opening file: ../raw_outputs/Interference_og/4/UE90/V30/SCHED_4_UE_90_V_30_D_0.1_3.gz\n",
      "Parsing file ...Done\n",
      "Opening file: ../raw_outputs/Interference_og/4/UE90/V30/SCHED_4_UE_90_V_30_D_0.1_4.gz\n",
      "Parsing file ...Done\n",
      "Opening file: ../raw_outputs/Interference_og/4/UE90/V30/SCHED_4_UE_90_V_30_D_0.1_5.gz\n",
      "Parsing file ...Done\n",
      "Opening file: ../raw_outputs/Interference_og/4/UE100/V30/SCHED_4_UE_100_V_30_D_0.1_1.gz\n",
      "Parsing file ...Done\n",
      "Opening file: ../raw_outputs/Interference_og/4/UE100/V30/SCHED_4_UE_100_V_30_D_0.1_2.gz\n",
      "Parsing file ...Done\n",
      "Opening file: ../raw_outputs/Interference_og/4/UE100/V30/SCHED_4_UE_100_V_30_D_0.1_3.gz\n",
      "Parsing file ...Done\n",
      "Opening file: ../raw_outputs/Interference_og/4/UE100/V30/SCHED_4_UE_100_V_30_D_0.1_4.gz\n",
      "Parsing file ...Done\n",
      "Opening file: ../raw_outputs/Interference_og/4/UE100/V30/SCHED_4_UE_100_V_30_D_0.1_5.gz\n",
      "Parsing file ...Done\n",
      "Opening file: ../raw_outputs/Interference_og/5/UE20/V30/SCHED_5_UE_20_V_30_D_0.1_1.gz\n",
      "Parsing file ...Done\n",
      "Opening file: ../raw_outputs/Interference_og/5/UE20/V30/SCHED_5_UE_20_V_30_D_0.1_2.gz\n",
      "Parsing file ...Done\n",
      "Opening file: ../raw_outputs/Interference_og/5/UE20/V30/SCHED_5_UE_20_V_30_D_0.1_3.gz\n",
      "Parsing file ...Done\n",
      "Opening file: ../raw_outputs/Interference_og/5/UE20/V30/SCHED_5_UE_20_V_30_D_0.1_4.gz\n",
      "Parsing file ...Done\n",
      "Opening file: ../raw_outputs/Interference_og/5/UE20/V30/SCHED_5_UE_20_V_30_D_0.1_5.gz\n",
      "Parsing file ...Done\n",
      "Opening file: ../raw_outputs/Interference_og/5/UE30/V30/SCHED_5_UE_30_V_30_D_0.1_1.gz\n",
      "Parsing file ...Done\n",
      "Opening file: ../raw_outputs/Interference_og/5/UE30/V30/SCHED_5_UE_30_V_30_D_0.1_2.gz\n",
      "Parsing file ...Done\n",
      "Opening file: ../raw_outputs/Interference_og/5/UE30/V30/SCHED_5_UE_30_V_30_D_0.1_3.gz\n",
      "Parsing file ...Done\n",
      "Opening file: ../raw_outputs/Interference_og/5/UE30/V30/SCHED_5_UE_30_V_30_D_0.1_4.gz\n",
      "Parsing file ...Done\n",
      "Opening file: ../raw_outputs/Interference_og/5/UE30/V30/SCHED_5_UE_30_V_30_D_0.1_5.gz\n",
      "Parsing file ...Done\n",
      "Opening file: ../raw_outputs/Interference_og/5/UE40/V30/SCHED_5_UE_40_V_30_D_0.1_1.gz\n",
      "Parsing file ...Done\n",
      "Opening file: ../raw_outputs/Interference_og/5/UE40/V30/SCHED_5_UE_40_V_30_D_0.1_2.gz\n",
      "Parsing file ...Done\n",
      "Opening file: ../raw_outputs/Interference_og/5/UE40/V30/SCHED_5_UE_40_V_30_D_0.1_3.gz\n",
      "Parsing file ...Done\n",
      "Opening file: ../raw_outputs/Interference_og/5/UE40/V30/SCHED_5_UE_40_V_30_D_0.1_4.gz\n",
      "Parsing file ...Done\n",
      "Opening file: ../raw_outputs/Interference_og/5/UE40/V30/SCHED_5_UE_40_V_30_D_0.1_5.gz\n",
      "Parsing file ...Done\n",
      "Opening file: ../raw_outputs/Interference_og/5/UE50/V30/SCHED_5_UE_50_V_30_D_0.1_1.gz\n",
      "Parsing file ...Done\n",
      "Opening file: ../raw_outputs/Interference_og/5/UE50/V30/SCHED_5_UE_50_V_30_D_0.1_2.gz\n",
      "Parsing file ...Done\n",
      "Opening file: ../raw_outputs/Interference_og/5/UE50/V30/SCHED_5_UE_50_V_30_D_0.1_3.gz\n",
      "Parsing file ...Done\n",
      "Opening file: ../raw_outputs/Interference_og/5/UE50/V30/SCHED_5_UE_50_V_30_D_0.1_4.gz\n",
      "Parsing file ...Done\n",
      "Opening file: ../raw_outputs/Interference_og/5/UE50/V30/SCHED_5_UE_50_V_30_D_0.1_5.gz\n",
      "Parsing file ...Done\n",
      "Opening file: ../raw_outputs/Interference_og/5/UE60/V30/SCHED_5_UE_60_V_30_D_0.1_1.gz\n",
      "Parsing file ...Done\n",
      "Opening file: ../raw_outputs/Interference_og/5/UE60/V30/SCHED_5_UE_60_V_30_D_0.1_2.gz\n",
      "Parsing file ...Done\n",
      "Opening file: ../raw_outputs/Interference_og/5/UE60/V30/SCHED_5_UE_60_V_30_D_0.1_3.gz\n",
      "Parsing file ...Done\n",
      "Opening file: ../raw_outputs/Interference_og/5/UE60/V30/SCHED_5_UE_60_V_30_D_0.1_4.gz\n",
      "Parsing file ...Done\n",
      "Opening file: ../raw_outputs/Interference_og/5/UE60/V30/SCHED_5_UE_60_V_30_D_0.1_5.gz\n",
      "Parsing file ...Done\n",
      "Opening file: ../raw_outputs/Interference_og/5/UE70/V30/SCHED_5_UE_70_V_30_D_0.1_1.gz\n",
      "Parsing file ...Done\n",
      "Opening file: ../raw_outputs/Interference_og/5/UE70/V30/SCHED_5_UE_70_V_30_D_0.1_2.gz\n",
      "Parsing file ...Done\n",
      "Opening file: ../raw_outputs/Interference_og/5/UE70/V30/SCHED_5_UE_70_V_30_D_0.1_3.gz\n",
      "Parsing file ...Done\n",
      "Opening file: ../raw_outputs/Interference_og/5/UE70/V30/SCHED_5_UE_70_V_30_D_0.1_4.gz\n",
      "Parsing file ...Done\n",
      "Opening file: ../raw_outputs/Interference_og/5/UE70/V30/SCHED_5_UE_70_V_30_D_0.1_5.gz\n",
      "Parsing file ...Done\n",
      "Opening file: ../raw_outputs/Interference_og/5/UE80/V30/SCHED_5_UE_80_V_30_D_0.1_1.gz\n",
      "Parsing file ...Done\n",
      "Opening file: ../raw_outputs/Interference_og/5/UE80/V30/SCHED_5_UE_80_V_30_D_0.1_2.gz\n",
      "Parsing file ...Done\n",
      "Opening file: ../raw_outputs/Interference_og/5/UE80/V30/SCHED_5_UE_80_V_30_D_0.1_3.gz\n",
      "Parsing file ...Done\n",
      "Opening file: ../raw_outputs/Interference_og/5/UE80/V30/SCHED_5_UE_80_V_30_D_0.1_4.gz\n",
      "Parsing file ...Done\n",
      "Opening file: ../raw_outputs/Interference_og/5/UE80/V30/SCHED_5_UE_80_V_30_D_0.1_5.gz\n",
      "Parsing file ...Done\n",
      "Opening file: ../raw_outputs/Interference_og/5/UE90/V30/SCHED_5_UE_90_V_30_D_0.1_1.gz\n",
      "Parsing file ...Done\n",
      "Opening file: ../raw_outputs/Interference_og/5/UE90/V30/SCHED_5_UE_90_V_30_D_0.1_2.gz\n",
      "Parsing file ...Done\n",
      "Opening file: ../raw_outputs/Interference_og/5/UE90/V30/SCHED_5_UE_90_V_30_D_0.1_3.gz\n",
      "Parsing file ...Done\n",
      "Opening file: ../raw_outputs/Interference_og/5/UE90/V30/SCHED_5_UE_90_V_30_D_0.1_4.gz\n",
      "Parsing file ...Done\n",
      "Opening file: ../raw_outputs/Interference_og/5/UE90/V30/SCHED_5_UE_90_V_30_D_0.1_5.gz\n",
      "Parsing file ...Done\n",
      "Opening file: ../raw_outputs/Interference_og/5/UE100/V30/SCHED_5_UE_100_V_30_D_0.1_1.gz\n",
      "Parsing file ...Done\n",
      "Opening file: ../raw_outputs/Interference_og/5/UE100/V30/SCHED_5_UE_100_V_30_D_0.1_2.gz\n",
      "Parsing file ...Done\n",
      "Opening file: ../raw_outputs/Interference_og/5/UE100/V30/SCHED_5_UE_100_V_30_D_0.1_3.gz\n",
      "Parsing file ...Done\n",
      "Opening file: ../raw_outputs/Interference_og/5/UE100/V30/SCHED_5_UE_100_V_30_D_0.1_4.gz\n",
      "Parsing file ...Done\n",
      "Opening file: ../raw_outputs/Interference_og/5/UE100/V30/SCHED_5_UE_100_V_30_D_0.1_5.gz\n",
      "Parsing file ...Done\n",
      "Opening file: ../raw_outputs/Interference_og/6/UE20/V30/SCHED_6_UE_20_V_30_D_0.1_1.gz\n",
      "Parsing file ...Done\n",
      "Opening file: ../raw_outputs/Interference_og/6/UE20/V30/SCHED_6_UE_20_V_30_D_0.1_2.gz\n",
      "Parsing file ...Done\n",
      "Opening file: ../raw_outputs/Interference_og/6/UE20/V30/SCHED_6_UE_20_V_30_D_0.1_3.gz\n",
      "Parsing file ...Done\n",
      "Opening file: ../raw_outputs/Interference_og/6/UE20/V30/SCHED_6_UE_20_V_30_D_0.1_4.gz\n",
      "Parsing file ...Done\n",
      "Opening file: ../raw_outputs/Interference_og/6/UE20/V30/SCHED_6_UE_20_V_30_D_0.1_5.gz\n",
      "Parsing file ...Done\n",
      "Opening file: ../raw_outputs/Interference_og/6/UE30/V30/SCHED_6_UE_30_V_30_D_0.1_1.gz\n"
     ]
    },
    {
     "name": "stdout",
     "output_type": "stream",
     "text": [
      "Parsing file ...Done\n",
      "Opening file: ../raw_outputs/Interference_og/6/UE30/V30/SCHED_6_UE_30_V_30_D_0.1_2.gz\n",
      "Parsing file ...Done\n",
      "Opening file: ../raw_outputs/Interference_og/6/UE30/V30/SCHED_6_UE_30_V_30_D_0.1_3.gz\n",
      "Parsing file ...Done\n",
      "Opening file: ../raw_outputs/Interference_og/6/UE30/V30/SCHED_6_UE_30_V_30_D_0.1_4.gz\n",
      "Parsing file ...Done\n",
      "Opening file: ../raw_outputs/Interference_og/6/UE30/V30/SCHED_6_UE_30_V_30_D_0.1_5.gz\n",
      "Parsing file ...Done\n",
      "Opening file: ../raw_outputs/Interference_og/6/UE40/V30/SCHED_6_UE_40_V_30_D_0.1_1.gz\n",
      "Parsing file ...Done\n",
      "Opening file: ../raw_outputs/Interference_og/6/UE40/V30/SCHED_6_UE_40_V_30_D_0.1_2.gz\n",
      "Parsing file ...Done\n",
      "Opening file: ../raw_outputs/Interference_og/6/UE40/V30/SCHED_6_UE_40_V_30_D_0.1_3.gz\n",
      "Parsing file ...Done\n",
      "Opening file: ../raw_outputs/Interference_og/6/UE40/V30/SCHED_6_UE_40_V_30_D_0.1_4.gz\n",
      "Parsing file ...Done\n",
      "Opening file: ../raw_outputs/Interference_og/6/UE40/V30/SCHED_6_UE_40_V_30_D_0.1_5.gz\n",
      "Parsing file ...Done\n",
      "Opening file: ../raw_outputs/Interference_og/6/UE50/V30/SCHED_6_UE_50_V_30_D_0.1_1.gz\n",
      "Parsing file ...Done\n",
      "Opening file: ../raw_outputs/Interference_og/6/UE50/V30/SCHED_6_UE_50_V_30_D_0.1_2.gz\n",
      "Parsing file ...Done\n",
      "Opening file: ../raw_outputs/Interference_og/6/UE50/V30/SCHED_6_UE_50_V_30_D_0.1_3.gz\n",
      "Parsing file ...Done\n",
      "Opening file: ../raw_outputs/Interference_og/6/UE50/V30/SCHED_6_UE_50_V_30_D_0.1_4.gz\n",
      "Parsing file ...Done\n",
      "Opening file: ../raw_outputs/Interference_og/6/UE50/V30/SCHED_6_UE_50_V_30_D_0.1_5.gz\n",
      "Parsing file ...Done\n",
      "Opening file: ../raw_outputs/Interference_og/6/UE60/V30/SCHED_6_UE_60_V_30_D_0.1_1.gz\n",
      "Parsing file ...Done\n",
      "Opening file: ../raw_outputs/Interference_og/6/UE60/V30/SCHED_6_UE_60_V_30_D_0.1_2.gz\n",
      "Parsing file ...Done\n",
      "Opening file: ../raw_outputs/Interference_og/6/UE60/V30/SCHED_6_UE_60_V_30_D_0.1_3.gz\n",
      "Parsing file ...Done\n",
      "Opening file: ../raw_outputs/Interference_og/6/UE60/V30/SCHED_6_UE_60_V_30_D_0.1_4.gz\n",
      "Parsing file ...Done\n",
      "Opening file: ../raw_outputs/Interference_og/6/UE60/V30/SCHED_6_UE_60_V_30_D_0.1_5.gz\n",
      "Parsing file ...Done\n",
      "Opening file: ../raw_outputs/Interference_og/6/UE70/V30/SCHED_6_UE_70_V_30_D_0.1_1.gz\n",
      "Parsing file ...Done\n",
      "Opening file: ../raw_outputs/Interference_og/6/UE70/V30/SCHED_6_UE_70_V_30_D_0.1_2.gz\n",
      "Parsing file ...Done\n",
      "Opening file: ../raw_outputs/Interference_og/6/UE70/V30/SCHED_6_UE_70_V_30_D_0.1_3.gz\n",
      "Parsing file ...Done\n",
      "Opening file: ../raw_outputs/Interference_og/6/UE70/V30/SCHED_6_UE_70_V_30_D_0.1_4.gz\n",
      "Parsing file ...Done\n",
      "Opening file: ../raw_outputs/Interference_og/6/UE70/V30/SCHED_6_UE_70_V_30_D_0.1_5.gz\n",
      "Parsing file ...Done\n",
      "Opening file: ../raw_outputs/Interference_og/6/UE80/V30/SCHED_6_UE_80_V_30_D_0.1_1.gz\n",
      "Parsing file ...Done\n",
      "Opening file: ../raw_outputs/Interference_og/6/UE80/V30/SCHED_6_UE_80_V_30_D_0.1_2.gz\n",
      "Parsing file ...Done\n",
      "Opening file: ../raw_outputs/Interference_og/6/UE80/V30/SCHED_6_UE_80_V_30_D_0.1_3.gz\n",
      "Parsing file ...Done\n",
      "Opening file: ../raw_outputs/Interference_og/6/UE80/V30/SCHED_6_UE_80_V_30_D_0.1_4.gz\n",
      "Parsing file ...Done\n",
      "Opening file: ../raw_outputs/Interference_og/6/UE80/V30/SCHED_6_UE_80_V_30_D_0.1_5.gz\n",
      "Parsing file ...Done\n",
      "Opening file: ../raw_outputs/Interference_og/6/UE90/V30/SCHED_6_UE_90_V_30_D_0.1_1.gz\n",
      "Parsing file ...Done\n",
      "Opening file: ../raw_outputs/Interference_og/6/UE90/V30/SCHED_6_UE_90_V_30_D_0.1_2.gz\n",
      "Parsing file ...Done\n",
      "Opening file: ../raw_outputs/Interference_og/6/UE90/V30/SCHED_6_UE_90_V_30_D_0.1_3.gz\n",
      "Parsing file ...Done\n",
      "Opening file: ../raw_outputs/Interference_og/6/UE90/V30/SCHED_6_UE_90_V_30_D_0.1_4.gz\n",
      "Parsing file ...Done\n",
      "Opening file: ../raw_outputs/Interference_og/6/UE90/V30/SCHED_6_UE_90_V_30_D_0.1_5.gz\n",
      "Parsing file ...Done\n",
      "Opening file: ../raw_outputs/Interference_og/6/UE100/V30/SCHED_6_UE_100_V_30_D_0.1_1.gz\n",
      "Parsing file ...Done\n",
      "Opening file: ../raw_outputs/Interference_og/6/UE100/V30/SCHED_6_UE_100_V_30_D_0.1_2.gz\n",
      "Parsing file ...Done\n",
      "Opening file: ../raw_outputs/Interference_og/6/UE100/V30/SCHED_6_UE_100_V_30_D_0.1_3.gz\n",
      "Parsing file ...Done\n",
      "Opening file: ../raw_outputs/Interference_og/6/UE100/V30/SCHED_6_UE_100_V_30_D_0.1_4.gz\n",
      "Parsing file ...Done\n",
      "Opening file: ../raw_outputs/Interference_og/6/UE100/V30/SCHED_6_UE_100_V_30_D_0.1_5.gz\n",
      "Parsing file ...Done\n"
     ]
    }
   ],
   "source": [
    "GPUTSVIDEO = {1: [], 2: [], 3: [], 4: [], 5: [], 6: []}\n",
    "FAIRVIDEO = {1: [], 2: [], 3: [], 4: [], 5: [], 6: []}\n",
    "DELAYVIDEO = {1: [], 2: [], 3: [], 4: [], 5: [], 6: []}\n",
    "JITTERVIDEO = {1: [], 2: [], 3: [], 4: [], 5: [], 6: []}\n",
    "GPUTSVOICE = {1: [], 2: [], 3: [], 4: [], 5: [], 6: []}\n",
    "FAIRVOICE = {1: [], 2: [], 3: [], 4: [], 5: [], 6: []}\n",
    "DELAYVOICE = {1: [], 2: [], 3: [], 4: [], 5: [], 6: []}\n",
    "JITTERVOICE = {1: [], 2: [], 3: [], 4: [], 5: [], 6: []}\n",
    "PACKETLOSS = {1: [], 2: [], 3: [], 4: [], 5: [], 6: []}\n",
    "for sched in GPUTSVIDEO:\n",
    "    for ue in range(20, 101, 10):\n",
    "        info = LTEParser.parse(files[sched][30][ue], 100)\n",
    "        GPUTSVIDEO[sched].append(info[0])\n",
    "        FAIRVIDEO[sched].append(info[1])\n",
    "        DELAYVIDEO[sched].append(info[2])\n",
    "        JITTERVIDEO[sched].append(info[3])\n",
    "        GPUTSVOICE[sched].append(info[4])\n",
    "        FAIRVOICE[sched].append(info[5])\n",
    "        DELAYVOICE[sched].append(info[6])\n",
    "        JITTERVOICE[sched].append(info[7])\n",
    "        PACKETLOSS[sched].append(info[8])\n",
    "    GPUTSVIDEO[sched] = np.array(GPUTSVIDEO[sched], dtype=np.float32)\n",
    "    FAIRVIDEO[sched] = np.array(FAIRVIDEO[sched], dtype=np.float32)\n",
    "    DELAYVIDEO[sched] = np.array(DELAYVIDEO[sched], dtype = np.float32)\n",
    "    DELAYVOICE[sched] = np.array(DELAYVOICE[sched], dtype = np.float32)\n",
    "    GPUTSVOICE[sched] = np.array(GPUTSVOICE[sched], dtype=np.float32)\n",
    "    FAIRVOICE[sched] = np.array(FAIRVOICE[sched], dtype=np.float32)\n",
    "    JITTERVIDEO[sched] = np.array(JITTERVIDEO[sched], dtype = np.float32)\n",
    "    JITTERVIDEO[sched] = np.array(JITTERVOICE[sched], dtype = np.float32)\n",
    "    PACKETLOSS[sched] = np.array(PACKETLOSS[sched], dtype=np.float32)"
   ]
  },
  {
   "cell_type": "markdown",
   "metadata": {},
   "source": [
    "# VIDEO GPUT MB/s"
   ]
  },
  {
   "cell_type": "code",
   "execution_count": 5,
   "metadata": {
    "scrolled": true
   },
   "outputs": [
    {
     "data": {
      "text/plain": [
       "{1: array([2.2148826, 2.364355 , 2.0977623, 1.6342621, 1.5218714, 1.5134265,\n",
       "        1.3793739, 1.2845742, 1.4390168], dtype=float32),\n",
       " 2: array([2.3386433, 3.0370286, 3.5265777, 3.8687956, 4.007427 , 3.8043218,\n",
       "        3.6177866, 3.637041 , 3.5646963], dtype=float32),\n",
       " 3: array([2.3376777, 3.1050265, 3.4144003, 3.5860052, 3.6668544, 3.7282517,\n",
       "        3.5658712, 3.5586884, 3.405538 ], dtype=float32),\n",
       " 4: array([2.5662441, 3.8338766, 5.0958242, 6.2881975, 7.2418613, 8.827848 ,\n",
       "        9.265413 , 9.164656 , 8.317621 ], dtype=float32),\n",
       " 5: array([2.548457 , 3.7641788, 4.8183255, 5.395972 , 5.5598655, 5.008074 ,\n",
       "        4.8029914, 4.5215826, 4.3137703], dtype=float32),\n",
       " 6: array([2.3204558, 3.0319798, 3.5857835, 3.7184653, 3.9279306, 3.7181394,\n",
       "        3.5940406, 3.6067681, 3.4143112], dtype=float32)}"
      ]
     },
     "execution_count": 5,
     "metadata": {},
     "output_type": "execute_result"
    }
   ],
   "source": [
    "MEGAVIDEO = {1: [], 2: [], 3: [], 4: [], 5: [], 6: []}\n",
    "for sched in GPUTSVIDEO:\n",
    "    MEGAVIDEO[sched] = np.true_divide(GPUTSVIDEO[sched], 8)\n",
    "MEGAVIDEO"
   ]
  },
  {
   "cell_type": "code",
   "execution_count": 6,
   "metadata": {
    "scrolled": true
   },
   "outputs": [
    {
     "data": {
      "text/plain": [
       "<matplotlib.axes._subplots.AxesSubplot at 0x23fb29d5cf8>"
      ]
     },
     "execution_count": 6,
     "metadata": {},
     "output_type": "execute_result"
    },
    {
     "data": {
      "image/png": "[encoded data removed]",
      "text/plain": [
       "<matplotlib.figure.Figure at 0x23fbb130cc0>"
      ]
     },
     "metadata": {
      "needs_background": "light"
     },
     "output_type": "display_data"
    }
   ],
   "source": [
    "dfGPUTVIDEO = pd.DataFrame({'PF': MEGAVIDEO[1], 'MLWDF': MEGAVIDEO[2], 'EXP': MEGAVIDEO[3],\n",
    "                       'FLS': MEGAVIDEO[4], 'EXPR': MEGAVIDEO[5], 'LOGR': MEGAVIDEO[6]},\n",
    "                      index=[20,30,40,50,60,70,80,90,100])\n",
    "dfGPUTVIDEO.plot.bar(rot=0)"
   ]
  },
  {
   "cell_type": "code",
   "execution_count": 7,
   "metadata": {
    "scrolled": false
   },
   "outputs": [
    {
     "data": {
      "text/html": [
       "<div>\n",
       "<style>\n",
       "    .dataframe thead tr:only-child th {\n",
       "        text-align: right;\n",
       "    }\n",
       "\n",
       "    .dataframe thead th {\n",
       "        text-align: left;\n",
       "    }\n",
       "\n",
       "    .dataframe tbody tr th {\n",
       "        vertical-align: top;\n",
       "    }\n",
       "</style>\n",
       "<table border=\"1\" class=\"dataframe\">\n",
       "  <thead>\n",
       "    <tr style=\"text-align: right;\">\n",
       "      <th></th>\n",
       "      <th>EXP</th>\n",
       "      <th>EXPR</th>\n",
       "      <th>FLS</th>\n",
       "      <th>LOGR</th>\n",
       "      <th>MLWDF</th>\n",
       "      <th>PF</th>\n",
       "    </tr>\n",
       "  </thead>\n",
       "  <tbody>\n",
       "    <tr>\n",
       "      <th>20</th>\n",
       "      <td>2.337678</td>\n",
       "      <td>2.548457</td>\n",
       "      <td>2.566244</td>\n",
       "      <td>2.320456</td>\n",
       "      <td>2.338643</td>\n",
       "      <td>2.214883</td>\n",
       "    </tr>\n",
       "    <tr>\n",
       "      <th>30</th>\n",
       "      <td>3.105026</td>\n",
       "      <td>3.764179</td>\n",
       "      <td>3.833877</td>\n",
       "      <td>3.031980</td>\n",
       "      <td>3.037029</td>\n",
       "      <td>2.364355</td>\n",
       "    </tr>\n",
       "    <tr>\n",
       "      <th>40</th>\n",
       "      <td>3.414400</td>\n",
       "      <td>4.818326</td>\n",
       "      <td>5.095824</td>\n",
       "      <td>3.585783</td>\n",
       "      <td>3.526578</td>\n",
       "      <td>2.097762</td>\n",
       "    </tr>\n",
       "    <tr>\n",
       "      <th>50</th>\n",
       "      <td>3.586005</td>\n",
       "      <td>5.395972</td>\n",
       "      <td>6.288198</td>\n",
       "      <td>3.718465</td>\n",
       "      <td>3.868796</td>\n",
       "      <td>1.634262</td>\n",
       "    </tr>\n",
       "    <tr>\n",
       "      <th>60</th>\n",
       "      <td>3.666854</td>\n",
       "      <td>5.559865</td>\n",
       "      <td>7.241861</td>\n",
       "      <td>3.927931</td>\n",
       "      <td>4.007427</td>\n",
       "      <td>1.521871</td>\n",
       "    </tr>\n",
       "    <tr>\n",
       "      <th>70</th>\n",
       "      <td>3.728252</td>\n",
       "      <td>5.008074</td>\n",
       "      <td>8.827848</td>\n",
       "      <td>3.718139</td>\n",
       "      <td>3.804322</td>\n",
       "      <td>1.513427</td>\n",
       "    </tr>\n",
       "    <tr>\n",
       "      <th>80</th>\n",
       "      <td>3.565871</td>\n",
       "      <td>4.802991</td>\n",
       "      <td>9.265413</td>\n",
       "      <td>3.594041</td>\n",
       "      <td>3.617787</td>\n",
       "      <td>1.379374</td>\n",
       "    </tr>\n",
       "    <tr>\n",
       "      <th>90</th>\n",
       "      <td>3.558688</td>\n",
       "      <td>4.521583</td>\n",
       "      <td>9.164656</td>\n",
       "      <td>3.606768</td>\n",
       "      <td>3.637041</td>\n",
       "      <td>1.284574</td>\n",
       "    </tr>\n",
       "    <tr>\n",
       "      <th>100</th>\n",
       "      <td>3.405538</td>\n",
       "      <td>4.313770</td>\n",
       "      <td>8.317621</td>\n",
       "      <td>3.414311</td>\n",
       "      <td>3.564696</td>\n",
       "      <td>1.439017</td>\n",
       "    </tr>\n",
       "  </tbody>\n",
       "</table>\n",
       "</div>"
      ],
      "text/plain": [
       "          EXP      EXPR       FLS      LOGR     MLWDF        PF\n",
       "20   2.337678  2.548457  2.566244  2.320456  2.338643  2.214883\n",
       "30   3.105026  3.764179  3.833877  3.031980  3.037029  2.364355\n",
       "40   3.414400  4.818326  5.095824  3.585783  3.526578  2.097762\n",
       "50   3.586005  5.395972  6.288198  3.718465  3.868796  1.634262\n",
       "60   3.666854  5.559865  7.241861  3.927931  4.007427  1.521871\n",
       "70   3.728252  5.008074  8.827848  3.718139  3.804322  1.513427\n",
       "80   3.565871  4.802991  9.265413  3.594041  3.617787  1.379374\n",
       "90   3.558688  4.521583  9.164656  3.606768  3.637041  1.284574\n",
       "100  3.405538  4.313770  8.317621  3.414311  3.564696  1.439017"
      ]
     },
     "execution_count": 7,
     "metadata": {},
     "output_type": "execute_result"
    }
   ],
   "source": [
    "dfGPUTVIDEO"
   ]
  },
  {
   "cell_type": "markdown",
   "metadata": {},
   "source": [
    "# Delay Jitter"
   ]
  },
  {
   "cell_type": "code",
   "execution_count": 8,
   "metadata": {},
   "outputs": [
    {
     "data": {
      "text/plain": [
       "<matplotlib.axes._subplots.AxesSubplot at 0x23fa9bcdcf8>"
      ]
     },
     "execution_count": 8,
     "metadata": {},
     "output_type": "execute_result"
    },
    {
     "data": {
      "image/png": "[encoded data removed]",
      "text/plain": [
       "<matplotlib.figure.Figure at 0x23fa9cbefd0>"
      ]
     },
     "metadata": {
      "needs_background": "light"
     },
     "output_type": "display_data"
    }
   ],
   "source": [
    "dfDELAYVIDEO = pd.DataFrame({'PF': DELAYVIDEO[1], 'MLWDF': DELAYVIDEO[2], 'EXP': DELAYVIDEO[3],\n",
    "                            'FLS': DELAYVIDEO[4], 'EXPR': DELAYVIDEO[5], 'LOGR': DELAYVIDEO[6]},\n",
    "                           index=[20,30,40,50,60,70,80,90,100])\n",
    "dfDELAYVIDEO.plot.bar(rot=0)"
   ]
  },
  {
   "cell_type": "code",
   "execution_count": 9,
   "metadata": {},
   "outputs": [
    {
     "data": {
      "text/plain": [
       "<matplotlib.axes._subplots.AxesSubplot at 0x23fce8f4dd8>"
      ]
     },
     "execution_count": 9,
     "metadata": {},
     "output_type": "execute_result"
    },
    {
     "data": {
      "image/png": "[encoded data removed]",
      "text/plain": [
       "<matplotlib.figure.Figure at 0x23fa972d400>"
      ]
     },
     "metadata": {
      "needs_background": "light"
     },
     "output_type": "display_data"
    }
   ],
   "source": [
    "dfDELAYVIDEO = pd.DataFrame({'MLWDF': DELAYVIDEO[2], 'EXP': DELAYVIDEO[3],\n",
    "                            'FLS': DELAYVIDEO[4], 'EXPR': DELAYVIDEO[5], 'LOGR': DELAYVIDEO[6]},\n",
    "                           index=[20,30,40,50,60,70,80,90,100])\n",
    "dfDELAYVIDEO.plot.bar(rot=0)"
   ]
  },
  {
   "cell_type": "code",
   "execution_count": 10,
   "metadata": {},
   "outputs": [
    {
     "data": {
      "text/plain": [
       "<matplotlib.axes._subplots.AxesSubplot at 0x23fa9c54588>"
      ]
     },
     "execution_count": 10,
     "metadata": {},
     "output_type": "execute_result"
    },
    {
     "data": {
      "image/png": "[encoded data removed]",
      "text/plain": [
       "<matplotlib.figure.Figure at 0x24033d0a6d8>"
      ]
     },
     "metadata": {
      "needs_background": "light"
     },
     "output_type": "display_data"
    }
   ],
   "source": [
    "dfJITTERVIDEO = pd.DataFrame({'PF': JITTERVIDEO[1], 'MLWDF': JITTERVIDEO[2], 'EXP': JITTERVIDEO[3],\n",
    "                            'FLS': JITTERVIDEO[4], 'EXPR': JITTERVIDEO[5], 'LOGR': JITTERVIDEO[6]},\n",
    "                           index=[20,30,40,50,60,70,80,90,100])\n",
    "dfJITTERVIDEO.plot.bar(rot=0)"
   ]
  },
  {
   "cell_type": "code",
   "execution_count": 11,
   "metadata": {
    "scrolled": true
   },
   "outputs": [
    {
     "data": {
      "text/plain": [
       "<matplotlib.axes._subplots.AxesSubplot at 0x23fa3eff390>"
      ]
     },
     "execution_count": 11,
     "metadata": {},
     "output_type": "execute_result"
    },
    {
     "data": {
      "image/png": "[encoded data removed]",
      "text/plain": [
       "<matplotlib.figure.Figure at 0x24049235208>"
      ]
     },
     "metadata": {
      "needs_background": "light"
     },
     "output_type": "display_data"
    }
   ],
   "source": [
    "dfJITTERVIDEO = pd.DataFrame({'MLWDF': JITTERVIDEO[2], 'EXP': JITTERVIDEO[3],\n",
    "                            'FLS': JITTERVIDEO[4], 'EXPR': JITTERVIDEO[5], 'LOGR': JITTERVIDEO[6]},\n",
    "                           index=[20,30,40,50,60,70,80,90,100])\n",
    "dfJITTERVIDEO.plot.bar(rot=0)"
   ]
  },
  {
   "cell_type": "markdown",
   "metadata": {},
   "source": [
    "# VIDEO FAIRNESS"
   ]
  },
  {
   "cell_type": "code",
   "execution_count": 12,
   "metadata": {
    "scrolled": true
   },
   "outputs": [
    {
     "data": {
      "text/plain": [
       "<matplotlib.axes._subplots.AxesSubplot at 0x2405b034ba8>"
      ]
     },
     "execution_count": 12,
     "metadata": {},
     "output_type": "execute_result"
    },
    {
     "data": {
      "image/png": "[encoded data removed]",
      "text/plain": [
       "<matplotlib.figure.Figure at 0x23fc848f2b0>"
      ]
     },
     "metadata": {
      "needs_background": "light"
     },
     "output_type": "display_data"
    }
   ],
   "source": [
    "dfFAIRVIDEO = pd.DataFrame({'PF': FAIRVIDEO[1], 'MLWDF': FAIRVIDEO[2], 'EXP': FAIRVIDEO[3],\n",
    "                            'FLS': FAIRVIDEO[4], 'EXPR': FAIRVIDEO[5], 'LOGR': FAIRVIDEO[6]},\n",
    "                           index=[20,30,40,50,60,70,80,90,100])\n",
    "dfFAIRVIDEO.plot.bar(rot=0)"
   ]
  },
  {
   "cell_type": "code",
   "execution_count": 13,
   "metadata": {
    "scrolled": true
   },
   "outputs": [
    {
     "data": {
      "text/html": [
       "<div>\n",
       "<style>\n",
       "    .dataframe thead tr:only-child th {\n",
       "        text-align: right;\n",
       "    }\n",
       "\n",
       "    .dataframe thead th {\n",
       "        text-align: left;\n",
       "    }\n",
       "\n",
       "    .dataframe tbody tr th {\n",
       "        vertical-align: top;\n",
       "    }\n",
       "</style>\n",
       "<table border=\"1\" class=\"dataframe\">\n",
       "  <thead>\n",
       "    <tr style=\"text-align: right;\">\n",
       "      <th></th>\n",
       "      <th>EXP</th>\n",
       "      <th>EXPR</th>\n",
       "      <th>FLS</th>\n",
       "      <th>LOGR</th>\n",
       "      <th>MLWDF</th>\n",
       "      <th>PF</th>\n",
       "    </tr>\n",
       "  </thead>\n",
       "  <tbody>\n",
       "    <tr>\n",
       "      <th>20</th>\n",
       "      <td>0.570829</td>\n",
       "      <td>0.577161</td>\n",
       "      <td>0.577705</td>\n",
       "      <td>0.570253</td>\n",
       "      <td>0.570991</td>\n",
       "      <td>0.572484</td>\n",
       "    </tr>\n",
       "    <tr>\n",
       "      <th>30</th>\n",
       "      <td>0.564085</td>\n",
       "      <td>0.575765</td>\n",
       "      <td>0.577319</td>\n",
       "      <td>0.562477</td>\n",
       "      <td>0.562990</td>\n",
       "      <td>0.558405</td>\n",
       "    </tr>\n",
       "    <tr>\n",
       "      <th>40</th>\n",
       "      <td>0.556576</td>\n",
       "      <td>0.572723</td>\n",
       "      <td>0.577021</td>\n",
       "      <td>0.559144</td>\n",
       "      <td>0.558671</td>\n",
       "      <td>0.537295</td>\n",
       "    </tr>\n",
       "    <tr>\n",
       "      <th>50</th>\n",
       "      <td>0.552306</td>\n",
       "      <td>0.566106</td>\n",
       "      <td>0.575912</td>\n",
       "      <td>0.553745</td>\n",
       "      <td>0.557846</td>\n",
       "      <td>0.510515</td>\n",
       "    </tr>\n",
       "    <tr>\n",
       "      <th>60</th>\n",
       "      <td>0.548183</td>\n",
       "      <td>0.561025</td>\n",
       "      <td>0.572519</td>\n",
       "      <td>0.551408</td>\n",
       "      <td>0.556765</td>\n",
       "      <td>0.501110</td>\n",
       "    </tr>\n",
       "    <tr>\n",
       "      <th>70</th>\n",
       "      <td>0.849181</td>\n",
       "      <td>0.805520</td>\n",
       "      <td>0.702755</td>\n",
       "      <td>0.849370</td>\n",
       "      <td>0.842329</td>\n",
       "      <td>0.590809</td>\n",
       "    </tr>\n",
       "    <tr>\n",
       "      <th>80</th>\n",
       "      <td>0.861192</td>\n",
       "      <td>0.822618</td>\n",
       "      <td>0.719932</td>\n",
       "      <td>0.858601</td>\n",
       "      <td>0.856404</td>\n",
       "      <td>0.582265</td>\n",
       "    </tr>\n",
       "    <tr>\n",
       "      <th>90</th>\n",
       "      <td>0.865470</td>\n",
       "      <td>0.835475</td>\n",
       "      <td>0.749332</td>\n",
       "      <td>0.859318</td>\n",
       "      <td>0.855772</td>\n",
       "      <td>0.580279</td>\n",
       "    </tr>\n",
       "    <tr>\n",
       "      <th>100</th>\n",
       "      <td>0.875930</td>\n",
       "      <td>0.846258</td>\n",
       "      <td>0.786680</td>\n",
       "      <td>0.871373</td>\n",
       "      <td>0.858159</td>\n",
       "      <td>0.590219</td>\n",
       "    </tr>\n",
       "  </tbody>\n",
       "</table>\n",
       "</div>"
      ],
      "text/plain": [
       "          EXP      EXPR       FLS      LOGR     MLWDF        PF\n",
       "20   0.570829  0.577161  0.577705  0.570253  0.570991  0.572484\n",
       "30   0.564085  0.575765  0.577319  0.562477  0.562990  0.558405\n",
       "40   0.556576  0.572723  0.577021  0.559144  0.558671  0.537295\n",
       "50   0.552306  0.566106  0.575912  0.553745  0.557846  0.510515\n",
       "60   0.548183  0.561025  0.572519  0.551408  0.556765  0.501110\n",
       "70   0.849181  0.805520  0.702755  0.849370  0.842329  0.590809\n",
       "80   0.861192  0.822618  0.719932  0.858601  0.856404  0.582265\n",
       "90   0.865470  0.835475  0.749332  0.859318  0.855772  0.580279\n",
       "100  0.875930  0.846258  0.786680  0.871373  0.858159  0.590219"
      ]
     },
     "execution_count": 13,
     "metadata": {},
     "output_type": "execute_result"
    }
   ],
   "source": [
    "dfFAIRVIDEO"
   ]
  },
  {
   "cell_type": "markdown",
   "metadata": {},
   "source": [
    "# VOIP GPUT MB/s"
   ]
  },
  {
   "cell_type": "code",
   "execution_count": 14,
   "metadata": {
    "scrolled": true
   },
   "outputs": [
    {
     "data": {
      "text/plain": [
       "{1: array([0.15050343, 0.22472449, 0.30163968, 0.37382194, 0.44339302,\n",
       "        0.5222323 , 0.59225243, 0.6544343 , 0.7172521 ], dtype=float32),\n",
       " 2: array([0.15181108, 0.22829312, 0.303722  , 0.38151014, 0.45109197,\n",
       "        0.53241396, 0.5973581 , 0.6550077 , 0.7198075 ], dtype=float32),\n",
       " 3: array([0.15331738, 0.2278656 , 0.30507112, 0.37914574, 0.44898713,\n",
       "        0.51993805, 0.58499175, 0.65257573, 0.70902526], dtype=float32),\n",
       " 4: array([0.1529938 , 0.22473882, 0.3078784 , 0.3819059 , 0.4606331 ,\n",
       "        0.53279537, 0.61246103, 0.6792376 , 0.75851417], dtype=float32),\n",
       " 5: array([0.1508306 , 0.23257805, 0.29933006, 0.3826007 , 0.45444146,\n",
       "        0.532649  , 0.60579735, 0.6701978 , 0.7449057 ], dtype=float32),\n",
       " 6: array([0.15272704, 0.22218394, 0.30298573, 0.37924814, 0.44685978,\n",
       "        0.51720756, 0.5868544 , 0.6627988 , 0.7138473 ], dtype=float32)}"
      ]
     },
     "execution_count": 14,
     "metadata": {},
     "output_type": "execute_result"
    }
   ],
   "source": [
    "MEGAVOIP = {1: [], 2: [], 3: [], 4: [], 5: [], 6: []}\n",
    "for sched in GPUTSVOICE:\n",
    "    MEGAVOIP[sched] = np.true_divide(GPUTSVOICE[sched], 8)\n",
    "MEGAVOIP"
   ]
  },
  {
   "cell_type": "code",
   "execution_count": 15,
   "metadata": {
    "scrolled": true
   },
   "outputs": [
    {
     "data": {
      "text/plain": [
       "<matplotlib.axes._subplots.AxesSubplot at 0x23fa9cf5e48>"
      ]
     },
     "execution_count": 15,
     "metadata": {},
     "output_type": "execute_result"
    },
    {
     "data": {
      "image/png": "[encoded data removed]",
      "text/plain": [
       "<matplotlib.figure.Figure at 0x23fcc85a7f0>"
      ]
     },
     "metadata": {
      "needs_background": "light"
     },
     "output_type": "display_data"
    }
   ],
   "source": [
    "dfGPUTVOICE = pd.DataFrame({'PF': MEGAVOIP[1], 'MLWDF': MEGAVOIP[2], 'EXP': MEGAVOIP[3],\n",
    "                       'FLS': MEGAVOIP[4], 'EXPR': MEGAVOIP[5], 'LOGR': MEGAVOIP[6]},\n",
    "                      index=[20,30,40,50,60,70,80,90,100])\n",
    "dfGPUTVOICE.plot.bar(rot=0)"
   ]
  },
  {
   "cell_type": "code",
   "execution_count": 16,
   "metadata": {
    "scrolled": true
   },
   "outputs": [
    {
     "data": {
      "text/html": [
       "<div>\n",
       "<style>\n",
       "    .dataframe thead tr:only-child th {\n",
       "        text-align: right;\n",
       "    }\n",
       "\n",
       "    .dataframe thead th {\n",
       "        text-align: left;\n",
       "    }\n",
       "\n",
       "    .dataframe tbody tr th {\n",
       "        vertical-align: top;\n",
       "    }\n",
       "</style>\n",
       "<table border=\"1\" class=\"dataframe\">\n",
       "  <thead>\n",
       "    <tr style=\"text-align: right;\">\n",
       "      <th></th>\n",
       "      <th>EXP</th>\n",
       "      <th>EXPR</th>\n",
       "      <th>FLS</th>\n",
       "      <th>LOGR</th>\n",
       "      <th>MLWDF</th>\n",
       "      <th>PF</th>\n",
       "    </tr>\n",
       "  </thead>\n",
       "  <tbody>\n",
       "    <tr>\n",
       "      <th>20</th>\n",
       "      <td>0.153317</td>\n",
       "      <td>0.150831</td>\n",
       "      <td>0.152994</td>\n",
       "      <td>0.152727</td>\n",
       "      <td>0.151811</td>\n",
       "      <td>0.150503</td>\n",
       "    </tr>\n",
       "    <tr>\n",
       "      <th>30</th>\n",
       "      <td>0.227866</td>\n",
       "      <td>0.232578</td>\n",
       "      <td>0.224739</td>\n",
       "      <td>0.222184</td>\n",
       "      <td>0.228293</td>\n",
       "      <td>0.224724</td>\n",
       "    </tr>\n",
       "    <tr>\n",
       "      <th>40</th>\n",
       "      <td>0.305071</td>\n",
       "      <td>0.299330</td>\n",
       "      <td>0.307878</td>\n",
       "      <td>0.302986</td>\n",
       "      <td>0.303722</td>\n",
       "      <td>0.301640</td>\n",
       "    </tr>\n",
       "    <tr>\n",
       "      <th>50</th>\n",
       "      <td>0.379146</td>\n",
       "      <td>0.382601</td>\n",
       "      <td>0.381906</td>\n",
       "      <td>0.379248</td>\n",
       "      <td>0.381510</td>\n",
       "      <td>0.373822</td>\n",
       "    </tr>\n",
       "    <tr>\n",
       "      <th>60</th>\n",
       "      <td>0.448987</td>\n",
       "      <td>0.454441</td>\n",
       "      <td>0.460633</td>\n",
       "      <td>0.446860</td>\n",
       "      <td>0.451092</td>\n",
       "      <td>0.443393</td>\n",
       "    </tr>\n",
       "    <tr>\n",
       "      <th>70</th>\n",
       "      <td>0.519938</td>\n",
       "      <td>0.532649</td>\n",
       "      <td>0.532795</td>\n",
       "      <td>0.517208</td>\n",
       "      <td>0.532414</td>\n",
       "      <td>0.522232</td>\n",
       "    </tr>\n",
       "    <tr>\n",
       "      <th>80</th>\n",
       "      <td>0.584992</td>\n",
       "      <td>0.605797</td>\n",
       "      <td>0.612461</td>\n",
       "      <td>0.586854</td>\n",
       "      <td>0.597358</td>\n",
       "      <td>0.592252</td>\n",
       "    </tr>\n",
       "    <tr>\n",
       "      <th>90</th>\n",
       "      <td>0.652576</td>\n",
       "      <td>0.670198</td>\n",
       "      <td>0.679238</td>\n",
       "      <td>0.662799</td>\n",
       "      <td>0.655008</td>\n",
       "      <td>0.654434</td>\n",
       "    </tr>\n",
       "    <tr>\n",
       "      <th>100</th>\n",
       "      <td>0.709025</td>\n",
       "      <td>0.744906</td>\n",
       "      <td>0.758514</td>\n",
       "      <td>0.713847</td>\n",
       "      <td>0.719808</td>\n",
       "      <td>0.717252</td>\n",
       "    </tr>\n",
       "  </tbody>\n",
       "</table>\n",
       "</div>"
      ],
      "text/plain": [
       "          EXP      EXPR       FLS      LOGR     MLWDF        PF\n",
       "20   0.153317  0.150831  0.152994  0.152727  0.151811  0.150503\n",
       "30   0.227866  0.232578  0.224739  0.222184  0.228293  0.224724\n",
       "40   0.305071  0.299330  0.307878  0.302986  0.303722  0.301640\n",
       "50   0.379146  0.382601  0.381906  0.379248  0.381510  0.373822\n",
       "60   0.448987  0.454441  0.460633  0.446860  0.451092  0.443393\n",
       "70   0.519938  0.532649  0.532795  0.517208  0.532414  0.522232\n",
       "80   0.584992  0.605797  0.612461  0.586854  0.597358  0.592252\n",
       "90   0.652576  0.670198  0.679238  0.662799  0.655008  0.654434\n",
       "100  0.709025  0.744906  0.758514  0.713847  0.719808  0.717252"
      ]
     },
     "execution_count": 16,
     "metadata": {},
     "output_type": "execute_result"
    }
   ],
   "source": [
    "dfGPUTVOICE"
   ]
  },
  {
   "cell_type": "markdown",
   "metadata": {},
   "source": [
    "# Delay Jitter"
   ]
  },
  {
   "cell_type": "code",
   "execution_count": 17,
   "metadata": {},
   "outputs": [
    {
     "data": {
      "text/plain": [
       "<matplotlib.axes._subplots.AxesSubplot at 0x240364443c8>"
      ]
     },
     "execution_count": 17,
     "metadata": {},
     "output_type": "execute_result"
    },
    {
     "data": {
      "image/png": "[encoded data removed]",
      "text/plain": [
       "<matplotlib.figure.Figure at 0x23fc9e3c2e8>"
      ]
     },
     "metadata": {
      "needs_background": "light"
     },
     "output_type": "display_data"
    }
   ],
   "source": [
    "dfDELAYVOICE = pd.DataFrame({'PF': DELAYVOICE[1], 'MLWDF': DELAYVOICE[2], 'EXP': DELAYVOICE[3],\n",
    "                            'FLS': DELAYVOICE[4], 'EXPR': DELAYVOICE[5], 'LOGR': DELAYVOICE[6]},\n",
    "                           index=[20,30,40,50,60,70,80,90,100])\n",
    "dfDELAYVOICE.plot.bar(rot=0)"
   ]
  },
  {
   "cell_type": "code",
   "execution_count": 18,
   "metadata": {},
   "outputs": [
    {
     "data": {
      "text/plain": [
       "<matplotlib.axes._subplots.AxesSubplot at 0x23ff0b76dd8>"
      ]
     },
     "execution_count": 18,
     "metadata": {},
     "output_type": "execute_result"
    },
    {
     "data": {
      "image/png": "[encoded data removed]",
      "text/plain": [
       "<matplotlib.figure.Figure at 0x23ffffa3438>"
      ]
     },
     "metadata": {
      "needs_background": "light"
     },
     "output_type": "display_data"
    }
   ],
   "source": [
    "dfDELAYVOICE = pd.DataFrame({'MLWDF': DELAYVOICE[2], 'EXP': DELAYVOICE[3],\n",
    "                            'FLS': DELAYVOICE[4], 'EXPR': DELAYVOICE[5], 'LOGR': DELAYVOICE[6]},\n",
    "                           index=[20,30,40,50,60,70,80,90,100])\n",
    "dfDELAYVOICE.plot.bar(rot=0)"
   ]
  },
  {
   "cell_type": "code",
   "execution_count": 19,
   "metadata": {},
   "outputs": [
    {
     "data": {
      "text/plain": [
       "<matplotlib.axes._subplots.AxesSubplot at 0x23fff19add8>"
      ]
     },
     "execution_count": 19,
     "metadata": {},
     "output_type": "execute_result"
    },
    {
     "data": {
      "image/png": "[encoded data removed]",
      "text/plain": [
       "<matplotlib.figure.Figure at 0x23f831570f0>"
      ]
     },
     "metadata": {
      "needs_background": "light"
     },
     "output_type": "display_data"
    }
   ],
   "source": [
    "dfJITTERVOICE = pd.DataFrame({'PF': JITTERVOICE[1], 'MLWDF': JITTERVOICE[2], 'EXP': JITTERVOICE[3],\n",
    "                            'FLS': JITTERVOICE[4], 'EXPR': JITTERVOICE[5], 'LOGR': JITTERVOICE[6]},\n",
    "                           index=[20,30,40,50,60,70,80,90,100])\n",
    "dfJITTERVOICE.plot.bar(rot=0)"
   ]
  },
  {
   "cell_type": "code",
   "execution_count": 20,
   "metadata": {
    "scrolled": true
   },
   "outputs": [
    {
     "data": {
      "text/plain": [
       "<matplotlib.axes._subplots.AxesSubplot at 0x23f83304ba8>"
      ]
     },
     "execution_count": 20,
     "metadata": {},
     "output_type": "execute_result"
    },
    {
     "data": {
      "image/png": "[encoded data removed]",
      "text/plain": [
       "<matplotlib.figure.Figure at 0x23f832b6630>"
      ]
     },
     "metadata": {
      "needs_background": "light"
     },
     "output_type": "display_data"
    }
   ],
   "source": [
    "dfJITTERVOICE = pd.DataFrame({'MLWDF': JITTERVOICE[2], 'EXP': JITTERVOICE[3],\n",
    "                            'FLS': JITTERVOICE[4], 'EXPR': JITTERVOICE[5], 'LOGR': JITTERVOICE[6]},\n",
    "                           index=[20,30,40,50,60,70,80,90,100])\n",
    "dfJITTERVOICE.plot.bar(rot=0)"
   ]
  },
  {
   "cell_type": "markdown",
   "metadata": {},
   "source": [
    "# Loss Ratio"
   ]
  },
  {
   "cell_type": "code",
   "execution_count": 21,
   "metadata": {},
   "outputs": [],
   "source": [
    "averagePacketLoss = {}\n",
    "for key in PACKETLOSS:\n",
    "    averagePacketLoss[key] = []\n",
    "    for i in range(0, 9):\n",
    "        average = sum(PACKETLOSS[key][i])/len(PACKETLOSS[key][i])         \n",
    "        averagePacketLoss[key].append(average)"
   ]
  },
  {
   "cell_type": "code",
   "execution_count": 22,
   "metadata": {
    "scrolled": true
   },
   "outputs": [
    {
     "data": {
      "text/plain": [
       "<matplotlib.axes._subplots.AxesSubplot at 0x23f834b87b8>"
      ]
     },
     "execution_count": 22,
     "metadata": {},
     "output_type": "execute_result"
    },
    {
     "data": {
      "image/png": "[encoded data removed]",
      "text/plain": [
       "<matplotlib.figure.Figure at 0x23f83484668>"
      ]
     },
     "metadata": {
      "needs_background": "light"
     },
     "output_type": "display_data"
    }
   ],
   "source": [
    "dfLossRatio = pd.DataFrame({'PF': averagePacketLoss[1], 'MLWDF': averagePacketLoss[2], 'EXP': averagePacketLoss[3],\n",
    "                            'FLS': averagePacketLoss[4], 'EXPR': averagePacketLoss[5], 'LOGR': averagePacketLoss[6]},\n",
    "                           index=[20,30,40,50,60,70,80,90,100])\n",
    "dfLossRatio.plot.bar(rot=0)"
   ]
  },
  {
   "cell_type": "code",
   "execution_count": 23,
   "metadata": {
    "scrolled": true
   },
   "outputs": [
    {
     "data": {
      "text/html": [
       "<div>\n",
       "<style>\n",
       "    .dataframe thead tr:only-child th {\n",
       "        text-align: right;\n",
       "    }\n",
       "\n",
       "    .dataframe thead th {\n",
       "        text-align: left;\n",
       "    }\n",
       "\n",
       "    .dataframe tbody tr th {\n",
       "        vertical-align: top;\n",
       "    }\n",
       "</style>\n",
       "<table border=\"1\" class=\"dataframe\">\n",
       "  <thead>\n",
       "    <tr style=\"text-align: right;\">\n",
       "      <th></th>\n",
       "      <th>EXP</th>\n",
       "      <th>EXPR</th>\n",
       "      <th>FLS</th>\n",
       "      <th>LOGR</th>\n",
       "      <th>MLWDF</th>\n",
       "      <th>PF</th>\n",
       "    </tr>\n",
       "  </thead>\n",
       "  <tbody>\n",
       "    <tr>\n",
       "      <th>20</th>\n",
       "      <td>9.291710</td>\n",
       "      <td>9.013601</td>\n",
       "      <td>9.679068</td>\n",
       "      <td>9.648586</td>\n",
       "      <td>9.194442</td>\n",
       "      <td>9.611371</td>\n",
       "    </tr>\n",
       "    <tr>\n",
       "      <th>30</th>\n",
       "      <td>9.620909</td>\n",
       "      <td>8.608514</td>\n",
       "      <td>8.505981</td>\n",
       "      <td>10.024626</td>\n",
       "      <td>9.575970</td>\n",
       "      <td>11.383378</td>\n",
       "    </tr>\n",
       "    <tr>\n",
       "      <th>40</th>\n",
       "      <td>10.417503</td>\n",
       "      <td>7.857478</td>\n",
       "      <td>7.016857</td>\n",
       "      <td>10.008488</td>\n",
       "      <td>10.102857</td>\n",
       "      <td>14.175541</td>\n",
       "    </tr>\n",
       "    <tr>\n",
       "      <th>50</th>\n",
       "      <td>11.390495</td>\n",
       "      <td>8.169707</td>\n",
       "      <td>5.614501</td>\n",
       "      <td>11.296338</td>\n",
       "      <td>10.390390</td>\n",
       "      <td>17.699978</td>\n",
       "    </tr>\n",
       "    <tr>\n",
       "      <th>60</th>\n",
       "      <td>12.952917</td>\n",
       "      <td>9.360679</td>\n",
       "      <td>4.946942</td>\n",
       "      <td>12.150402</td>\n",
       "      <td>11.769320</td>\n",
       "      <td>20.029138</td>\n",
       "    </tr>\n",
       "    <tr>\n",
       "      <th>70</th>\n",
       "      <td>21.812537</td>\n",
       "      <td>18.576897</td>\n",
       "      <td>6.092966</td>\n",
       "      <td>21.234278</td>\n",
       "      <td>20.476736</td>\n",
       "      <td>23.602505</td>\n",
       "    </tr>\n",
       "    <tr>\n",
       "      <th>80</th>\n",
       "      <td>24.621591</td>\n",
       "      <td>21.426692</td>\n",
       "      <td>9.215624</td>\n",
       "      <td>23.727531</td>\n",
       "      <td>22.989555</td>\n",
       "      <td>25.614207</td>\n",
       "    </tr>\n",
       "    <tr>\n",
       "      <th>90</th>\n",
       "      <td>26.748894</td>\n",
       "      <td>24.073259</td>\n",
       "      <td>13.494854</td>\n",
       "      <td>25.761687</td>\n",
       "      <td>25.401390</td>\n",
       "      <td>27.833752</td>\n",
       "    </tr>\n",
       "    <tr>\n",
       "      <th>100</th>\n",
       "      <td>29.179362</td>\n",
       "      <td>26.401606</td>\n",
       "      <td>19.155427</td>\n",
       "      <td>28.428788</td>\n",
       "      <td>27.133649</td>\n",
       "      <td>29.207959</td>\n",
       "    </tr>\n",
       "  </tbody>\n",
       "</table>\n",
       "</div>"
      ],
      "text/plain": [
       "           EXP       EXPR        FLS       LOGR      MLWDF         PF\n",
       "20    9.291710   9.013601   9.679068   9.648586   9.194442   9.611371\n",
       "30    9.620909   8.608514   8.505981  10.024626   9.575970  11.383378\n",
       "40   10.417503   7.857478   7.016857  10.008488  10.102857  14.175541\n",
       "50   11.390495   8.169707   5.614501  11.296338  10.390390  17.699978\n",
       "60   12.952917   9.360679   4.946942  12.150402  11.769320  20.029138\n",
       "70   21.812537  18.576897   6.092966  21.234278  20.476736  23.602505\n",
       "80   24.621591  21.426692   9.215624  23.727531  22.989555  25.614207\n",
       "90   26.748894  24.073259  13.494854  25.761687  25.401390  27.833752\n",
       "100  29.179362  26.401606  19.155427  28.428788  27.133649  29.207959"
      ]
     },
     "execution_count": 23,
     "metadata": {},
     "output_type": "execute_result"
    }
   ],
   "source": [
    "dfLossRatio"
   ]
  }
 ],
 "metadata": {
  "kernelspec": {
   "display_name": "Python 3",
   "language": "python",
   "name": "python3"
  },
  "language_info": {
   "codemirror_mode": {
    "name": "ipython",
    "version": 3
   },
   "file_extension": ".py",
   "mimetype": "text/x-python",
   "name": "python",
   "nbconvert_exporter": "python",
   "pygments_lexer": "ipython3",
   "version": "3.6.2"
  }
 },
 "nbformat": 4,
 "nbformat_minor": 2
}
