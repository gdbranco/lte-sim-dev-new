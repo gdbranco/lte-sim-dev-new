{
 "cells": [
  {
   "cell_type": "code",
   "execution_count": 6,
   "metadata": {},
   "outputs": [],
   "source": [
    "import pandas as pd\n",
    "import numpy as np\n",
    "import matplotlib.pyplot as plt\n",
    "%matplotlib inline  \n",
    "from pprint import pprint\n",
    "import re\n",
    "import json\n",
    "import gzip\n",
    "class LTEParser:\n",
    "    @staticmethod\n",
    "    def parse(inFile, flowDuration = 100):\n",
    "        #VIDEO\n",
    "        videoAverages = []\n",
    "        videoFairness = []\n",
    "        videoDelay = []\n",
    "        videoJitter = []\n",
    "        videoPLR = []\n",
    "        #VOICE\n",
    "        voiceAverages = []\n",
    "        voiceFairness = []\n",
    "        voiceDelay = []\n",
    "        voiceJitter = []\n",
    "        voicePLR = []\n",
    "        #INFBUF\n",
    "        infBufAverages = []\n",
    "        infBufFairness = []\n",
    "        infBufDelay = []\n",
    "        infBufJitter = []\n",
    "        infBufPLR = []\n",
    "        #GERAL\n",
    "        packetLoss = []\n",
    "        for sfile in inFile:\n",
    "            content = \"\"\n",
    "            print(\"Opening file: \" + sfile)\n",
    "            with gzip.open(sfile, 'rb') as file:\n",
    "                content = file.read()\n",
    "                content = content.decode('utf-8')\n",
    "            print(\"Parsing file ...\", end=\"\")\n",
    "            txContent, rxContent = LTEParser._parse(content)\n",
    "            info = LTEParser.getFairnessIndex(rxContent, flowDuration)\n",
    "            packetLossInfo = LTEParser.getPacketLossRatio(txContent, rxContent)\n",
    "            delayInfo = LTEParser.getDelayJitter(rxContent)\n",
    "            #VIDEO\n",
    "            videoAverages.append(info['VIDEO']['Average'])\n",
    "            videoFairness.append(info['VIDEO']['FairnessIndex'])\n",
    "            videoDelay.append(delayInfo['VIDEO']['Average'])\n",
    "            videoJitter.append(delayInfo['VIDEO']['StD'])\n",
    "            videoPLR.append(packetLossInfo[1]['VIDEO'])\n",
    "            #VOICE\n",
    "            voiceAverages.append(info['VOIP']['Average'])\n",
    "            voiceFairness.append(info['VOIP']['FairnessIndex'])\n",
    "            voiceDelay.append(delayInfo['VOIP']['Average'])\n",
    "            voiceJitter.append(delayInfo['VOIP']['StD'])\n",
    "            voicePLR.append(packetLossInfo[1]['VOIP'])\n",
    "            #INFBUF\n",
    "            infBufAverages.append(info['INF_BUF']['Average'])\n",
    "            infBufFairness.append(info['INF_BUF']['FairnessIndex'])\n",
    "            infBufDelay.append(delayInfo['INF_BUF']['Average'])\n",
    "            infBufJitter.append(delayInfo['INF_BUF']['StD'])\n",
    "            infBufPLR.append(packetLossInfo[1]['INF_BUF'])\n",
    "            #GERAL\n",
    "            packetLoss.append(packetLossInfo[0])\n",
    "        return [#VIDEO\n",
    "                (sum(videoAverages)/len(videoAverages)),\n",
    "                (sum(videoFairness)/len(videoFairness)),\n",
    "                (sum(videoDelay)/len(videoDelay)),\n",
    "                (sum(videoJitter)/len(videoJitter)),\n",
    "                (sum(videoPLR)/len(videoPLR)),\n",
    "                #VOICE\n",
    "                (sum(voiceAverages)/len(voiceAverages)),\n",
    "                (sum(voiceFairness)/len(voiceFairness)),\n",
    "                (sum(voiceDelay)/len(voiceDelay)),\n",
    "                (sum(voiceJitter)/len(voiceJitter)),\n",
    "                (sum(voicePLR)/len(voicePLR)),\n",
    "                #INFBUF\n",
    "                (sum(infBufAverages)/len(infBufAverages)),\n",
    "                (sum(infBufFairness)/len(infBufFairness)),\n",
    "                (sum(infBufDelay)/len(infBufDelay)),\n",
    "                (sum(infBufJitter)/len(infBufJitter)),\n",
    "                (sum(infBufPLR)/len(infBufPLR)),\n",
    "                #GERAL\n",
    "                packetLoss]\n",
    "    @staticmethod\n",
    "    def _parse(content):\n",
    "        txContent = LTEParser.parseTX(content)\n",
    "        rxContent = LTEParser.parseRX(content)\n",
    "        print(\"Done\")\n",
    "        return txContent, rxContent\n",
    "    \n",
    "    @staticmethod\n",
    "    def parseTX(content):\n",
    "        _mapa = {\n",
    "            \"B\": \"#Bearer\",\n",
    "            \"T\": \"TimeStamp\",\n",
    "            \"TX\": \"Transmission\",\n",
    "            \"RX\": \"Receiver\",\n",
    "            \"D\": \"Delay\",\n",
    "            \"ID\": \"#Packet\",\n",
    "            \"DST\": \"Destiny\",\n",
    "            \"SRC\": \"Source\",\n",
    "            \"SIZE\": \"Size\"\n",
    "        }\n",
    "        matches = re.findall(\"(TX.+)\", content)\n",
    "        if(matches == []):\n",
    "            raise Exception(\"No matches in content for TX\")\n",
    "        dictPacketType = {\"CBR\": [], \"VOIP\": [], \"VIDEO\": [], \"INF_BUF\": [], \"WEB\": []}\n",
    "        for match in matches:\n",
    "            values = match.split(' ')\n",
    "            tamanho = len(values)\n",
    "            dic = {}\n",
    "            for i in range(2, tamanho if tamanho%2==0 else tamanho-1, 2):\n",
    "                dic[_mapa[values[i]]] = values[i+1]\n",
    "            dic = dict(sorted(dic.items(), key=lambda x: x[0]))\n",
    "            dictPacketType[values[1]].append(dic)\n",
    "        return json.loads(json.dumps(dictPacketType))\n",
    "        \n",
    "    @staticmethod        \n",
    "    def parseRX(content):\n",
    "        _mapa = {\n",
    "            \"B\": \"#Bearer\",\n",
    "            \"T\": \"TimeStamp\",\n",
    "            \"TX\": \"Transmission\",\n",
    "            \"RX\": \"Receiver\",\n",
    "            \"D\": \"Delay\",\n",
    "            \"ID\": \"#Packet\",\n",
    "            \"DST\": \"Destiny\",\n",
    "            \"SRC\": \"Source\",\n",
    "            \"SIZE\": \"Size\"\n",
    "        }\n",
    "        matches = re.findall(\"(RX.+)\", content)\n",
    "        if(matches == []):\n",
    "            raise Exception(\"No matches in content for TX\")\n",
    "        dictPacketType = {\"CBR\": [], \"VOIP\": [], \"VIDEO\": [], \"INF_BUF\": [], \"WEB\": []}\n",
    "        for match in matches:\n",
    "            values = match.split(' ')\n",
    "            tamanho = len(values)\n",
    "            dic = {}\n",
    "            for i in range(2, tamanho if tamanho%2==0 else tamanho-1, 2):\n",
    "                dic[_mapa[values[i]]] = values[i+1]\n",
    "            dic = dict(sorted(dic.items(), key=lambda x: x[0]))\n",
    "            dictPacketType[values[1]].append(dic)\n",
    "        return json.loads(json.dumps(dictPacketType))\n",
    "    \n",
    "    @staticmethod\n",
    "    def getPacketLossRatio(txContent, rxContent):\n",
    "        dictPacketType = {\"CBR\": [], \"VOIP\": [], \"VIDEO\": [], \"INF_BUF\": [], \"WEB\": []}\n",
    "        tx_pkts = 0\n",
    "        rx_pkts = 0\n",
    "        for key in txContent:\n",
    "            keytx = len(txContent[key])\n",
    "            tx_pkts += keytx\n",
    "            rx_pkts += len(rxContent[key])\n",
    "            keyPLR = ((keytx - len( [key])) / (keytx if keytx != 0 else 1)) * 100\n",
    "            dictPacketType[key] = keyPLR\n",
    "        plr = ((tx_pkts - rx_pkts) / tx_pkts) * 100\n",
    "        return plr, dictPacketType\n",
    "    \n",
    "    @staticmethod\n",
    "    def getDelayJitter(rxContent):\n",
    "        delayPerApp = {}\n",
    "        for app in rxContent:\n",
    "            delayPerApp[app] = {\"Sum\": 0, \"Average\": 0, \"StD\": 0}\n",
    "            delayPerApp[app][\"Sum\"] = sum(float(item[\"Delay\"]) for item in rxContent[app])\n",
    "            tamanho = len(rxContent[app])\n",
    "            delayPerApp[app][\"Average\"] = delayPerApp[app][\"Sum\"]/tamanho if tamanho != 0 else 0\n",
    "            delayPerApp[app][\"StD\"] = sum((float(item[\"Delay\"]) - delayPerApp[app][\"Average\"])**2 for item in rxContent[app])/ (tamanho - 1) if tamanho != 0 else 0\n",
    "        return delayPerApp\n",
    "    \n",
    "    @staticmethod\n",
    "    def getGoodput(rxContent, flowDuration):\n",
    "        gputPerApp = {}\n",
    "        for app in rxContent:\n",
    "            gputPerApp[app] = {\"Sum\": 0, \"Average\": 0}\n",
    "            gputPerApp[app][\"Sum\"] = sum(float(item[\"Size\"])*8 for item in rxContent[app])\n",
    "            gputPerApp[app][\"Average\"] = (gputPerApp[app][\"Sum\"]/125000)/flowDuration\n",
    "        return gputPerApp\n",
    "    \n",
    "    @staticmethod\n",
    "    def getThroughput(rxContent, flowDuration):\n",
    "        tputPerApp = {}\n",
    "        for app in rxContent:\n",
    "            tputPerApp[app] = {\"Sum\": 0, \"Average\": 0}\n",
    "            tputPerApp[app][\"Sum\"] = sum((float(item[\"Size\"]) + 5)*8 for item in rxContent[app])\n",
    "            tputPerApp[app][\"Average\"] = (tputPerApp[app][\"Sum\"]/125000)/flowDuration\n",
    "        return tputPerApp\n",
    "    \n",
    "    @staticmethod\n",
    "    def getSpectralEff()\n",
    "    \n",
    "    @staticmethod\n",
    "    def getFairnessIndex(rxContent, flowDuration):\n",
    "        fairnessPerApp = {}\n",
    "        for app in rxContent:\n",
    "            fairnessPerApp[app] = {\"Sum\": 0, \"Average\": 0, \"SumSquared\": 0, \"SquaredSum\": 0, \"FairnessIndex\": 0}\n",
    "            if(len(rxContent[app]) > 0):\n",
    "                fairnessPerApp[app][\"Sum\"] = sum(float(item[\"Size\"])*8 for item in rxContent[app])\n",
    "                fairnessPerApp[app][\"Average\"] = (fairnessPerApp[app][\"Sum\"]/125000)/flowDuration\n",
    "                fairnessPerApp[app][\"SumSquared\"] = sum(pow(float(item[\"Size\"])*8,2) for item in rxContent[app])\n",
    "                fairnessPerApp[app][\"SquaredSum\"] = pow(fairnessPerApp[app][\"Sum\"], 2)\n",
    "                division = (len(rxContent[app]) * fairnessPerApp[app][\"SumSquared\"])\n",
    "                fairnessPerApp[app][\"FairnessIndex\"] = fairnessPerApp[app][\"SquaredSum\"] / division if division > 0 else 1\n",
    "        return fairnessPerApp"
   ]
  },
  {
   "cell_type": "code",
   "execution_count": 4,
   "metadata": {},
   "outputs": [],
   "source": [
    "base = \"../../../Simulations/Raw/Interference_2\"\n",
    "ext = \".gz\"\n",
    "until = 3\n",
    "files = {1: {30: {20: [], 30: [], 40: [], 50: [], 60: [], 70: [], 80: [], 90: [], 100: []},\n",
    "            120: {20: [], 30: [], 40: [], 50: [], 60: [], 70: [], 80: [], 90: [], 100: []}},\n",
    "         2: {30: {20: [], 30: [], 40: [], 50: [], 60: [], 70: [], 80: [], 90: [], 100: []},\n",
    "            120: {20: [], 30: [], 40: [], 50: [], 60: [], 70: [], 80: [], 90: [], 100: []}},\n",
    "         3: {30: {20: [], 30: [], 40: [], 50: [], 60: [], 70: [], 80: [], 90: [], 100: []},\n",
    "            120: {20: [], 30: [], 40: [], 50: [], 60: [], 70: [], 80: [], 90: [], 100: []}},\n",
    "         4: {30: {20: [], 30: [], 40: [], 50: [], 60: [], 70: [], 80: [], 90: [], 100: []},\n",
    "            120: {20: [], 30: [], 40: [], 50: [], 60: [], 70: [], 80: [], 90: [], 100: []}},\n",
    "         5: {30: {20: [], 30: [], 40: [], 50: [], 60: [], 70: [], 80: [], 90: [], 100: []},\n",
    "            120: {20: [], 30: [], 40: [], 50: [], 60: [], 70: [], 80: [], 90: [], 100: []}},\n",
    "         6: {30: {20: [], 30: [], 40: [], 50: [], 60: [], 70: [], 80: [], 90: [], 100: []},\n",
    "            120: {20: [], 30: [], 40: [], 50: [], 60: [], 70: [], 80: [], 90: [], 100: []}}}\n",
    "for sched in range(1,7):\n",
    "    for ue in range(20, 101, 10):\n",
    "        for vel in [30, 120]:\n",
    "            for count in range(1,until):\n",
    "                file = \"/SCHED_\" + str(sched) + \"_UE_\" + str(ue) + \"_V_\" + str(vel) +\"_D_0.1_\" + str(count)\n",
    "                filename = base + file + ext\n",
    "                files[sched][vel][ue].append(filename)"
   ]
  },
  {
   "cell_type": "code",
   "execution_count": null,
   "metadata": {},
   "outputs": [],
   "source": [
    "pprint(files)"
   ]
  },
  {
   "cell_type": "markdown",
   "metadata": {},
   "source": [
    "# 30KM/H"
   ]
  },
  {
   "cell_type": "code",
   "execution_count": 7,
   "metadata": {
    "scrolled": true
   },
   "outputs": [
    {
     "name": "stdout",
     "output_type": "stream",
     "text": [
      "Opening file: ../../../Simulations/Raw/Interference_2/SCHED_1_UE_20_V_30_D_0.1_1.gz\n",
      "Parsing file ...Done\n",
      "Opening file: ../../../Simulations/Raw/Interference_2/SCHED_1_UE_20_V_30_D_0.1_2.gz\n",
      "Parsing file ...Done\n",
      "Opening file: ../../../Simulations/Raw/Interference_2/SCHED_1_UE_30_V_30_D_0.1_1.gz\n",
      "Parsing file ...Done\n",
      "Opening file: ../../../Simulations/Raw/Interference_2/SCHED_1_UE_30_V_30_D_0.1_2.gz\n",
      "Parsing file ...Done\n",
      "Opening file: ../../../Simulations/Raw/Interference_2/SCHED_1_UE_40_V_30_D_0.1_1.gz\n",
      "Parsing file ...Done\n",
      "Opening file: ../../../Simulations/Raw/Interference_2/SCHED_1_UE_40_V_30_D_0.1_2.gz\n",
      "Parsing file ...Done\n",
      "Opening file: ../../../Simulations/Raw/Interference_2/SCHED_1_UE_50_V_30_D_0.1_1.gz\n",
      "Parsing file ...Done\n",
      "Opening file: ../../../Simulations/Raw/Interference_2/SCHED_1_UE_50_V_30_D_0.1_2.gz\n",
      "Parsing file ...Done\n",
      "Opening file: ../../../Simulations/Raw/Interference_2/SCHED_1_UE_60_V_30_D_0.1_1.gz\n",
      "Parsing file ...Done\n",
      "Opening file: ../../../Simulations/Raw/Interference_2/SCHED_1_UE_60_V_30_D_0.1_2.gz\n",
      "Parsing file ...Done\n",
      "Opening file: ../../../Simulations/Raw/Interference_2/SCHED_1_UE_70_V_30_D_0.1_1.gz\n",
      "Parsing file ...Done\n",
      "Opening file: ../../../Simulations/Raw/Interference_2/SCHED_1_UE_70_V_30_D_0.1_2.gz\n",
      "Parsing file ...Done\n",
      "Opening file: ../../../Simulations/Raw/Interference_2/SCHED_1_UE_80_V_30_D_0.1_1.gz\n",
      "Parsing file ...Done\n",
      "Opening file: ../../../Simulations/Raw/Interference_2/SCHED_1_UE_80_V_30_D_0.1_2.gz\n",
      "Parsing file ...Done\n",
      "Opening file: ../../../Simulations/Raw/Interference_2/SCHED_1_UE_90_V_30_D_0.1_1.gz\n",
      "Parsing file ...Done\n",
      "Opening file: ../../../Simulations/Raw/Interference_2/SCHED_1_UE_90_V_30_D_0.1_2.gz\n",
      "Parsing file ...Done\n",
      "Opening file: ../../../Simulations/Raw/Interference_2/SCHED_1_UE_100_V_30_D_0.1_1.gz\n",
      "Parsing file ...Done\n",
      "Opening file: ../../../Simulations/Raw/Interference_2/SCHED_1_UE_100_V_30_D_0.1_2.gz\n",
      "Parsing file ...Done\n",
      "Opening file: ../../../Simulations/Raw/Interference_2/SCHED_2_UE_20_V_30_D_0.1_1.gz\n",
      "Parsing file ...Done\n",
      "Opening file: ../../../Simulations/Raw/Interference_2/SCHED_2_UE_20_V_30_D_0.1_2.gz\n",
      "Parsing file ...Done\n",
      "Opening file: ../../../Simulations/Raw/Interference_2/SCHED_2_UE_30_V_30_D_0.1_1.gz\n",
      "Parsing file ...Done\n",
      "Opening file: ../../../Simulations/Raw/Interference_2/SCHED_2_UE_30_V_30_D_0.1_2.gz\n",
      "Parsing file ...Done\n",
      "Opening file: ../../../Simulations/Raw/Interference_2/SCHED_2_UE_40_V_30_D_0.1_1.gz\n",
      "Parsing file ...Done\n",
      "Opening file: ../../../Simulations/Raw/Interference_2/SCHED_2_UE_40_V_30_D_0.1_2.gz\n",
      "Parsing file ...Done\n",
      "Opening file: ../../../Simulations/Raw/Interference_2/SCHED_2_UE_50_V_30_D_0.1_1.gz\n",
      "Parsing file ...Done\n",
      "Opening file: ../../../Simulations/Raw/Interference_2/SCHED_2_UE_50_V_30_D_0.1_2.gz\n",
      "Parsing file ...Done\n",
      "Opening file: ../../../Simulations/Raw/Interference_2/SCHED_2_UE_60_V_30_D_0.1_1.gz\n",
      "Parsing file ...Done\n",
      "Opening file: ../../../Simulations/Raw/Interference_2/SCHED_2_UE_60_V_30_D_0.1_2.gz\n",
      "Parsing file ...Done\n",
      "Opening file: ../../../Simulations/Raw/Interference_2/SCHED_2_UE_70_V_30_D_0.1_1.gz\n",
      "Parsing file ...Done\n",
      "Opening file: ../../../Simulations/Raw/Interference_2/SCHED_2_UE_70_V_30_D_0.1_2.gz\n",
      "Parsing file ...Done\n",
      "Opening file: ../../../Simulations/Raw/Interference_2/SCHED_2_UE_80_V_30_D_0.1_1.gz\n",
      "Parsing file ...Done\n",
      "Opening file: ../../../Simulations/Raw/Interference_2/SCHED_2_UE_80_V_30_D_0.1_2.gz\n",
      "Parsing file ...Done\n",
      "Opening file: ../../../Simulations/Raw/Interference_2/SCHED_2_UE_90_V_30_D_0.1_1.gz\n",
      "Parsing file ...Done\n",
      "Opening file: ../../../Simulations/Raw/Interference_2/SCHED_2_UE_90_V_30_D_0.1_2.gz\n",
      "Parsing file ...Done\n",
      "Opening file: ../../../Simulations/Raw/Interference_2/SCHED_2_UE_100_V_30_D_0.1_1.gz\n",
      "Parsing file ...Done\n",
      "Opening file: ../../../Simulations/Raw/Interference_2/SCHED_2_UE_100_V_30_D_0.1_2.gz\n",
      "Parsing file ...Done\n",
      "Opening file: ../../../Simulations/Raw/Interference_2/SCHED_3_UE_20_V_30_D_0.1_1.gz\n",
      "Parsing file ...Done\n",
      "Opening file: ../../../Simulations/Raw/Interference_2/SCHED_3_UE_20_V_30_D_0.1_2.gz\n",
      "Parsing file ...Done\n",
      "Opening file: ../../../Simulations/Raw/Interference_2/SCHED_3_UE_30_V_30_D_0.1_1.gz\n",
      "Parsing file ...Done\n",
      "Opening file: ../../../Simulations/Raw/Interference_2/SCHED_3_UE_30_V_30_D_0.1_2.gz\n",
      "Parsing file ...Done\n",
      "Opening file: ../../../Simulations/Raw/Interference_2/SCHED_3_UE_40_V_30_D_0.1_1.gz\n",
      "Parsing file ...Done\n",
      "Opening file: ../../../Simulations/Raw/Interference_2/SCHED_3_UE_40_V_30_D_0.1_2.gz\n",
      "Parsing file ...Done\n",
      "Opening file: ../../../Simulations/Raw/Interference_2/SCHED_3_UE_50_V_30_D_0.1_1.gz\n",
      "Parsing file ...Done\n",
      "Opening file: ../../../Simulations/Raw/Interference_2/SCHED_3_UE_50_V_30_D_0.1_2.gz\n",
      "Parsing file ...Done\n",
      "Opening file: ../../../Simulations/Raw/Interference_2/SCHED_3_UE_60_V_30_D_0.1_1.gz\n",
      "Parsing file ...Done\n",
      "Opening file: ../../../Simulations/Raw/Interference_2/SCHED_3_UE_60_V_30_D_0.1_2.gz\n",
      "Parsing file ...Done\n",
      "Opening file: ../../../Simulations/Raw/Interference_2/SCHED_3_UE_70_V_30_D_0.1_1.gz\n",
      "Parsing file ...Done\n",
      "Opening file: ../../../Simulations/Raw/Interference_2/SCHED_3_UE_70_V_30_D_0.1_2.gz\n",
      "Parsing file ...Done\n",
      "Opening file: ../../../Simulations/Raw/Interference_2/SCHED_3_UE_80_V_30_D_0.1_1.gz\n",
      "Parsing file ...Done\n",
      "Opening file: ../../../Simulations/Raw/Interference_2/SCHED_3_UE_80_V_30_D_0.1_2.gz\n",
      "Parsing file ...Done\n",
      "Opening file: ../../../Simulations/Raw/Interference_2/SCHED_3_UE_90_V_30_D_0.1_1.gz\n",
      "Parsing file ...Done\n",
      "Opening file: ../../../Simulations/Raw/Interference_2/SCHED_3_UE_90_V_30_D_0.1_2.gz\n",
      "Parsing file ...Done\n",
      "Opening file: ../../../Simulations/Raw/Interference_2/SCHED_3_UE_100_V_30_D_0.1_1.gz\n",
      "Parsing file ...Done\n",
      "Opening file: ../../../Simulations/Raw/Interference_2/SCHED_3_UE_100_V_30_D_0.1_2.gz\n",
      "Parsing file ...Done\n",
      "Opening file: ../../../Simulations/Raw/Interference_2/SCHED_4_UE_20_V_30_D_0.1_1.gz\n",
      "Parsing file ...Done\n",
      "Opening file: ../../../Simulations/Raw/Interference_2/SCHED_4_UE_20_V_30_D_0.1_2.gz\n",
      "Parsing file ...Done\n",
      "Opening file: ../../../Simulations/Raw/Interference_2/SCHED_4_UE_30_V_30_D_0.1_1.gz\n",
      "Parsing file ...Done\n",
      "Opening file: ../../../Simulations/Raw/Interference_2/SCHED_4_UE_30_V_30_D_0.1_2.gz\n",
      "Parsing file ...Done\n",
      "Opening file: ../../../Simulations/Raw/Interference_2/SCHED_4_UE_40_V_30_D_0.1_1.gz\n",
      "Parsing file ...Done\n",
      "Opening file: ../../../Simulations/Raw/Interference_2/SCHED_4_UE_40_V_30_D_0.1_2.gz\n",
      "Parsing file ...Done\n",
      "Opening file: ../../../Simulations/Raw/Interference_2/SCHED_4_UE_50_V_30_D_0.1_1.gz\n",
      "Parsing file ...Done\n",
      "Opening file: ../../../Simulations/Raw/Interference_2/SCHED_4_UE_50_V_30_D_0.1_2.gz\n",
      "Parsing file ...Done\n",
      "Opening file: ../../../Simulations/Raw/Interference_2/SCHED_4_UE_60_V_30_D_0.1_1.gz\n",
      "Parsing file ...Done\n",
      "Opening file: ../../../Simulations/Raw/Interference_2/SCHED_4_UE_60_V_30_D_0.1_2.gz\n",
      "Parsing file ...Done\n",
      "Opening file: ../../../Simulations/Raw/Interference_2/SCHED_4_UE_70_V_30_D_0.1_1.gz\n",
      "Parsing file ...Done\n",
      "Opening file: ../../../Simulations/Raw/Interference_2/SCHED_4_UE_70_V_30_D_0.1_2.gz\n",
      "Parsing file ...Done\n",
      "Opening file: ../../../Simulations/Raw/Interference_2/SCHED_4_UE_80_V_30_D_0.1_1.gz\n",
      "Parsing file ...Done\n",
      "Opening file: ../../../Simulations/Raw/Interference_2/SCHED_4_UE_80_V_30_D_0.1_2.gz\n",
      "Parsing file ...Done\n",
      "Opening file: ../../../Simulations/Raw/Interference_2/SCHED_4_UE_90_V_30_D_0.1_1.gz\n",
      "Parsing file ...Done\n",
      "Opening file: ../../../Simulations/Raw/Interference_2/SCHED_4_UE_90_V_30_D_0.1_2.gz\n",
      "Parsing file ...Done\n",
      "Opening file: ../../../Simulations/Raw/Interference_2/SCHED_4_UE_100_V_30_D_0.1_1.gz\n",
      "Parsing file ...Done\n",
      "Opening file: ../../../Simulations/Raw/Interference_2/SCHED_4_UE_100_V_30_D_0.1_2.gz\n",
      "Parsing file ...Done\n",
      "Opening file: ../../../Simulations/Raw/Interference_2/SCHED_5_UE_20_V_30_D_0.1_1.gz\n",
      "Parsing file ...Done\n",
      "Opening file: ../../../Simulations/Raw/Interference_2/SCHED_5_UE_20_V_30_D_0.1_2.gz\n",
      "Parsing file ...Done\n",
      "Opening file: ../../../Simulations/Raw/Interference_2/SCHED_5_UE_30_V_30_D_0.1_1.gz\n",
      "Parsing file ...Done\n",
      "Opening file: ../../../Simulations/Raw/Interference_2/SCHED_5_UE_30_V_30_D_0.1_2.gz\n",
      "Parsing file ...Done\n",
      "Opening file: ../../../Simulations/Raw/Interference_2/SCHED_5_UE_40_V_30_D_0.1_1.gz\n",
      "Parsing file ...Done\n",
      "Opening file: ../../../Simulations/Raw/Interference_2/SCHED_5_UE_40_V_30_D_0.1_2.gz\n",
      "Parsing file ...Done\n",
      "Opening file: ../../../Simulations/Raw/Interference_2/SCHED_5_UE_50_V_30_D_0.1_1.gz\n",
      "Parsing file ...Done\n",
      "Opening file: ../../../Simulations/Raw/Interference_2/SCHED_5_UE_50_V_30_D_0.1_2.gz\n",
      "Parsing file ...Done\n",
      "Opening file: ../../../Simulations/Raw/Interference_2/SCHED_5_UE_60_V_30_D_0.1_1.gz\n",
      "Parsing file ...Done\n",
      "Opening file: ../../../Simulations/Raw/Interference_2/SCHED_5_UE_60_V_30_D_0.1_2.gz\n",
      "Parsing file ...Done\n",
      "Opening file: ../../../Simulations/Raw/Interference_2/SCHED_5_UE_70_V_30_D_0.1_1.gz\n",
      "Parsing file ...Done\n",
      "Opening file: ../../../Simulations/Raw/Interference_2/SCHED_5_UE_70_V_30_D_0.1_2.gz\n",
      "Parsing file ...Done\n",
      "Opening file: ../../../Simulations/Raw/Interference_2/SCHED_5_UE_80_V_30_D_0.1_1.gz\n",
      "Parsing file ...Done\n",
      "Opening file: ../../../Simulations/Raw/Interference_2/SCHED_5_UE_80_V_30_D_0.1_2.gz\n",
      "Parsing file ...Done\n",
      "Opening file: ../../../Simulations/Raw/Interference_2/SCHED_5_UE_90_V_30_D_0.1_1.gz\n",
      "Parsing file ...Done\n",
      "Opening file: ../../../Simulations/Raw/Interference_2/SCHED_5_UE_90_V_30_D_0.1_2.gz\n",
      "Parsing file ...Done\n",
      "Opening file: ../../../Simulations/Raw/Interference_2/SCHED_5_UE_100_V_30_D_0.1_1.gz\n",
      "Parsing file ...Done\n",
      "Opening file: ../../../Simulations/Raw/Interference_2/SCHED_5_UE_100_V_30_D_0.1_2.gz\n",
      "Parsing file ...Done\n",
      "Opening file: ../../../Simulations/Raw/Interference_2/SCHED_6_UE_20_V_30_D_0.1_1.gz\n",
      "Parsing file ...Done\n",
      "Opening file: ../../../Simulations/Raw/Interference_2/SCHED_6_UE_20_V_30_D_0.1_2.gz\n",
      "Parsing file ...Done\n",
      "Opening file: ../../../Simulations/Raw/Interference_2/SCHED_6_UE_30_V_30_D_0.1_1.gz\n",
      "Parsing file ...Done\n",
      "Opening file: ../../../Simulations/Raw/Interference_2/SCHED_6_UE_30_V_30_D_0.1_2.gz\n",
      "Parsing file ...Done\n",
      "Opening file: ../../../Simulations/Raw/Interference_2/SCHED_6_UE_40_V_30_D_0.1_1.gz\n",
      "Parsing file ...Done\n",
      "Opening file: ../../../Simulations/Raw/Interference_2/SCHED_6_UE_40_V_30_D_0.1_2.gz\n",
      "Parsing file ...Done\n",
      "Opening file: ../../../Simulations/Raw/Interference_2/SCHED_6_UE_50_V_30_D_0.1_1.gz\n",
      "Parsing file ...Done\n",
      "Opening file: ../../../Simulations/Raw/Interference_2/SCHED_6_UE_50_V_30_D_0.1_2.gz\n",
      "Parsing file ...Done\n",
      "Opening file: ../../../Simulations/Raw/Interference_2/SCHED_6_UE_60_V_30_D_0.1_1.gz\n",
      "Parsing file ...Done\n",
      "Opening file: ../../../Simulations/Raw/Interference_2/SCHED_6_UE_60_V_30_D_0.1_2.gz\n",
      "Parsing file ...Done\n",
      "Opening file: ../../../Simulations/Raw/Interference_2/SCHED_6_UE_70_V_30_D_0.1_1.gz\n",
      "Parsing file ...Done\n",
      "Opening file: ../../../Simulations/Raw/Interference_2/SCHED_6_UE_70_V_30_D_0.1_2.gz\n",
      "Parsing file ...Done\n",
      "Opening file: ../../../Simulations/Raw/Interference_2/SCHED_6_UE_80_V_30_D_0.1_1.gz\n",
      "Parsing file ...Done\n",
      "Opening file: ../../../Simulations/Raw/Interference_2/SCHED_6_UE_80_V_30_D_0.1_2.gz\n",
      "Parsing file ...Done\n",
      "Opening file: ../../../Simulations/Raw/Interference_2/SCHED_6_UE_90_V_30_D_0.1_1.gz\n",
      "Parsing file ...Done\n",
      "Opening file: ../../../Simulations/Raw/Interference_2/SCHED_6_UE_90_V_30_D_0.1_2.gz\n",
      "Parsing file ...Done\n",
      "Opening file: ../../../Simulations/Raw/Interference_2/SCHED_6_UE_100_V_30_D_0.1_1.gz\n",
      "Parsing file ...Done\n",
      "Opening file: ../../../Simulations/Raw/Interference_2/SCHED_6_UE_100_V_30_D_0.1_2.gz\n",
      "Parsing file ...Done\n"
     ]
    }
   ],
   "source": [
    "#VIDEO\n",
    "GPUTSVIDEO = {1: [], 2: [], 3: [], 4: [], 5: [], 6: []}\n",
    "FAIRVIDEO = {1: [], 2: [], 3: [], 4: [], 5: [], 6: []}\n",
    "DELAYVIDEO = {1: [], 2: [], 3: [], 4: [], 5: [], 6: []}\n",
    "JITTERVIDEO = {1: [], 2: [], 3: [], 4: [], 5: [], 6: []}\n",
    "PLRVIDEO = {1: [], 2: [], 3: [], 4: [], 5: [], 6: []}\n",
    "#VOICE\n",
    "GPUTSVOICE = {1: [], 2: [], 3: [], 4: [], 5: [], 6: []}\n",
    "FAIRVOICE = {1: [], 2: [], 3: [], 4: [], 5: [], 6: []}\n",
    "DELAYVOICE = {1: [], 2: [], 3: [], 4: [], 5: [], 6: []}\n",
    "JITTERVOICE = {1: [], 2: [], 3: [], 4: [], 5: [], 6: []}\n",
    "PLRVOICE = {1: [], 2: [], 3: [], 4: [], 5: [], 6: []}\n",
    "#INFBUF\n",
    "GPUTSINFBUF = {1: [], 2: [], 3: [], 4: [], 5: [], 6: []}\n",
    "FAIRINFBUF = {1: [], 2: [], 3: [], 4: [], 5: [], 6: []}\n",
    "DELAYINFBUF = {1: [], 2: [], 3: [], 4: [], 5: [], 6: []}\n",
    "JITTERINFBUF = {1: [], 2: [], 3: [], 4: [], 5: [], 6: []}\n",
    "PLRINFBUF = {1: [], 2: [], 3: [], 4: [], 5: [], 6: []}\n",
    "#GERAL\n",
    "PACKETLOSS = {1: [], 2: [], 3: [], 4: [], 5: [], 6: []}\n",
    "for sched in GPUTSVIDEO:\n",
    "    for ue in range(20, 101, 10):\n",
    "        info = LTEParser.parse(files[sched][30][ue], 100)\n",
    "        #VIDEO\n",
    "        GPUTSVIDEO[sched].append(info[0])\n",
    "        FAIRVIDEO[sched].append(info[1])\n",
    "        DELAYVIDEO[sched].append(info[2])\n",
    "        JITTERVIDEO[sched].append(info[3])\n",
    "        PLRVIDEO[sched].append(info[4])\n",
    "        #VOICE\n",
    "        GPUTSVOICE[sched].append(info[5])\n",
    "        FAIRVOICE[sched].append(info[6])\n",
    "        DELAYVOICE[sched].append(info[7])\n",
    "        JITTERVOICE[sched].append(info[8])\n",
    "        PLRVOICE[sched].append(info[9])\n",
    "        #INFBUF\n",
    "        GPUTSINFBUF[sched].append(info[10])\n",
    "        FAIRINFBUF[sched].append(info[11])\n",
    "        DELAYINFBUF[sched].append(info[12])\n",
    "        JITTERINFBUF[sched].append(info[13])\n",
    "        PLRINFBUF[sched].append(info[14])\n",
    "        #GERAL\n",
    "        PACKETLOSS[sched].append(info[15])\n",
    "    #VIDEO\n",
    "    GPUTSVIDEO[sched] = np.array(GPUTSVIDEO[sched], dtype=np.float32)\n",
    "    FAIRVIDEO[sched] = np.array(FAIRVIDEO[sched], dtype=np.float32)\n",
    "    DELAYVIDEO[sched] = np.array(DELAYVIDEO[sched], dtype = np.float32)\n",
    "    JITTERVIDEO[sched] = np.array(JITTERVIDEO[sched], dtype = np.float32)\n",
    "    PLRVIDEO[sched] = np.array(PLRVIDEO[sched], dtype = np.float32)\n",
    "    #VOICE\n",
    "    GPUTSVOICE[sched] = np.array(GPUTSVOICE[sched], dtype=np.float32)\n",
    "    FAIRVOICE[sched] = np.array(FAIRVOICE[sched], dtype=np.float32)\n",
    "    DELAYVOICE[sched] = np.array(DELAYVOICE[sched], dtype = np.float32)\n",
    "    JITTERVOICE[sched] = np.array(JITTERVOICE[sched], dtype = np.float32)\n",
    "    PLRVOICE[sched] = np.array(PLRVOICE[sched], dtype = np.float32)\n",
    "    #INFBUF\n",
    "    GPUTSINFBUF[sched] = np.array(GPUTSINFBUF[sched], dtype=np.float32)\n",
    "    FAIRINFBUF[sched] = np.array(FAIRINFBUF[sched], dtype=np.float32)\n",
    "    DELAYINFBUF[sched] = np.array(DELAYINFBUF[sched], dtype = np.float32)\n",
    "    JITTERINFBUF[sched] = np.array(JITTERINFBUF[sched], dtype = np.float32)\n",
    "    PLRINFBUF[sched] = np.array(PLRINFBUF[sched], dtype = np.float32)\n",
    "    #GERAL\n",
    "    PACKETLOSS[sched] = np.array(PACKETLOSS[sched], dtype=np.float32)"
   ]
  },
  {
   "cell_type": "markdown",
   "metadata": {},
   "source": [
    "# VIDEO GPUT MB/s"
   ]
  },
  {
   "cell_type": "code",
   "execution_count": 8,
   "metadata": {
    "scrolled": true
   },
   "outputs": [
    {
     "data": {
      "text/plain": [
       "{1: array([2.8196132, 1.5195911, 1.0476191, 1.194533 , 1.1467818, 1.2471982,\n",
       "        1.1242313, 1.1507871, 1.2799366], dtype=float32),\n",
       " 2: array([3.8790686, 4.560423 , 4.461217 , 4.291248 , 4.0333786, 3.765283 ,\n",
       "        3.3407366, 2.8493588, 2.8237739], dtype=float32),\n",
       " 3: array([3.9747474, 4.382265 , 4.312328 , 3.8375611, 3.4853966, 3.2202237,\n",
       "        3.0100226, 2.8196435, 2.859403 ], dtype=float32),\n",
       " 4: array([4.8587804, 7.1587105, 8.831927 , 9.405493 , 9.661802 , 9.067041 ,\n",
       "        8.471028 , 7.5593014, 7.0658703], dtype=float32),\n",
       " 5: array([4.765389 , 6.59207  , 7.344764 , 7.025937 , 6.164172 , 5.5033884,\n",
       "        5.0666447, 4.416031 , 4.08947  ], dtype=float32),\n",
       " 6: array([3.8777494, 4.3814473, 4.6150374, 4.077805 , 3.9493868, 3.5686681,\n",
       "        3.405612 , 2.9919379, 2.671394 ], dtype=float32)}"
      ]
     },
     "execution_count": 8,
     "metadata": {},
     "output_type": "execute_result"
    }
   ],
   "source": [
    "MEGAVIDEO = {1: [], 2: [], 3: [], 4: [], 5: [], 6: []}\n",
    "for sched in GPUTSVIDEO:\n",
    "    MEGAVIDEO[sched] = np.true_divide(GPUTSVIDEO[sched], 8)\n",
    "MEGAVIDEO"
   ]
  },
  {
   "cell_type": "code",
   "execution_count": 9,
   "metadata": {
    "scrolled": true
   },
   "outputs": [
    {
     "data": {
      "image/png": "[encoded data removed]",
      "text/plain": [
       "<Figure size 432x288 with 1 Axes>"
      ]
     },
     "metadata": {
      "needs_background": "light"
     },
     "output_type": "display_data"
    }
   ],
   "source": [
    "dfGPUTVIDEO = pd.DataFrame({'PF': MEGAVIDEO[1], 'MLWDF': MEGAVIDEO[2], 'EXP': MEGAVIDEO[3],\n",
    "                       'FLS': MEGAVIDEO[4], 'EXPR': MEGAVIDEO[5], 'LOGR': MEGAVIDEO[6]},\n",
    "                      index=[20,30,40,50,60,70,80,90,100])\n",
    "plot = dfGPUTVIDEO.plot.bar(rot=0)\n",
    "fig = plot.get_figure()\n",
    "fig.savefig(\"./pdfs/GPUTVideo.pdf\", bbox_inches='tight')"
   ]
  },
  {
   "cell_type": "code",
   "execution_count": 10,
   "metadata": {
    "scrolled": false
   },
   "outputs": [
    {
     "data": {
      "text/html": [
       "<div>\n",
       "<style scoped>\n",
       "    .dataframe tbody tr th:only-of-type {\n",
       "        vertical-align: middle;\n",
       "    }\n",
       "\n",
       "    .dataframe tbody tr th {\n",
       "        vertical-align: top;\n",
       "    }\n",
       "\n",
       "    .dataframe thead th {\n",
       "        text-align: right;\n",
       "    }\n",
       "</style>\n",
       "<table border=\"1\" class=\"dataframe\">\n",
       "  <thead>\n",
       "    <tr style=\"text-align: right;\">\n",
       "      <th></th>\n",
       "      <th>PF</th>\n",
       "      <th>MLWDF</th>\n",
       "      <th>EXP</th>\n",
       "      <th>FLS</th>\n",
       "      <th>EXPR</th>\n",
       "      <th>LOGR</th>\n",
       "    </tr>\n",
       "  </thead>\n",
       "  <tbody>\n",
       "    <tr>\n",
       "      <th>20</th>\n",
       "      <td>2.819613</td>\n",
       "      <td>3.879069</td>\n",
       "      <td>3.974747</td>\n",
       "      <td>4.858780</td>\n",
       "      <td>4.765389</td>\n",
       "      <td>3.877749</td>\n",
       "    </tr>\n",
       "    <tr>\n",
       "      <th>30</th>\n",
       "      <td>1.519591</td>\n",
       "      <td>4.560423</td>\n",
       "      <td>4.382265</td>\n",
       "      <td>7.158710</td>\n",
       "      <td>6.592070</td>\n",
       "      <td>4.381447</td>\n",
       "    </tr>\n",
       "    <tr>\n",
       "      <th>40</th>\n",
       "      <td>1.047619</td>\n",
       "      <td>4.461217</td>\n",
       "      <td>4.312328</td>\n",
       "      <td>8.831927</td>\n",
       "      <td>7.344764</td>\n",
       "      <td>4.615037</td>\n",
       "    </tr>\n",
       "    <tr>\n",
       "      <th>50</th>\n",
       "      <td>1.194533</td>\n",
       "      <td>4.291248</td>\n",
       "      <td>3.837561</td>\n",
       "      <td>9.405493</td>\n",
       "      <td>7.025937</td>\n",
       "      <td>4.077805</td>\n",
       "    </tr>\n",
       "    <tr>\n",
       "      <th>60</th>\n",
       "      <td>1.146782</td>\n",
       "      <td>4.033379</td>\n",
       "      <td>3.485397</td>\n",
       "      <td>9.661802</td>\n",
       "      <td>6.164172</td>\n",
       "      <td>3.949387</td>\n",
       "    </tr>\n",
       "    <tr>\n",
       "      <th>70</th>\n",
       "      <td>1.247198</td>\n",
       "      <td>3.765283</td>\n",
       "      <td>3.220224</td>\n",
       "      <td>9.067041</td>\n",
       "      <td>5.503388</td>\n",
       "      <td>3.568668</td>\n",
       "    </tr>\n",
       "    <tr>\n",
       "      <th>80</th>\n",
       "      <td>1.124231</td>\n",
       "      <td>3.340737</td>\n",
       "      <td>3.010023</td>\n",
       "      <td>8.471028</td>\n",
       "      <td>5.066645</td>\n",
       "      <td>3.405612</td>\n",
       "    </tr>\n",
       "    <tr>\n",
       "      <th>90</th>\n",
       "      <td>1.150787</td>\n",
       "      <td>2.849359</td>\n",
       "      <td>2.819643</td>\n",
       "      <td>7.559301</td>\n",
       "      <td>4.416031</td>\n",
       "      <td>2.991938</td>\n",
       "    </tr>\n",
       "    <tr>\n",
       "      <th>100</th>\n",
       "      <td>1.279937</td>\n",
       "      <td>2.823774</td>\n",
       "      <td>2.859403</td>\n",
       "      <td>7.065870</td>\n",
       "      <td>4.089470</td>\n",
       "      <td>2.671394</td>\n",
       "    </tr>\n",
       "  </tbody>\n",
       "</table>\n",
       "</div>"
      ],
      "text/plain": [
       "           PF     MLWDF       EXP       FLS      EXPR      LOGR\n",
       "20   2.819613  3.879069  3.974747  4.858780  4.765389  3.877749\n",
       "30   1.519591  4.560423  4.382265  7.158710  6.592070  4.381447\n",
       "40   1.047619  4.461217  4.312328  8.831927  7.344764  4.615037\n",
       "50   1.194533  4.291248  3.837561  9.405493  7.025937  4.077805\n",
       "60   1.146782  4.033379  3.485397  9.661802  6.164172  3.949387\n",
       "70   1.247198  3.765283  3.220224  9.067041  5.503388  3.568668\n",
       "80   1.124231  3.340737  3.010023  8.471028  5.066645  3.405612\n",
       "90   1.150787  2.849359  2.819643  7.559301  4.416031  2.991938\n",
       "100  1.279937  2.823774  2.859403  7.065870  4.089470  2.671394"
      ]
     },
     "execution_count": 10,
     "metadata": {},
     "output_type": "execute_result"
    }
   ],
   "source": [
    "dfGPUTVIDEO"
   ]
  },
  {
   "cell_type": "markdown",
   "metadata": {},
   "source": [
    "# Delay Jitter"
   ]
  },
  {
   "cell_type": "code",
   "execution_count": 11,
   "metadata": {},
   "outputs": [
    {
     "data": {
      "image/png": "[encoded data removed]",
      "text/plain": [
       "<Figure size 432x288 with 1 Axes>"
      ]
     },
     "metadata": {
      "needs_background": "light"
     },
     "output_type": "display_data"
    }
   ],
   "source": [
    "dfDELAYVIDEO = pd.DataFrame({'PF': DELAYVIDEO[1], 'MLWDF': DELAYVIDEO[2], 'EXP': DELAYVIDEO[3],\n",
    "                            'FLS': DELAYVIDEO[4], 'EXPR': DELAYVIDEO[5], 'LOGR': DELAYVIDEO[6]},\n",
    "                           index=[20,30,40,50,60,70,80,90,100])\n",
    "plot = dfDELAYVIDEO.plot.bar(rot=0)\n",
    "fig = plot.get_figure()\n",
    "fig.savefig(\"./pdfs/DelayVideoPF.pdf\", bbox_inches='tight')"
   ]
  },
  {
   "cell_type": "code",
   "execution_count": 12,
   "metadata": {},
   "outputs": [
    {
     "data": {
      "image/png": "[encoded data removed]",
      "text/plain": [
       "<Figure size 432x288 with 1 Axes>"
      ]
     },
     "metadata": {
      "needs_background": "light"
     },
     "output_type": "display_data"
    }
   ],
   "source": [
    "dfDELAYVIDEO = pd.DataFrame({'MLWDF': DELAYVIDEO[2], 'EXP': DELAYVIDEO[3],\n",
    "                            'FLS': DELAYVIDEO[4], 'EXPR': DELAYVIDEO[5], 'LOGR': DELAYVIDEO[6]},\n",
    "                           index=[20,30,40,50,60,70,80,90,100])\n",
    "plot = dfDELAYVIDEO.plot.bar(rot=0)\n",
    "fig = plot.get_figure()\n",
    "fig.savefig(\"./pdfs/DelayVideo.pdf\", bbox_inches='tight')"
   ]
  },
  {
   "cell_type": "code",
   "execution_count": 13,
   "metadata": {},
   "outputs": [
    {
     "data": {
      "image/png": "[encoded data removed]",
      "text/plain": [
       "<Figure size 432x288 with 1 Axes>"
      ]
     },
     "metadata": {
      "needs_background": "light"
     },
     "output_type": "display_data"
    }
   ],
   "source": [
    "dfJITTERVIDEO = pd.DataFrame({'PF': JITTERVIDEO[1], 'MLWDF': JITTERVIDEO[2], 'EXP': JITTERVIDEO[3],\n",
    "                            'FLS': JITTERVIDEO[4], 'EXPR': JITTERVIDEO[5], 'LOGR': JITTERVIDEO[6]},\n",
    "                           index=[20,30,40,50,60,70,80,90,100])\n",
    "plot = dfJITTERVIDEO.plot.bar(rot=0)\n",
    "fig = plot.get_figure()\n",
    "fig.savefig(\"./pdfs/JitterVideoPF.pdf\", bbox_inches='tight')"
   ]
  },
  {
   "cell_type": "code",
   "execution_count": 14,
   "metadata": {
    "scrolled": true
   },
   "outputs": [
    {
     "data": {
      "image/png": "[encoded data removed]",
      "text/plain": [
       "<Figure size 432x288 with 1 Axes>"
      ]
     },
     "metadata": {
      "needs_background": "light"
     },
     "output_type": "display_data"
    }
   ],
   "source": [
    "dfJITTERVIDEO = pd.DataFrame({'MLWDF': JITTERVIDEO[2], 'EXP': JITTERVIDEO[3],\n",
    "                            'FLS': JITTERVIDEO[4], 'EXPR': JITTERVIDEO[5], 'LOGR': JITTERVIDEO[6]},\n",
    "                           index=[20,30,40,50,60,70,80,90,100])\n",
    "plot = dfJITTERVIDEO.plot.bar(rot=0)\n",
    "fig = plot.get_figure()\n",
    "fig.savefig(\"./pdfs/JitterVideo.pdf\", bbox_inches='tight')"
   ]
  },
  {
   "cell_type": "markdown",
   "metadata": {},
   "source": [
    "# VIDEO FAIRNESS"
   ]
  },
  {
   "cell_type": "code",
   "execution_count": 15,
   "metadata": {
    "scrolled": true
   },
   "outputs": [
    {
     "data": {
      "image/png": "[encoded data removed]",
      "text/plain": [
       "<Figure size 432x288 with 1 Axes>"
      ]
     },
     "metadata": {
      "needs_background": "light"
     },
     "output_type": "display_data"
    }
   ],
   "source": [
    "dfFAIRVIDEO = pd.DataFrame({'PF': FAIRVIDEO[1], 'MLWDF': FAIRVIDEO[2], 'EXP': FAIRVIDEO[3],\n",
    "                            'FLS': FAIRVIDEO[4], 'EXPR': FAIRVIDEO[5], 'LOGR': FAIRVIDEO[6]},\n",
    "                           index=[20,30,40,50,60,70,80,90,100])\n",
    "plot = dfFAIRVIDEO.plot.bar(rot=0)\n",
    "fig = plot.get_figure()\n",
    "fig.savefig(\"./pdfs/FairnessVideo.pdf\", bbox_inches='tight')"
   ]
  },
  {
   "cell_type": "code",
   "execution_count": 16,
   "metadata": {
    "scrolled": true
   },
   "outputs": [
    {
     "data": {
      "text/html": [
       "<div>\n",
       "<style scoped>\n",
       "    .dataframe tbody tr th:only-of-type {\n",
       "        vertical-align: middle;\n",
       "    }\n",
       "\n",
       "    .dataframe tbody tr th {\n",
       "        vertical-align: top;\n",
       "    }\n",
       "\n",
       "    .dataframe thead th {\n",
       "        text-align: right;\n",
       "    }\n",
       "</style>\n",
       "<table border=\"1\" class=\"dataframe\">\n",
       "  <thead>\n",
       "    <tr style=\"text-align: right;\">\n",
       "      <th></th>\n",
       "      <th>PF</th>\n",
       "      <th>MLWDF</th>\n",
       "      <th>EXP</th>\n",
       "      <th>FLS</th>\n",
       "      <th>EXPR</th>\n",
       "      <th>LOGR</th>\n",
       "    </tr>\n",
       "  </thead>\n",
       "  <tbody>\n",
       "    <tr>\n",
       "      <th>20</th>\n",
       "      <td>0.692351</td>\n",
       "      <td>0.701294</td>\n",
       "      <td>0.703106</td>\n",
       "      <td>0.723149</td>\n",
       "      <td>0.721161</td>\n",
       "      <td>0.701116</td>\n",
       "    </tr>\n",
       "    <tr>\n",
       "      <th>30</th>\n",
       "      <td>0.596318</td>\n",
       "      <td>0.677704</td>\n",
       "      <td>0.672789</td>\n",
       "      <td>0.721318</td>\n",
       "      <td>0.713325</td>\n",
       "      <td>0.673424</td>\n",
       "    </tr>\n",
       "    <tr>\n",
       "      <th>40</th>\n",
       "      <td>0.519932</td>\n",
       "      <td>0.646864</td>\n",
       "      <td>0.641459</td>\n",
       "      <td>0.713644</td>\n",
       "      <td>0.696067</td>\n",
       "      <td>0.648452</td>\n",
       "    </tr>\n",
       "    <tr>\n",
       "      <th>50</th>\n",
       "      <td>0.518844</td>\n",
       "      <td>0.620790</td>\n",
       "      <td>0.608045</td>\n",
       "      <td>0.698077</td>\n",
       "      <td>0.670618</td>\n",
       "      <td>0.615126</td>\n",
       "    </tr>\n",
       "    <tr>\n",
       "      <th>60</th>\n",
       "      <td>0.516635</td>\n",
       "      <td>0.600519</td>\n",
       "      <td>0.583083</td>\n",
       "      <td>0.681994</td>\n",
       "      <td>0.642097</td>\n",
       "      <td>0.594952</td>\n",
       "    </tr>\n",
       "    <tr>\n",
       "      <th>70</th>\n",
       "      <td>0.521712</td>\n",
       "      <td>0.582137</td>\n",
       "      <td>0.564842</td>\n",
       "      <td>0.660306</td>\n",
       "      <td>0.617762</td>\n",
       "      <td>0.576500</td>\n",
       "    </tr>\n",
       "    <tr>\n",
       "      <th>80</th>\n",
       "      <td>0.515689</td>\n",
       "      <td>0.562002</td>\n",
       "      <td>0.551071</td>\n",
       "      <td>0.639331</td>\n",
       "      <td>0.599213</td>\n",
       "      <td>0.561144</td>\n",
       "    </tr>\n",
       "    <tr>\n",
       "      <th>90</th>\n",
       "      <td>0.519860</td>\n",
       "      <td>0.543403</td>\n",
       "      <td>0.538916</td>\n",
       "      <td>0.618623</td>\n",
       "      <td>0.581384</td>\n",
       "      <td>0.542674</td>\n",
       "    </tr>\n",
       "    <tr>\n",
       "      <th>100</th>\n",
       "      <td>0.522817</td>\n",
       "      <td>0.536025</td>\n",
       "      <td>0.534845</td>\n",
       "      <td>0.603893</td>\n",
       "      <td>0.566426</td>\n",
       "      <td>0.530259</td>\n",
       "    </tr>\n",
       "  </tbody>\n",
       "</table>\n",
       "</div>"
      ],
      "text/plain": [
       "           PF     MLWDF       EXP       FLS      EXPR      LOGR\n",
       "20   0.692351  0.701294  0.703106  0.723149  0.721161  0.701116\n",
       "30   0.596318  0.677704  0.672789  0.721318  0.713325  0.673424\n",
       "40   0.519932  0.646864  0.641459  0.713644  0.696067  0.648452\n",
       "50   0.518844  0.620790  0.608045  0.698077  0.670618  0.615126\n",
       "60   0.516635  0.600519  0.583083  0.681994  0.642097  0.594952\n",
       "70   0.521712  0.582137  0.564842  0.660306  0.617762  0.576500\n",
       "80   0.515689  0.562002  0.551071  0.639331  0.599213  0.561144\n",
       "90   0.519860  0.543403  0.538916  0.618623  0.581384  0.542674\n",
       "100  0.522817  0.536025  0.534845  0.603893  0.566426  0.530259"
      ]
     },
     "execution_count": 16,
     "metadata": {},
     "output_type": "execute_result"
    }
   ],
   "source": [
    "dfFAIRVIDEO"
   ]
  },
  {
   "cell_type": "markdown",
   "metadata": {},
   "source": [
    "# VIDEO PLR"
   ]
  },
  {
   "cell_type": "code",
   "execution_count": 17,
   "metadata": {},
   "outputs": [
    {
     "data": {
      "image/png": "[encoded data removed]",
      "text/plain": [
       "<Figure size 432x288 with 1 Axes>"
      ]
     },
     "metadata": {
      "needs_background": "light"
     },
     "output_type": "display_data"
    }
   ],
   "source": [
    "dfPLRVIDEO = pd.DataFrame({'PF': PLRVIDEO[1], 'MLWDF': PLRVIDEO[2], 'EXP': PLRVIDEO[3],\n",
    "                            'FLS': PLRVIDEO[4], 'EXPR': PLRVIDEO[5], 'LOGR': PLRVIDEO[6]},\n",
    "                           index=[20,30,40,50,60,70,80,90,100])\n",
    "plot = dfPLRVIDEO.plot.bar(rot=0)\n",
    "fig = plot.get_figure()\n",
    "fig.savefig(\"./pdfs/PacketLossVideo.pdf\", bbox_inches='tight')"
   ]
  },
  {
   "cell_type": "markdown",
   "metadata": {},
   "source": [
    "# VOIP GPUT MB/s"
   ]
  },
  {
   "cell_type": "code",
   "execution_count": 18,
   "metadata": {
    "scrolled": true
   },
   "outputs": [
    {
     "data": {
      "text/plain": [
       "{1: array([0.15258113, 0.22733824, 0.30227968, 0.36957183, 0.45309696,\n",
       "        0.53431296, 0.6138624 , 0.66985214, 0.7405312 ], dtype=float32),\n",
       " 2: array([0.15545088, 0.21860352, 0.30423808, 0.37755647, 0.46146816,\n",
       "        0.52180994, 0.6159258 , 0.6776499 , 0.7357952 ], dtype=float32),\n",
       " 3: array([0.15730432, 0.22601728, 0.29678848, 0.3862221 , 0.45541632,\n",
       "        0.5180134 , 0.59363586, 0.6831846 , 0.73119485], dtype=float32),\n",
       " 4: array([0.15123712, 0.22996736, 0.29602304, 0.37589505, 0.45755392,\n",
       "        0.53708035, 0.5975142 , 0.68718594, 0.7562573 ], dtype=float32),\n",
       " 5: array([0.15371776, 0.21533953, 0.3013888 , 0.38133505, 0.454976  ,\n",
       "        0.53562367, 0.6012339 , 0.6840115 , 0.7392051 ], dtype=float32),\n",
       " 6: array([0.15180545, 0.22458369, 0.3046323 , 0.37265408, 0.4552704 ,\n",
       "        0.53167105, 0.6027187 , 0.6666624 , 0.7368832 ], dtype=float32)}"
      ]
     },
     "execution_count": 18,
     "metadata": {},
     "output_type": "execute_result"
    }
   ],
   "source": [
    "MEGAVOIP = {1: [], 2: [], 3: [], 4: [], 5: [], 6: []}\n",
    "for sched in GPUTSVOICE:\n",
    "    MEGAVOIP[sched] = np.true_divide(GPUTSVOICE[sched], 8)\n",
    "MEGAVOIP"
   ]
  },
  {
   "cell_type": "code",
   "execution_count": 19,
   "metadata": {
    "scrolled": true
   },
   "outputs": [
    {
     "data": {
      "image/png": "[encoded data removed]",
      "text/plain": [
       "<Figure size 432x288 with 1 Axes>"
      ]
     },
     "metadata": {
      "needs_background": "light"
     },
     "output_type": "display_data"
    }
   ],
   "source": [
    "dfGPUTVOICE = pd.DataFrame({'PF': MEGAVOIP[1], 'MLWDF': MEGAVOIP[2], 'EXP': MEGAVOIP[3],\n",
    "                       'FLS': MEGAVOIP[4], 'EXPR': MEGAVOIP[5], 'LOGR': MEGAVOIP[6]},\n",
    "                      index=[20,30,40,50,60,70,80,90,100])\n",
    "plot = dfGPUTVOICE.plot.bar(rot=0)\n",
    "fig = plot.get_figure()\n",
    "fig.savefig(\"./pdfs/GPUTVoIP.pdf\", bbox_inches='tight')"
   ]
  },
  {
   "cell_type": "code",
   "execution_count": 20,
   "metadata": {
    "scrolled": true
   },
   "outputs": [
    {
     "data": {
      "text/html": [
       "<div>\n",
       "<style scoped>\n",
       "    .dataframe tbody tr th:only-of-type {\n",
       "        vertical-align: middle;\n",
       "    }\n",
       "\n",
       "    .dataframe tbody tr th {\n",
       "        vertical-align: top;\n",
       "    }\n",
       "\n",
       "    .dataframe thead th {\n",
       "        text-align: right;\n",
       "    }\n",
       "</style>\n",
       "<table border=\"1\" class=\"dataframe\">\n",
       "  <thead>\n",
       "    <tr style=\"text-align: right;\">\n",
       "      <th></th>\n",
       "      <th>PF</th>\n",
       "      <th>MLWDF</th>\n",
       "      <th>EXP</th>\n",
       "      <th>FLS</th>\n",
       "      <th>EXPR</th>\n",
       "      <th>LOGR</th>\n",
       "    </tr>\n",
       "  </thead>\n",
       "  <tbody>\n",
       "    <tr>\n",
       "      <th>20</th>\n",
       "      <td>0.152581</td>\n",
       "      <td>0.155451</td>\n",
       "      <td>0.157304</td>\n",
       "      <td>0.151237</td>\n",
       "      <td>0.153718</td>\n",
       "      <td>0.151805</td>\n",
       "    </tr>\n",
       "    <tr>\n",
       "      <th>30</th>\n",
       "      <td>0.227338</td>\n",
       "      <td>0.218604</td>\n",
       "      <td>0.226017</td>\n",
       "      <td>0.229967</td>\n",
       "      <td>0.215340</td>\n",
       "      <td>0.224584</td>\n",
       "    </tr>\n",
       "    <tr>\n",
       "      <th>40</th>\n",
       "      <td>0.302280</td>\n",
       "      <td>0.304238</td>\n",
       "      <td>0.296788</td>\n",
       "      <td>0.296023</td>\n",
       "      <td>0.301389</td>\n",
       "      <td>0.304632</td>\n",
       "    </tr>\n",
       "    <tr>\n",
       "      <th>50</th>\n",
       "      <td>0.369572</td>\n",
       "      <td>0.377556</td>\n",
       "      <td>0.386222</td>\n",
       "      <td>0.375895</td>\n",
       "      <td>0.381335</td>\n",
       "      <td>0.372654</td>\n",
       "    </tr>\n",
       "    <tr>\n",
       "      <th>60</th>\n",
       "      <td>0.453097</td>\n",
       "      <td>0.461468</td>\n",
       "      <td>0.455416</td>\n",
       "      <td>0.457554</td>\n",
       "      <td>0.454976</td>\n",
       "      <td>0.455270</td>\n",
       "    </tr>\n",
       "    <tr>\n",
       "      <th>70</th>\n",
       "      <td>0.534313</td>\n",
       "      <td>0.521810</td>\n",
       "      <td>0.518013</td>\n",
       "      <td>0.537080</td>\n",
       "      <td>0.535624</td>\n",
       "      <td>0.531671</td>\n",
       "    </tr>\n",
       "    <tr>\n",
       "      <th>80</th>\n",
       "      <td>0.613862</td>\n",
       "      <td>0.615926</td>\n",
       "      <td>0.593636</td>\n",
       "      <td>0.597514</td>\n",
       "      <td>0.601234</td>\n",
       "      <td>0.602719</td>\n",
       "    </tr>\n",
       "    <tr>\n",
       "      <th>90</th>\n",
       "      <td>0.669852</td>\n",
       "      <td>0.677650</td>\n",
       "      <td>0.683185</td>\n",
       "      <td>0.687186</td>\n",
       "      <td>0.684012</td>\n",
       "      <td>0.666662</td>\n",
       "    </tr>\n",
       "    <tr>\n",
       "      <th>100</th>\n",
       "      <td>0.740531</td>\n",
       "      <td>0.735795</td>\n",
       "      <td>0.731195</td>\n",
       "      <td>0.756257</td>\n",
       "      <td>0.739205</td>\n",
       "      <td>0.736883</td>\n",
       "    </tr>\n",
       "  </tbody>\n",
       "</table>\n",
       "</div>"
      ],
      "text/plain": [
       "           PF     MLWDF       EXP       FLS      EXPR      LOGR\n",
       "20   0.152581  0.155451  0.157304  0.151237  0.153718  0.151805\n",
       "30   0.227338  0.218604  0.226017  0.229967  0.215340  0.224584\n",
       "40   0.302280  0.304238  0.296788  0.296023  0.301389  0.304632\n",
       "50   0.369572  0.377556  0.386222  0.375895  0.381335  0.372654\n",
       "60   0.453097  0.461468  0.455416  0.457554  0.454976  0.455270\n",
       "70   0.534313  0.521810  0.518013  0.537080  0.535624  0.531671\n",
       "80   0.613862  0.615926  0.593636  0.597514  0.601234  0.602719\n",
       "90   0.669852  0.677650  0.683185  0.687186  0.684012  0.666662\n",
       "100  0.740531  0.735795  0.731195  0.756257  0.739205  0.736883"
      ]
     },
     "execution_count": 20,
     "metadata": {},
     "output_type": "execute_result"
    }
   ],
   "source": [
    "dfGPUTVOICE"
   ]
  },
  {
   "cell_type": "markdown",
   "metadata": {},
   "source": [
    "# Delay Jitter"
   ]
  },
  {
   "cell_type": "code",
   "execution_count": 21,
   "metadata": {},
   "outputs": [
    {
     "data": {
      "image/png": "[encoded data removed]",
      "text/plain": [
       "<Figure size 432x288 with 1 Axes>"
      ]
     },
     "metadata": {
      "needs_background": "light"
     },
     "output_type": "display_data"
    }
   ],
   "source": [
    "dfDELAYVOICE = pd.DataFrame({'PF': DELAYVOICE[1], 'MLWDF': DELAYVOICE[2], 'EXP': DELAYVOICE[3],\n",
    "                            'FLS': DELAYVOICE[4], 'EXPR': DELAYVOICE[5], 'LOGR': DELAYVOICE[6]},\n",
    "                           index=[20,30,40,50,60,70,80,90,100])\n",
    "plot = dfDELAYVOICE.plot.bar(rot=0)\n",
    "fig = plot.get_figure()\n",
    "fig.savefig(\"./pdfs/DelayVoIPPF.pdf\", bbox_inches='tight')"
   ]
  },
  {
   "cell_type": "code",
   "execution_count": 22,
   "metadata": {},
   "outputs": [
    {
     "data": {
      "image/png": "[encoded data removed]",
      "text/plain": [
       "<Figure size 432x288 with 1 Axes>"
      ]
     },
     "metadata": {
      "needs_background": "light"
     },
     "output_type": "display_data"
    }
   ],
   "source": [
    "dfDELAYVOICE = pd.DataFrame({'MLWDF': DELAYVOICE[2], 'EXP': DELAYVOICE[3],\n",
    "                            'FLS': DELAYVOICE[4], 'EXPR': DELAYVOICE[5], 'LOGR': DELAYVOICE[6]},\n",
    "                           index=[20,30,40,50,60,70,80,90,100])\n",
    "plot = dfDELAYVOICE.plot.bar(rot=0)\n",
    "fig = plot.get_figure()\n",
    "fig.savefig(\"./pdfs/DelayVoIP.pdf\", bbox_inches='tight')"
   ]
  },
  {
   "cell_type": "code",
   "execution_count": 23,
   "metadata": {},
   "outputs": [
    {
     "data": {
      "image/png": "[encoded data removed]",
      "text/plain": [
       "<Figure size 432x288 with 1 Axes>"
      ]
     },
     "metadata": {
      "needs_background": "light"
     },
     "output_type": "display_data"
    }
   ],
   "source": [
    "dfJITTERVOICE = pd.DataFrame({'PF': JITTERVOICE[1], 'MLWDF': JITTERVOICE[2], 'EXP': JITTERVOICE[3],\n",
    "                            'FLS': JITTERVOICE[4], 'EXPR': JITTERVOICE[5], 'LOGR': JITTERVOICE[6]},\n",
    "                           index=[20,30,40,50,60,70,80,90,100])\n",
    "plot = dfJITTERVOICE.plot.bar(rot=0)\n",
    "fig = plot.get_figure()\n",
    "fig.savefig(\"./pdfs/JitterVoIPPF.pdf\", bbox_inches='tight')"
   ]
  },
  {
   "cell_type": "code",
   "execution_count": 24,
   "metadata": {
    "scrolled": false
   },
   "outputs": [
    {
     "data": {
      "image/png": "[encoded data removed]",
      "text/plain": [
       "<Figure size 432x288 with 1 Axes>"
      ]
     },
     "metadata": {
      "needs_background": "light"
     },
     "output_type": "display_data"
    }
   ],
   "source": [
    "dfJITTERVOICE = pd.DataFrame({'MLWDF': JITTERVOICE[2], 'EXP': JITTERVOICE[3],\n",
    "                            'FLS': JITTERVOICE[4], 'EXPR': JITTERVOICE[5], 'LOGR': JITTERVOICE[6]},\n",
    "                           index=[20,30,40,50,60,70,80,90,100])\n",
    "plot = dfJITTERVOICE.plot.bar(rot=0)\n",
    "fig = plot.get_figure()\n",
    "fig.savefig(\"./pdfs/JitterVoIP.pdf\", bbox_inches='tight')"
   ]
  },
  {
   "cell_type": "markdown",
   "metadata": {},
   "source": [
    "# VOICE PLR"
   ]
  },
  {
   "cell_type": "code",
   "execution_count": 25,
   "metadata": {
    "scrolled": true
   },
   "outputs": [
    {
     "data": {
      "image/png": "[encoded data removed]",
      "text/plain": [
       "<Figure size 432x288 with 1 Axes>"
      ]
     },
     "metadata": {
      "needs_background": "light"
     },
     "output_type": "display_data"
    }
   ],
   "source": [
    "dfPLRVOICE = pd.DataFrame({'PF': PLRVOICE[1], 'MLWDF': PLRVOICE[2], 'EXP': PLRVOICE[3],\n",
    "                            'FLS': PLRVOICE[4], 'EXPR': PLRVOICE[5], 'LOGR': PLRVOICE[6]},\n",
    "                           index=[20,30,40,50,60,70,80,90,100])\n",
    "plot = dfPLRVOICE.plot.bar(rot=0)\n",
    "fig = plot.get_figure()\n",
    "fig.savefig(\"./pdfs/PacketLossVoice.pdf\", bbox_inches='tight')"
   ]
  },
  {
   "cell_type": "markdown",
   "metadata": {},
   "source": [
    "# INF BUF"
   ]
  },
  {
   "cell_type": "code",
   "execution_count": 29,
   "metadata": {
    "scrolled": true
   },
   "outputs": [
    {
     "data": {
      "text/plain": [
       "{1: array([24.140095, 21.180302, 18.456   , 18.821262, 16.556633, 15.305092,\n",
       "        14.89354 , 14.992505, 15.131351], dtype=float32),\n",
       " 2: array([23.867916, 22.03495 , 22.898756, 23.05053 , 23.666079, 22.808153,\n",
       "        23.086542, 23.698017, 23.545263], dtype=float32),\n",
       " 3: array([25.400599, 24.424034, 23.188313, 23.161566, 23.163134, 23.846024,\n",
       "        23.546024, 22.384665, 23.69588 ], dtype=float32),\n",
       " 4: array([19.287907, 19.335234, 17.235083, 16.437971, 16.056398, 15.700737,\n",
       "        16.742714, 17.054913, 16.898336], dtype=float32),\n",
       " 5: array([22.813395, 19.987665, 20.363455, 20.252604, 19.98666 , 20.82024 ,\n",
       "        20.996271, 21.238369, 21.685698], dtype=float32),\n",
       " 6: array([23.434546, 23.172855, 22.799608, 22.94832 , 24.006025, 24.078287,\n",
       "        23.342392, 23.178751, 22.469576], dtype=float32)}"
      ]
     },
     "execution_count": 29,
     "metadata": {},
     "output_type": "execute_result"
    }
   ],
   "source": [
    "MEGAINFBUF = {1: [], 2: [], 3: [], 4: [], 5: [], 6: []}\n",
    "for sched in GPUTSINFBUF:\n",
    "    MEGAINFBUF[sched] = np.true_divide(GPUTSINFBUF[sched], 8)\n",
    "MEGAINFBUF"
   ]
  },
  {
   "cell_type": "code",
   "execution_count": 30,
   "metadata": {
    "scrolled": true
   },
   "outputs": [
    {
     "data": {
      "image/png": "[encoded data removed]",
      "text/plain": [
       "<Figure size 432x288 with 1 Axes>"
      ]
     },
     "metadata": {
      "needs_background": "light"
     },
     "output_type": "display_data"
    }
   ],
   "source": [
    "dfGPUTINFBUF = pd.DataFrame({'PF': MEGAINFBUF[1], 'MLWDF': MEGAINFBUF[2], 'EXP': MEGAINFBUF[3],\n",
    "                       'FLS': MEGAINFBUF[4], 'EXPR': MEGAINFBUF[5], 'LOGR': MEGAINFBUF[6]},\n",
    "                      index=[20,30,40,50,60,70,80,90,100])\n",
    "plot = dfGPUTINFBUF.plot.bar(rot=0)\n",
    "fig = plot.get_figure()\n",
    "fig.savefig(\"./pdfs/GPUTInfBuf.pdf\", bbox_inches='tight')"
   ]
  },
  {
   "cell_type": "code",
   "execution_count": 31,
   "metadata": {
    "scrolled": true
   },
   "outputs": [
    {
     "data": {
      "text/html": [
       "<div>\n",
       "<style scoped>\n",
       "    .dataframe tbody tr th:only-of-type {\n",
       "        vertical-align: middle;\n",
       "    }\n",
       "\n",
       "    .dataframe tbody tr th {\n",
       "        vertical-align: top;\n",
       "    }\n",
       "\n",
       "    .dataframe thead th {\n",
       "        text-align: right;\n",
       "    }\n",
       "</style>\n",
       "<table border=\"1\" class=\"dataframe\">\n",
       "  <thead>\n",
       "    <tr style=\"text-align: right;\">\n",
       "      <th></th>\n",
       "      <th>PF</th>\n",
       "      <th>MLWDF</th>\n",
       "      <th>EXP</th>\n",
       "      <th>FLS</th>\n",
       "      <th>EXPR</th>\n",
       "      <th>LOGR</th>\n",
       "    </tr>\n",
       "  </thead>\n",
       "  <tbody>\n",
       "    <tr>\n",
       "      <th>20</th>\n",
       "      <td>24.140095</td>\n",
       "      <td>23.867916</td>\n",
       "      <td>25.400599</td>\n",
       "      <td>19.287907</td>\n",
       "      <td>22.813395</td>\n",
       "      <td>23.434546</td>\n",
       "    </tr>\n",
       "    <tr>\n",
       "      <th>30</th>\n",
       "      <td>21.180302</td>\n",
       "      <td>22.034950</td>\n",
       "      <td>24.424034</td>\n",
       "      <td>19.335234</td>\n",
       "      <td>19.987665</td>\n",
       "      <td>23.172855</td>\n",
       "    </tr>\n",
       "    <tr>\n",
       "      <th>40</th>\n",
       "      <td>18.455999</td>\n",
       "      <td>22.898756</td>\n",
       "      <td>23.188313</td>\n",
       "      <td>17.235083</td>\n",
       "      <td>20.363455</td>\n",
       "      <td>22.799608</td>\n",
       "    </tr>\n",
       "    <tr>\n",
       "      <th>50</th>\n",
       "      <td>18.821262</td>\n",
       "      <td>23.050529</td>\n",
       "      <td>23.161566</td>\n",
       "      <td>16.437971</td>\n",
       "      <td>20.252604</td>\n",
       "      <td>22.948320</td>\n",
       "    </tr>\n",
       "    <tr>\n",
       "      <th>60</th>\n",
       "      <td>16.556633</td>\n",
       "      <td>23.666079</td>\n",
       "      <td>23.163134</td>\n",
       "      <td>16.056398</td>\n",
       "      <td>19.986660</td>\n",
       "      <td>24.006025</td>\n",
       "    </tr>\n",
       "    <tr>\n",
       "      <th>70</th>\n",
       "      <td>15.305092</td>\n",
       "      <td>22.808153</td>\n",
       "      <td>23.846024</td>\n",
       "      <td>15.700737</td>\n",
       "      <td>20.820240</td>\n",
       "      <td>24.078287</td>\n",
       "    </tr>\n",
       "    <tr>\n",
       "      <th>80</th>\n",
       "      <td>14.893540</td>\n",
       "      <td>23.086542</td>\n",
       "      <td>23.546024</td>\n",
       "      <td>16.742714</td>\n",
       "      <td>20.996271</td>\n",
       "      <td>23.342392</td>\n",
       "    </tr>\n",
       "    <tr>\n",
       "      <th>90</th>\n",
       "      <td>14.992505</td>\n",
       "      <td>23.698017</td>\n",
       "      <td>22.384665</td>\n",
       "      <td>17.054913</td>\n",
       "      <td>21.238369</td>\n",
       "      <td>23.178751</td>\n",
       "    </tr>\n",
       "    <tr>\n",
       "      <th>100</th>\n",
       "      <td>15.131351</td>\n",
       "      <td>23.545263</td>\n",
       "      <td>23.695881</td>\n",
       "      <td>16.898336</td>\n",
       "      <td>21.685698</td>\n",
       "      <td>22.469576</td>\n",
       "    </tr>\n",
       "  </tbody>\n",
       "</table>\n",
       "</div>"
      ],
      "text/plain": [
       "            PF      MLWDF        EXP        FLS       EXPR       LOGR\n",
       "20   24.140095  23.867916  25.400599  19.287907  22.813395  23.434546\n",
       "30   21.180302  22.034950  24.424034  19.335234  19.987665  23.172855\n",
       "40   18.455999  22.898756  23.188313  17.235083  20.363455  22.799608\n",
       "50   18.821262  23.050529  23.161566  16.437971  20.252604  22.948320\n",
       "60   16.556633  23.666079  23.163134  16.056398  19.986660  24.006025\n",
       "70   15.305092  22.808153  23.846024  15.700737  20.820240  24.078287\n",
       "80   14.893540  23.086542  23.546024  16.742714  20.996271  23.342392\n",
       "90   14.992505  23.698017  22.384665  17.054913  21.238369  23.178751\n",
       "100  15.131351  23.545263  23.695881  16.898336  21.685698  22.469576"
      ]
     },
     "execution_count": 31,
     "metadata": {},
     "output_type": "execute_result"
    }
   ],
   "source": [
    "dfGPUTINFBUF"
   ]
  },
  {
   "cell_type": "markdown",
   "metadata": {},
   "source": [
    "# Delay Jitter"
   ]
  },
  {
   "cell_type": "code",
   "execution_count": 32,
   "metadata": {},
   "outputs": [
    {
     "data": {
      "image/png": "[encoded data removed]",
      "text/plain": [
       "<Figure size 432x288 with 1 Axes>"
      ]
     },
     "metadata": {
      "needs_background": "light"
     },
     "output_type": "display_data"
    }
   ],
   "source": [
    "dfDELAYINFBUF = pd.DataFrame({'PF': DELAYINFBUF[1], 'MLWDF': DELAYINFBUF[2], 'EXP': DELAYINFBUF[3],\n",
    "                            'FLS': DELAYINFBUF[4], 'EXPR': DELAYINFBUF[5], 'LOGR': DELAYINFBUF[6]},\n",
    "                           index=[20,30,40,50,60,70,80,90,100])\n",
    "plot = dfDELAYINFBUF.plot.bar(rot=0)\n",
    "fig = plot.get_figure()\n",
    "fig.savefig(\"./pdfs/DelayINFBUFPF.pdf\", bbox_inches='tight')"
   ]
  },
  {
   "cell_type": "code",
   "execution_count": 33,
   "metadata": {},
   "outputs": [
    {
     "data": {
      "image/png": "[encoded data removed]",
      "text/plain": [
       "<Figure size 432x288 with 1 Axes>"
      ]
     },
     "metadata": {
      "needs_background": "light"
     },
     "output_type": "display_data"
    }
   ],
   "source": [
    "dfDELAYINFBUF = pd.DataFrame({'MLWDF': DELAYINFBUF[2], 'EXP': DELAYINFBUF[3],\n",
    "                            'FLS': DELAYINFBUF[4], 'EXPR': DELAYINFBUF[5], 'LOGR': DELAYINFBUF[6]},\n",
    "                           index=[20,30,40,50,60,70,80,90,100])\n",
    "plot = dfDELAYINFBUF.plot.bar(rot=0)\n",
    "fig = plot.get_figure()\n",
    "fig.savefig(\"./pdfs/DelayInfBuf.pdf\", bbox_inches='tight')"
   ]
  },
  {
   "cell_type": "code",
   "execution_count": 34,
   "metadata": {},
   "outputs": [
    {
     "data": {
      "image/png": "[encoded data removed]",
      "text/plain": [
       "<Figure size 432x288 with 1 Axes>"
      ]
     },
     "metadata": {
      "needs_background": "light"
     },
     "output_type": "display_data"
    }
   ],
   "source": [
    "dfJITTERINFBUF = pd.DataFrame({'PF': JITTERINFBUF[1], 'MLWDF': JITTERINFBUF[2], 'EXP': JITTERINFBUF[3],\n",
    "                            'FLS': JITTERINFBUF[4], 'EXPR': JITTERINFBUF[5], 'LOGR': JITTERINFBUF[6]},\n",
    "                           index=[20,30,40,50,60,70,80,90,100])\n",
    "plot = dfJITTERINFBUF.plot.bar(rot=0)\n",
    "fig = plot.get_figure()\n",
    "fig.savefig(\"./pdfs/JitterInfBufPF.pdf\", bbox_inches='tight')"
   ]
  },
  {
   "cell_type": "code",
   "execution_count": 35,
   "metadata": {
    "scrolled": false
   },
   "outputs": [
    {
     "data": {
      "image/png": "[encoded data removed]",
      "text/plain": [
       "<Figure size 432x288 with 1 Axes>"
      ]
     },
     "metadata": {
      "needs_background": "light"
     },
     "output_type": "display_data"
    }
   ],
   "source": [
    "dfJITTERINFBUF = pd.DataFrame({'MLWDF': JITTERINFBUF[2], 'EXP': JITTERINFBUF[3],\n",
    "                            'FLS': JITTERINFBUF[4], 'EXPR': JITTERINFBUF[5], 'LOGR': JITTERINFBUF[6]},\n",
    "                           index=[20,30,40,50,60,70,80,90,100])\n",
    "plot = dfJITTERINFBUF.plot.bar(rot=0)\n",
    "fig = plot.get_figure()\n",
    "fig.savefig(\"./pdfs/JitterInfBuf.pdf\", bbox_inches='tight')"
   ]
  },
  {
   "cell_type": "markdown",
   "metadata": {},
   "source": [
    "# VOICE PLR"
   ]
  },
  {
   "cell_type": "code",
   "execution_count": 36,
   "metadata": {
    "scrolled": true
   },
   "outputs": [
    {
     "data": {
      "image/png": "[encoded data removed]",
      "text/plain": [
       "<Figure size 432x288 with 1 Axes>"
      ]
     },
     "metadata": {
      "needs_background": "light"
     },
     "output_type": "display_data"
    }
   ],
   "source": [
    "dfPLRINFBUF = pd.DataFrame({'PF': PLRINFBUF[1], 'MLWDF': PLRINFBUF[2], 'EXP': PLRINFBUF[3],\n",
    "                            'FLS': PLRINFBUF[4], 'EXPR': PLRINFBUF[5], 'LOGR': PLRINFBUF[6]},\n",
    "                           index=[20,30,40,50,60,70,80,90,100])\n",
    "plot = dfPLRINFBUF.plot.bar(rot=0)\n",
    "fig = plot.get_figure()\n",
    "fig.savefig(\"./pdfs/PacketLossInfBuf.pdf\", bbox_inches='tight')"
   ]
  },
  {
   "cell_type": "markdown",
   "metadata": {},
   "source": [
    "# Loss Ratio"
   ]
  },
  {
   "cell_type": "code",
   "execution_count": 26,
   "metadata": {},
   "outputs": [],
   "source": [
    "averagePacketLoss = {}\n",
    "for key in PACKETLOSS:\n",
    "    averagePacketLoss[key] = []\n",
    "    for i in range(0, 9):\n",
    "        average = sum(PACKETLOSS[key][i])/len(PACKETLOSS[key][i])         \n",
    "        averagePacketLoss[key].append(average)"
   ]
  },
  {
   "cell_type": "code",
   "execution_count": 27,
   "metadata": {
    "scrolled": true
   },
   "outputs": [
    {
     "data": {
      "image/png": "[encoded data removed]",
      "text/plain": [
       "<Figure size 432x288 with 1 Axes>"
      ]
     },
     "metadata": {
      "needs_background": "light"
     },
     "output_type": "display_data"
    }
   ],
   "source": [
    "dfLossRatio = pd.DataFrame({'PF': averagePacketLoss[1], 'MLWDF': averagePacketLoss[2], 'EXP': averagePacketLoss[3],\n",
    "                            'FLS': averagePacketLoss[4], 'EXPR': averagePacketLoss[5], 'LOGR': averagePacketLoss[6]},\n",
    "                           index=[20,30,40,50,60,70,80,90,100])\n",
    "plot = dfLossRatio.plot.bar(rot=0)\n",
    "fig = plot.get_figure()\n",
    "fig.savefig(\"./pdfs/PacketLossRatio.pdf\", bbox_inches='tight')"
   ]
  },
  {
   "cell_type": "code",
   "execution_count": 28,
   "metadata": {
    "scrolled": false
   },
   "outputs": [
    {
     "data": {
      "text/html": [
       "<div>\n",
       "<style scoped>\n",
       "    .dataframe tbody tr th:only-of-type {\n",
       "        vertical-align: middle;\n",
       "    }\n",
       "\n",
       "    .dataframe tbody tr th {\n",
       "        vertical-align: top;\n",
       "    }\n",
       "\n",
       "    .dataframe thead th {\n",
       "        text-align: right;\n",
       "    }\n",
       "</style>\n",
       "<table border=\"1\" class=\"dataframe\">\n",
       "  <thead>\n",
       "    <tr style=\"text-align: right;\">\n",
       "      <th></th>\n",
       "      <th>PF</th>\n",
       "      <th>MLWDF</th>\n",
       "      <th>EXP</th>\n",
       "      <th>FLS</th>\n",
       "      <th>EXPR</th>\n",
       "      <th>LOGR</th>\n",
       "    </tr>\n",
       "  </thead>\n",
       "  <tbody>\n",
       "    <tr>\n",
       "      <th>20</th>\n",
       "      <td>11.696552</td>\n",
       "      <td>9.657321</td>\n",
       "      <td>11.001947</td>\n",
       "      <td>9.048378</td>\n",
       "      <td>9.660849</td>\n",
       "      <td>11.160954</td>\n",
       "    </tr>\n",
       "    <tr>\n",
       "      <th>30</th>\n",
       "      <td>13.959570</td>\n",
       "      <td>11.395448</td>\n",
       "      <td>11.638498</td>\n",
       "      <td>9.537148</td>\n",
       "      <td>9.569852</td>\n",
       "      <td>10.500238</td>\n",
       "    </tr>\n",
       "    <tr>\n",
       "      <th>40</th>\n",
       "      <td>15.902214</td>\n",
       "      <td>12.369527</td>\n",
       "      <td>12.391129</td>\n",
       "      <td>9.241488</td>\n",
       "      <td>10.030218</td>\n",
       "      <td>12.255569</td>\n",
       "    </tr>\n",
       "    <tr>\n",
       "      <th>50</th>\n",
       "      <td>17.841066</td>\n",
       "      <td>13.421984</td>\n",
       "      <td>13.019650</td>\n",
       "      <td>9.543735</td>\n",
       "      <td>11.374303</td>\n",
       "      <td>12.910537</td>\n",
       "    </tr>\n",
       "    <tr>\n",
       "      <th>60</th>\n",
       "      <td>19.653223</td>\n",
       "      <td>14.996969</td>\n",
       "      <td>14.930842</td>\n",
       "      <td>11.171062</td>\n",
       "      <td>12.797309</td>\n",
       "      <td>14.913518</td>\n",
       "    </tr>\n",
       "    <tr>\n",
       "      <th>70</th>\n",
       "      <td>21.757280</td>\n",
       "      <td>15.816453</td>\n",
       "      <td>16.154774</td>\n",
       "      <td>12.936624</td>\n",
       "      <td>15.224308</td>\n",
       "      <td>16.740196</td>\n",
       "    </tr>\n",
       "    <tr>\n",
       "      <th>80</th>\n",
       "      <td>23.237684</td>\n",
       "      <td>17.376478</td>\n",
       "      <td>17.483644</td>\n",
       "      <td>14.201983</td>\n",
       "      <td>15.954392</td>\n",
       "      <td>17.066929</td>\n",
       "    </tr>\n",
       "    <tr>\n",
       "      <th>90</th>\n",
       "      <td>24.910725</td>\n",
       "      <td>18.976112</td>\n",
       "      <td>18.488905</td>\n",
       "      <td>16.810257</td>\n",
       "      <td>18.013855</td>\n",
       "      <td>18.669764</td>\n",
       "    </tr>\n",
       "    <tr>\n",
       "      <th>100</th>\n",
       "      <td>26.477448</td>\n",
       "      <td>20.055994</td>\n",
       "      <td>20.350304</td>\n",
       "      <td>18.276794</td>\n",
       "      <td>19.498676</td>\n",
       "      <td>19.831911</td>\n",
       "    </tr>\n",
       "  </tbody>\n",
       "</table>\n",
       "</div>"
      ],
      "text/plain": [
       "            PF      MLWDF        EXP        FLS       EXPR       LOGR\n",
       "20   11.696552   9.657321  11.001947   9.048378   9.660849  11.160954\n",
       "30   13.959570  11.395448  11.638498   9.537148   9.569852  10.500238\n",
       "40   15.902214  12.369527  12.391129   9.241488  10.030218  12.255569\n",
       "50   17.841066  13.421984  13.019650   9.543735  11.374303  12.910537\n",
       "60   19.653223  14.996969  14.930842  11.171062  12.797309  14.913518\n",
       "70   21.757280  15.816453  16.154774  12.936624  15.224308  16.740196\n",
       "80   23.237684  17.376478  17.483644  14.201983  15.954392  17.066929\n",
       "90   24.910725  18.976112  18.488905  16.810257  18.013855  18.669764\n",
       "100  26.477448  20.055994  20.350304  18.276794  19.498676  19.831911"
      ]
     },
     "execution_count": 28,
     "metadata": {},
     "output_type": "execute_result"
    }
   ],
   "source": [
    "dfLossRatio"
   ]
  },
  {
   "cell_type": "markdown",
   "metadata": {},
   "source": [
    "# 120 KM/H"
   ]
  },
  {
   "cell_type": "code",
   "execution_count": null,
   "metadata": {
    "scrolled": false
   },
   "outputs": [],
   "source": [
    "GPUTSVIDEO120 = {1: [], 2: [], 3: [], 4: [], 5: [], 6: []}\n",
    "FAIRVIDEO120 = {1: [], 2: [], 3: [], 4: [], 5: [], 6: []}\n",
    "DELAYVIDEO120 = {1: [], 2: [], 3: [], 4: [], 5: [], 6: []}\n",
    "JITTERVIDEO120 = {1: [], 2: [], 3: [], 4: [], 5: [], 6: []}\n",
    "GPUTSVOICE120 = {1: [], 2: [], 3: [], 4: [], 5: [], 6: []}\n",
    "FAIRVOICE120 = {1: [], 2: [], 3: [], 4: [], 5: [], 6: []}\n",
    "DELAYVOICE120 = {1: [], 2: [], 3: [], 4: [], 5: [], 6: []}\n",
    "JITTERVOICE120 = {1: [], 2: [], 3: [], 4: [], 5: [], 6: []}\n",
    "PACKETLOSS120 = {1: [], 2: [], 3: [], 4: [], 5: [], 6: []}\n",
    "for sched in GPUTSVIDEO:\n",
    "    for ue in range(20, 101, 10):\n",
    "        info = LTEParser.parse(files[sched][120][ue], 100)\n",
    "        GPUTSVIDEO120[sched].append(info[0])\n",
    "        FAIRVIDEO120[sched].append(info[1])\n",
    "        DELAYVIDEO120[sched].append(info[2])\n",
    "        JITTERVIDEO120[sched].append(info[3])\n",
    "        GPUTSVOICE120[sched].append(info[4])\n",
    "        FAIRVOICE120[sched].append(info[5])\n",
    "        DELAYVOICE120[sched].append(info[6])\n",
    "        JITTERVOICE120[sched].append(info[7])\n",
    "        PACKETLOSS120[sched].append(info[8])\n",
    "    GPUTSVIDEO120[sched] = np.array(GPUTSVIDEO120[sched], dtype=np.float32)\n",
    "    FAIRVIDEO120[sched] = np.array(FAIRVIDEO120[sched], dtype=np.float32)\n",
    "    DELAYVIDEO120[sched] = np.array(DELAYVIDEO120[sched], dtype = np.float32)\n",
    "    JITTERVIDEO120[sched] = np.array(JITTERVIDEO120[sched], dtype = np.float32)\n",
    "    GPUTSVOICE120[sched] = np.array(GPUTSVOICE120[sched], dtype=np.float32)\n",
    "    FAIRVOICE120[sched] = np.array(FAIRVOICE120[sched], dtype=np.float32)\n",
    "    DELAYVOICE120[sched] = np.array(DELAYVOICE120[sched], dtype = np.float32)\n",
    "    JITTERVOICE120[sched] = np.array(JITTERVOICE120[sched], dtype = np.float32)\n",
    "    PACKETLOSS120[sched] = np.array(PACKETLOSS120[sched], dtype=np.float32)"
   ]
  },
  {
   "cell_type": "markdown",
   "metadata": {},
   "source": [
    "# VIDEO GPUT MB/s"
   ]
  },
  {
   "cell_type": "code",
   "execution_count": null,
   "metadata": {
    "scrolled": true
   },
   "outputs": [],
   "source": [
    "MEGAVIDEO120 = {1: [], 2: [], 3: [], 4: [], 5: [], 6: []}\n",
    "for sched in GPUTSVIDEO120:\n",
    "    MEGAVIDEO120[sched] = np.true_divide(GPUTSVIDEO120[sched], 8)\n",
    "MEGAVIDEO120"
   ]
  },
  {
   "cell_type": "code",
   "execution_count": null,
   "metadata": {
    "scrolled": true
   },
   "outputs": [],
   "source": [
    "dfGPUTVIDEO120 = pd.DataFrame({'PF': MEGAVIDEO120[1], 'MLWDF': MEGAVIDEO120[2], 'EXP': MEGAVIDEO120[3],\n",
    "                       'FLS': MEGAVIDEO120[4], 'EXPR': MEGAVIDEO120[5], 'LOGR': MEGAVIDEO120[6]},\n",
    "                      index=[20,30,40,50,60,70,80,90,100])\n",
    "plot = dfGPUTVIDEO120.plot.bar(rot=0)\n",
    "fig = plot.get_figure()\n",
    "fig.savefig(\"./pdfs/GPUTVideo120.pdf\", bbox_inches='tight')"
   ]
  },
  {
   "cell_type": "code",
   "execution_count": null,
   "metadata": {
    "scrolled": false
   },
   "outputs": [],
   "source": [
    "dfGPUTVIDEO120"
   ]
  },
  {
   "cell_type": "markdown",
   "metadata": {},
   "source": [
    "# Delay Jitter"
   ]
  },
  {
   "cell_type": "code",
   "execution_count": null,
   "metadata": {},
   "outputs": [],
   "source": [
    "dfDELAYVIDEO120 = pd.DataFrame({'PF': DELAYVIDEO120[1], 'MLWDF': DELAYVIDEO120[2], 'EXP': DELAYVIDEO120[3],\n",
    "                            'FLS': DELAYVIDEO120[4], 'EXPR': DELAYVIDEO120[5], 'LOGR': DELAYVIDEO120[6]},\n",
    "                           index=[20,30,40,50,60,70,80,90,100])\n",
    "plot = dfDELAYVIDEO120.plot.bar(rot=0)\n",
    "fig = plot.get_figure()\n",
    "fig.savefig(\"./pdfs/DelayVideoPF120.pdf\", bbox_inches='tight')"
   ]
  },
  {
   "cell_type": "code",
   "execution_count": null,
   "metadata": {},
   "outputs": [],
   "source": [
    "dfDELAYVIDEO120 = pd.DataFrame({'MLWDF': DELAYVIDEO120[2], 'EXP': DELAYVIDEO120[3],\n",
    "                            'FLS': DELAYVIDEO120[4], 'EXPR': DELAYVIDEO120[5], 'LOGR': DELAYVIDEO120[6]},\n",
    "                           index=[20,30,40,50,60,70,80,90,100])\n",
    "plot = dfDELAYVIDEO120.plot.bar(rot=0)\n",
    "fig = plot.get_figure()\n",
    "fig.savefig(\"./pdfs/DelayVideo120.pdf\", bbox_inches='tight')"
   ]
  },
  {
   "cell_type": "code",
   "execution_count": null,
   "metadata": {},
   "outputs": [],
   "source": [
    "dfJITTERVIDEO120 = pd.DataFrame({'PF': JITTERVIDEO120[1], 'MLWDF': JITTERVIDEO120[2], 'EXP': JITTERVIDEO120[3],\n",
    "                            'FLS': JITTERVIDEO120[4], 'EXPR': JITTERVIDEO120[5], 'LOGR': JITTERVIDEO120[6]},\n",
    "                           index=[20,30,40,50,60,70,80,90,100])\n",
    "plot = dfJITTERVIDEO120.plot.bar(rot=0)\n",
    "fig = plot.get_figure()\n",
    "fig.savefig(\"./pdfs/JitterVideoPF120.pdf\", bbox_inches='tight')"
   ]
  },
  {
   "cell_type": "code",
   "execution_count": null,
   "metadata": {
    "scrolled": true
   },
   "outputs": [],
   "source": [
    "dfJITTERVIDEO120 = pd.DataFrame({'MLWDF': JITTERVIDEO120[2], 'EXP': JITTERVIDEO120[3],\n",
    "                            'FLS': JITTERVIDEO120[4], 'EXPR': JITTERVIDEO120[5], 'LOGR': JITTERVIDEO120[6]},\n",
    "                           index=[20,30,40,50,60,70,80,90,100])\n",
    "plot = dfJITTERVIDEO120.plot.bar(rot=0)\n",
    "fig = plot.get_figure()\n",
    "fig.savefig(\"./pdfs/JitterVideo120.pdf\", bbox_inches='tight')"
   ]
  },
  {
   "cell_type": "markdown",
   "metadata": {},
   "source": [
    "# VIDEO FAIRNESS"
   ]
  },
  {
   "cell_type": "code",
   "execution_count": null,
   "metadata": {
    "scrolled": true
   },
   "outputs": [],
   "source": [
    "dfFAIRVIDEO120 = pd.DataFrame({'PF': FAIRVIDEO120[1], 'MLWDF': FAIRVIDEO120[2], 'EXP': FAIRVIDEO120[3],\n",
    "                            'FLS': FAIRVIDEO120[4], 'EXPR': FAIRVIDEO120[5], 'LOGR': FAIRVIDEO120[6]},\n",
    "                           index=[20,30,40,50,60,70,80,90,100])\n",
    "plot = dfFAIRVIDEO120.plot.bar(rot=0)\n",
    "fig = plot.get_figure()\n",
    "fig.savefig(\"./pdfs/FairnessVideo120.pdf\", bbox_inches='tight')"
   ]
  },
  {
   "cell_type": "code",
   "execution_count": null,
   "metadata": {
    "scrolled": true
   },
   "outputs": [],
   "source": [
    "dfFAIRVIDEO120"
   ]
  },
  {
   "cell_type": "markdown",
   "metadata": {},
   "source": [
    "# VOIP GPUT MB/s"
   ]
  },
  {
   "cell_type": "code",
   "execution_count": null,
   "metadata": {
    "scrolled": true
   },
   "outputs": [],
   "source": [
    "MEGAVOIP120 = {1: [], 2: [], 3: [], 4: [], 5: [], 6: []}\n",
    "for sched in GPUTSVOICE120:\n",
    "    MEGAVOIP120[sched] = np.true_divide(GPUTSVOICE120[sched], 8)\n",
    "MEGAVOIP120"
   ]
  },
  {
   "cell_type": "code",
   "execution_count": null,
   "metadata": {
    "scrolled": true
   },
   "outputs": [],
   "source": [
    "dfGPUTVOICE120 = pd.DataFrame({'PF': MEGAVOIP120[1], 'MLWDF': MEGAVOIP120[2], 'EXP': MEGAVOIP120[3],\n",
    "                       'FLS': MEGAVOIP120[4], 'EXPR': MEGAVOIP120[5], 'LOGR': MEGAVOIP120[6]},\n",
    "                      index=[20,30,40,50,60,70,80,90,100])\n",
    "plot = dfGPUTVOICE120.plot.bar(rot=0)\n",
    "fig = plot.get_figure()\n",
    "fig.savefig(\"./pdfs/GPUTVoIP120.pdf\", bbox_inches='tight')"
   ]
  },
  {
   "cell_type": "code",
   "execution_count": null,
   "metadata": {
    "scrolled": true
   },
   "outputs": [],
   "source": [
    "dfGPUTVOICE120"
   ]
  },
  {
   "cell_type": "markdown",
   "metadata": {},
   "source": [
    "# Delay Jitter"
   ]
  },
  {
   "cell_type": "code",
   "execution_count": null,
   "metadata": {},
   "outputs": [],
   "source": [
    "dfDELAYVOICE120 = pd.DataFrame({'PF': DELAYVOICE120[1], 'MLWDF': DELAYVOICE120[2], 'EXP': DELAYVOICE120[3],\n",
    "                            'FLS': DELAYVOICE120[4], 'EXPR': DELAYVOICE120[5], 'LOGR': DELAYVOICE120[6]},\n",
    "                           index=[20,30,40,50,60,70,80,90,100])\n",
    "plot = dfDELAYVOICE120.plot.bar(rot=0)\n",
    "fig = plot.get_figure()\n",
    "fig.savefig(\"./pdfs/DelayVoIPPF120.pdf\", bbox_inches='tight')"
   ]
  },
  {
   "cell_type": "code",
   "execution_count": null,
   "metadata": {},
   "outputs": [],
   "source": [
    "dfDELAYVOICE120 = pd.DataFrame({'MLWDF': DELAYVOICE120[2], 'EXP': DELAYVOICE120[3],\n",
    "                            'FLS': DELAYVOICE120[4], 'EXPR': DELAYVOICE120[5], 'LOGR': DELAYVOICE120[6]},\n",
    "                           index=[20,30,40,50,60,70,80,90,100])\n",
    "plot = dfDELAYVOICE120.plot.bar(rot=0)\n",
    "fig = plot.get_figure()\n",
    "fig.savefig(\"./pdfs/DelayVoIP120.pdf\", bbox_inches='tight')"
   ]
  },
  {
   "cell_type": "code",
   "execution_count": null,
   "metadata": {},
   "outputs": [],
   "source": [
    "dfJITTERVOICE120 = pd.DataFrame({'PF': JITTERVOICE120[1], 'MLWDF': JITTERVOICE120[2], 'EXP': JITTERVOICE120[3],\n",
    "                            'FLS': JITTERVOICE120[4], 'EXPR': JITTERVOICE120[5], 'LOGR': JITTERVOICE120[6]},\n",
    "                           index=[20,30,40,50,60,70,80,90,100])\n",
    "plot = dfJITTERVOICE120.plot.bar(rot=0)\n",
    "fig = plot.get_figure()\n",
    "fig.savefig(\"./pdfs/JitterVoIPPF120.pdf\", bbox_inches='tight')"
   ]
  },
  {
   "cell_type": "code",
   "execution_count": null,
   "metadata": {
    "scrolled": true
   },
   "outputs": [],
   "source": [
    "dfJITTERVOICE120 = pd.DataFrame({'MLWDF': JITTERVOICE120[2], 'EXP': JITTERVOICE120[3],\n",
    "                            'FLS': JITTERVOICE120[4], 'EXPR': JITTERVOICE120[5], 'LOGR': JITTERVOICE120[6]},\n",
    "                           index=[20,30,40,50,60,70,80,90,100])\n",
    "plot = dfJITTERVOICE120.plot.bar(rot=0)\n",
    "fig = plot.get_figure()\n",
    "fig.savefig(\"./pdfs/JitterVoIP120.pdf\", bbox_inches='tight')"
   ]
  },
  {
   "cell_type": "markdown",
   "metadata": {},
   "source": [
    "# Loss Ratio"
   ]
  },
  {
   "cell_type": "code",
   "execution_count": null,
   "metadata": {},
   "outputs": [],
   "source": [
    "averagePacketLoss120 = {}\n",
    "for key in PACKETLOSS120:\n",
    "    averagePacketLoss120[key] = []\n",
    "    for i in range(0, 9):\n",
    "        average = sum(PACKETLOSS120[key][i])/len(PACKETLOSS120[key][i])         \n",
    "        averagePacketLoss120[key].append(average)"
   ]
  },
  {
   "cell_type": "code",
   "execution_count": null,
   "metadata": {
    "scrolled": true
   },
   "outputs": [],
   "source": [
    "dfLossRatio120 = pd.DataFrame({'PF': averagePacketLoss120[1], 'MLWDF': averagePacketLoss120[2], 'EXP': averagePacketLoss120[3],\n",
    "                            'FLS': averagePacketLoss120[4], 'EXPR': averagePacketLoss120[5], 'LOGR': averagePacketLoss120[6]},\n",
    "                           index=[20,30,40,50,60,70,80,90,100])\n",
    "plot = dfLossRatio120.plot.bar(rot=0)\n",
    "fig = plot.get_figure()\n",
    "fig.savefig(\"./pdfs/PacketLossRatio120.pdf\", bbox_inches='tight')"
   ]
  },
  {
   "cell_type": "code",
   "execution_count": null,
   "metadata": {
    "scrolled": false
   },
   "outputs": [],
   "source": [
    "dfLossRatio120"
   ]
  }
 ],
 "metadata": {
  "kernelspec": {
   "display_name": "Python 3",
   "language": "python",
   "name": "python3"
  },
  "language_info": {
   "codemirror_mode": {
    "name": "ipython",
    "version": 3
   },
   "file_extension": ".py",
   "mimetype": "text/x-python",
   "name": "python",
   "nbconvert_exporter": "python",
   "pygments_lexer": "ipython3",
   "version": "3.7.2"
  }
 },
 "nbformat": 4,
 "nbformat_minor": 2
}
