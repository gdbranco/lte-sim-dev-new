{
 "cells": [
  {
   "cell_type": "code",
   "execution_count": 62,
   "metadata": {},
   "outputs": [],
   "source": [
    "import pandas as pd\n",
    "import numpy as np\n",
    "import matplotlib.pyplot as plt\n",
    "%matplotlib inline  \n",
    "from pprint import pprint\n",
    "import re\n",
    "import json\n",
    "import gzip\n",
    "class LTEParser:\n",
    "    _mapa = {\n",
    "        \"B\": \"#Bearer\",\n",
    "        \"T\": \"TimeStamp\",\n",
    "        \"TX\": \"Transmission\",\n",
    "        \"RX\": \"Receiver\",\n",
    "        \"D\": \"Delay\",\n",
    "        \"ID\": \"#Packet\",\n",
    "        \"DST\": \"Destiny\",\n",
    "        \"SRC\": \"Source\",\n",
    "        \"SIZE\": \"Size\"\n",
    "    }\n",
    "    @staticmethod\n",
    "    def parse(inFile, flowDuration = 100):\n",
    "        #VIDEO\n",
    "        videoAverages = []\n",
    "        videoFairness = []\n",
    "        videoDelay = []\n",
    "        videoJitter = []\n",
    "        videoPLR = []\n",
    "        #VOICE\n",
    "        voiceAverages = []\n",
    "        voiceFairness = []\n",
    "        voiceDelay = []\n",
    "        voiceJitter = []\n",
    "        voicePLR = []\n",
    "        #INFBUF\n",
    "        infBufAverages = []\n",
    "        infBufFairness = []\n",
    "        infBufDelay = []\n",
    "        infBufJitter = []\n",
    "        infBufPLR = []\n",
    "        #GERAL\n",
    "        packetLoss = []\n",
    "        for sfile in inFile:\n",
    "            content = \"\"\n",
    "            print(\"Opening file: \" + sfile)\n",
    "            with gzip.open(sfile, 'rb') as file:\n",
    "                content = file.read()\n",
    "                content = content.decode('utf-8')\n",
    "            print(\"Parsing file ...\", end=\"\")\n",
    "            txContent, rxContent = LTEParser._parse(content)\n",
    "            info = LTEParser.getFairnessIndex(rxContent, flowDuration)\n",
    "            packetLossInfo = LTEParser.getPacketLossRatio(txContent, rxContent)\n",
    "            delayInfo = LTEParser.getDelayJitter(rxContent)\n",
    "            #VIDEO\n",
    "            videoAverages.append(info['VIDEO']['Average'])\n",
    "            videoFairness.append(info['VIDEO']['FairnessIndex'])\n",
    "            videoDelay.append(delayInfo['VIDEO']['Average'])\n",
    "            videoJitter.append(delayInfo['VIDEO']['StD'])\n",
    "            videoPLR.append(packetLossInfo[1]['VIDEO'])\n",
    "            #VOICE\n",
    "            voiceAverages.append(info['VOIP']['Average'])\n",
    "            voiceFairness.append(info['VOIP']['FairnessIndex'])\n",
    "            voiceDelay.append(delayInfo['VOIP']['Average'])\n",
    "            voiceJitter.append(delayInfo['VOIP']['StD'])\n",
    "            voicePLR.append(packetLossInfo[1]['VOIP'])\n",
    "            #INFBUF\n",
    "            infBufAverages.append(info['INF_BUF']['Average'])\n",
    "            infBufFairness.append(info['INF_BUF']['FairnessIndex'])\n",
    "            infBufDelay.append(delayInfo['INF_BUF']['Average'])\n",
    "            infBufJitter.append(delayInfo['INF_BUF']['StD'])\n",
    "            infBufPLR.append(packetLossInfo[1]['INF_BUF'])\n",
    "            #GERAL\n",
    "            packetLoss.append(packetLossInfo[0])\n",
    "        return [#VIDEO\n",
    "                (sum(videoAverages)/len(videoAverages)),\n",
    "                (sum(videoFairness)/len(videoFairness)),\n",
    "                (sum(videoDelay)/len(videoDelay)),\n",
    "                (sum(videoJitter)/len(videoJitter)),\n",
    "                (sum(videoPLR)/len(videoPLR)),\n",
    "                #VOICE\n",
    "                (sum(voiceAverages)/len(voiceAverages)),\n",
    "                (sum(voiceFairness)/len(voiceFairness)),\n",
    "                (sum(voiceDelay)/len(voiceDelay)),\n",
    "                (sum(voiceJitter)/len(voiceJitter)),\n",
    "                (sum(voicePLR)/len(voicePLR)),\n",
    "                #INFBUF\n",
    "                (sum(infBufAverages)/len(infBufAverages)),\n",
    "                (sum(infBufFairness)/len(infBufFairness)),\n",
    "                (sum(infBufDelay)/len(infBufDelay)),\n",
    "                (sum(infBufJitter)/len(infBufJitter)),\n",
    "                (sum(infBufPLR)/len(infBufPLR)),\n",
    "                #GERAL\n",
    "                packetLoss]\n",
    "    @staticmethod\n",
    "    def _parse(content):\n",
    "        txContent = LTEParser.parseTX(content)\n",
    "        rxContent = LTEParser.parseRX(content)\n",
    "        print(\"Done\")\n",
    "        return txContent, rxContent\n",
    "    \n",
    "    @staticmethod\n",
    "    def parseTX(content):\n",
    "        matches = re.findall(r\"(^TX.+)\", content, re.MULTILINE)\n",
    "        if(matches == []):\n",
    "            raise Exception(\"No matches in content for TX\")\n",
    "        dictPacketType = {\"CBR\": [], \"VOIP\": [], \"VIDEO\": [], \"INF_BUF\": [], \"WEB\": []}\n",
    "        keys = dictPacketType.keys()\n",
    "        for match in matches:\n",
    "            values = match.split(' ')\n",
    "            if values[1] in keys:\n",
    "                tamanho = len(values)\n",
    "                dic = {}\n",
    "                for i in range(2, tamanho if tamanho%2==0 else tamanho-1, 2):\n",
    "                    dic[LTEParser._mapa[values[i]]] = values[i+1]\n",
    "                dic = dict(sorted(dic.items(), key=lambda x: x[0]))\n",
    "                dictPacketType[values[1]].append(dic)\n",
    "        return json.loads(json.dumps(dictPacketType))\n",
    "        \n",
    "    @staticmethod        \n",
    "    def parseRX(content):\n",
    "        matches = re.findall(r\"(^RX.+)\", content, re.MULTILINE)\n",
    "        if(matches == []):\n",
    "            raise Exception(\"No matches in content for RX\")\n",
    "        dictPacketType = {\"CBR\": [], \"VOIP\": [], \"VIDEO\": [], \"INF_BUF\": [], \"WEB\": []}\n",
    "        keys = dictPacketType.keys()\n",
    "        for match in matches:\n",
    "            values = match.split(' ')\n",
    "            if values[1] in keys:\n",
    "                tamanho = len(values)\n",
    "                dic = {}\n",
    "                for i in range(2, tamanho if tamanho%2==0 else tamanho-1, 2):\n",
    "                    dic[LTEParser._mapa[values[i]]] = values[i+1]\n",
    "                dic = dict(sorted(dic.items(), key=lambda x: x[0]))\n",
    "                dictPacketType[values[1]].append(dic)\n",
    "        return json.loads(json.dumps(dictPacketType))\n",
    "    \n",
    "    @staticmethod\n",
    "    def getPacketLossRatio(txContent, rxContent):\n",
    "        dictPacketType = {\"CBR\": [], \"VOIP\": [], \"VIDEO\": [], \"INF_BUF\": [], \"WEB\": []}\n",
    "        tx_pkts = 0\n",
    "        rx_pkts = 0\n",
    "        for key in txContent:\n",
    "            keytx = len(txContent[key])\n",
    "            tx_pkts += keytx\n",
    "            keyrx = len(rxContent[key])\n",
    "            rx_pkts += keyrx\n",
    "            keyPLR = ((keytx - keyrx) / (keytx if keytx != 0 else 1)) * 100\n",
    "            dictPacketType[key] = keyPLR\n",
    "        plr = ((tx_pkts - rx_pkts) / tx_pkts) * 100\n",
    "        return plr, dictPacketType\n",
    "    \n",
    "    @staticmethod\n",
    "    def getDelayJitter(rxContent):\n",
    "        delayPerApp = {}\n",
    "        for app in rxContent:\n",
    "            delayPerApp[app] = {\"Sum\": 0, \"Average\": 0, \"StD\": 0}\n",
    "            delayPerApp[app][\"Sum\"] = sum(float(item[\"Delay\"]) for item in rxContent[app])\n",
    "            tamanho = len(rxContent[app])\n",
    "            delayPerApp[app][\"Average\"] = delayPerApp[app][\"Sum\"]/tamanho if tamanho != 0 else 0\n",
    "            delayPerApp[app][\"StD\"] = sum((float(item[\"Delay\"]) - delayPerApp[app][\"Average\"])**2 for item in rxContent[app])/ (tamanho - 1) if tamanho != 0 else 0\n",
    "        return delayPerApp\n",
    "    \n",
    "    @staticmethod\n",
    "    def getGoodput(rxContent, flowDuration):\n",
    "        gputPerApp = {}\n",
    "        for app in rxContent:\n",
    "            gputPerApp[app] = {\"Sum\": 0, \"Average\": 0}\n",
    "            gputPerApp[app][\"Sum\"] = sum(float(item[\"Size\"])*8 for item in rxContent[app])\n",
    "            gputPerApp[app][\"Average\"] = (gputPerApp[app][\"Sum\"])/flowDuration\n",
    "        return gputPerApp\n",
    "    \n",
    "    @staticmethod\n",
    "    def getThroughput(rxContent, flowDuration):\n",
    "        tputPerApp = {}\n",
    "        for app in rxContent:\n",
    "            tputPerApp[app] = {\"Sum\": 0, \"Average\": 0}\n",
    "            tputPerApp[app][\"Sum\"] = sum((float(item[\"Size\"]) + 5)*8 for item in rxContent[app])\n",
    "            tputPerApp[app][\"Average\"] = (tputPerApp[app][\"Sum\"])/flowDuration\n",
    "        return tputPerApp\n",
    "    \n",
    "    @staticmethod\n",
    "    def getSpectralEff():\n",
    "        pass\n",
    "    \n",
    "    @staticmethod\n",
    "    def getFairnessIndex(rxContent, flowDuration):\n",
    "        fairnessPerApp = {}\n",
    "        for app in rxContent:\n",
    "            fairnessPerApp[app] = {\"Sum\": 0, \"Average\": 0, \"SumSquared\": 0, \"SquaredSum\": 0, \"FairnessIndex\": 0}\n",
    "            if(len(rxContent[app]) > 0):\n",
    "                fairnessPerApp[app][\"Sum\"] = sum(float(item[\"Size\"])*8 for item in rxContent[app])\n",
    "                fairnessPerApp[app][\"Average\"] = (fairnessPerApp[app][\"Sum\"])/flowDuration\n",
    "                fairnessPerApp[app][\"SumSquared\"] = sum(pow(float(item[\"Size\"])*8,2) for item in rxContent[app])\n",
    "                fairnessPerApp[app][\"SquaredSum\"] = pow(fairnessPerApp[app][\"Sum\"], 2)\n",
    "                division = (len(rxContent[app]) * fairnessPerApp[app][\"SumSquared\"])\n",
    "                fairnessPerApp[app][\"FairnessIndex\"] = fairnessPerApp[app][\"SquaredSum\"] / division if division > 0 else 1\n",
    "        return fairnessPerApp"
   ]
  },
  {
   "cell_type": "code",
   "execution_count": 63,
   "metadata": {},
   "outputs": [],
   "source": [
    "base = \"../../../Simulations/Percentages.25V3UE50\"\n",
    "ext = \".gz\"\n",
    "until = 4\n",
    "users = 51\n",
    "files = {\n",
    "         1: {\n",
    "                3: {10: [], 20: [], 30: [], 40: [], 50: [], 60: [], 70: [], 80: [], 90: [], 100: []},\n",
    "                30: {10: [], 20: [], 30: [], 40: [], 50: [], 60: [], 70: [], 80: [], 90: [], 100: []},\n",
    "                120: {10: [], 20: [], 30: [], 40: [], 50: [], 60: [], 70: [], 80: [], 90: [], 100: []}\n",
    "            },\n",
    "         2: {\n",
    "                3: {10: [], 20: [], 30: [], 40: [], 50: [], 60: [], 70: [], 80: [], 90: [], 100: []}, \n",
    "                30: {10: [], 20: [], 30: [], 40: [], 50: [], 60: [], 70: [], 80: [], 90: [], 100: []},\n",
    "                120: {10: [], 20: [], 30: [], 40: [], 50: [], 60: [], 70: [], 80: [], 90: [], 100: []}\n",
    "            },\n",
    "         3: {\n",
    "                3: {10: [], 20: [], 30: [], 40: [], 50: [], 60: [], 70: [], 80: [], 90: [], 100: []},\n",
    "                30: {10: [], 20: [], 30: [], 40: [], 50: [], 60: [], 70: [], 80: [], 90: [], 100: []},\n",
    "                120: {10: [], 20: [], 30: [], 40: [], 50: [], 60: [], 70: [], 80: [], 90: [], 100: []}\n",
    "            },\n",
    "         4: {\n",
    "                3: {10: [], 20: [], 30: [], 40: [], 50: [], 60: [], 70: [], 80: [], 90: [], 100: []},\n",
    "                30: {10: [], 20: [], 30: [], 40: [], 50: [], 60: [], 70: [], 80: [], 90: [], 100: []},\n",
    "                120: {10: [], 20: [], 30: [], 40: [], 50: [], 60: [], 70: [], 80: [], 90: [], 100: []}},\n",
    "         5: {\n",
    "                3: {10: [], 20: [], 30: [], 40: [], 50: [], 60: [], 70: [], 80: [], 90: [], 100: []},\n",
    "                30: {10: [], 20: [], 30: [], 40: [], 50: [], 60: [], 70: [], 80: [], 90: [], 100: []},\n",
    "                120: {10: [], 20: [], 30: [], 40: [], 50: [], 60: [], 70: [], 80: [], 90: [], 100: []}\n",
    "             },\n",
    "         6: {\n",
    "                3: {10: [], 20: [], 30: [], 40: [], 50: [], 60: [], 70: [], 80: [], 90: [], 100: []},\n",
    "                30: {10: [], 20: [], 30: [], 40: [], 50: [], 60: [], 70: [], 80: [], 90: [], 100: []},\n",
    "                120: {10: [], 20: [], 30: [], 40: [], 50: [], 60: [], 70: [], 80: [], 90: [], 100: []}\n",
    "             }\n",
    "        }\n",
    "for sched in range(1,7):\n",
    "    for ue in range(10, users, 10):\n",
    "        for vel in [3]:\n",
    "            for count in range(1,until):\n",
    "                file = \"/SCHED_\" + str(sched) + \"_UE_\" + str(ue) + \"_V_\" + str(vel) +\"_D_0.1_\" + str(count)\n",
    "                filename = base + file + ext\n",
    "                files[sched][vel][ue].append(filename)"
   ]
  },
  {
   "cell_type": "code",
   "execution_count": 64,
   "metadata": {},
   "outputs": [
    {
     "name": "stdout",
     "output_type": "stream",
     "text": [
      "{1: {3: {10: ['../../../Simulations/Percentages.25V3UE50/SCHED_1_UE_10_V_3_D_0.1_1.gz',\n",
      "              '../../../Simulations/Percentages.25V3UE50/SCHED_1_UE_10_V_3_D_0.1_2.gz',\n",
      "              '../../../Simulations/Percentages.25V3UE50/SCHED_1_UE_10_V_3_D_0.1_3.gz'],\n",
      "         20: ['../../../Simulations/Percentages.25V3UE50/SCHED_1_UE_20_V_3_D_0.1_1.gz',\n",
      "              '../../../Simulations/Percentages.25V3UE50/SCHED_1_UE_20_V_3_D_0.1_2.gz',\n",
      "              '../../../Simulations/Percentages.25V3UE50/SCHED_1_UE_20_V_3_D_0.1_3.gz'],\n",
      "         30: ['../../../Simulations/Percentages.25V3UE50/SCHED_1_UE_30_V_3_D_0.1_1.gz',\n",
      "              '../../../Simulations/Percentages.25V3UE50/SCHED_1_UE_30_V_3_D_0.1_2.gz',\n",
      "              '../../../Simulations/Percentages.25V3UE50/SCHED_1_UE_30_V_3_D_0.1_3.gz'],\n",
      "         40: ['../../../Simulations/Percentages.25V3UE50/SCHED_1_UE_40_V_3_D_0.1_1.gz',\n",
      "              '../../../Simulations/Percentages.25V3UE50/SCHED_1_UE_40_V_3_D_0.1_2.gz',\n",
      "              '../../../Simulations/Percentages.25V3UE50/SCHED_1_UE_40_V_3_D_0.1_3.gz'],\n",
      "         50: ['../../../Simulations/Percentages.25V3UE50/SCHED_1_UE_50_V_3_D_0.1_1.gz',\n",
      "              '../../../Simulations/Percentages.25V3UE50/SCHED_1_UE_50_V_3_D_0.1_2.gz',\n",
      "              '../../../Simulations/Percentages.25V3UE50/SCHED_1_UE_50_V_3_D_0.1_3.gz'],\n",
      "         60: [],\n",
      "         70: [],\n",
      "         80: [],\n",
      "         90: [],\n",
      "         100: []},\n",
      "     30: {10: [],\n",
      "          20: [],\n",
      "          30: [],\n",
      "          40: [],\n",
      "          50: [],\n",
      "          60: [],\n",
      "          70: [],\n",
      "          80: [],\n",
      "          90: [],\n",
      "          100: []},\n",
      "     120: {10: [],\n",
      "           20: [],\n",
      "           30: [],\n",
      "           40: [],\n",
      "           50: [],\n",
      "           60: [],\n",
      "           70: [],\n",
      "           80: [],\n",
      "           90: [],\n",
      "           100: []}},\n",
      " 2: {3: {10: ['../../../Simulations/Percentages.25V3UE50/SCHED_2_UE_10_V_3_D_0.1_1.gz',\n",
      "              '../../../Simulations/Percentages.25V3UE50/SCHED_2_UE_10_V_3_D_0.1_2.gz',\n",
      "              '../../../Simulations/Percentages.25V3UE50/SCHED_2_UE_10_V_3_D_0.1_3.gz'],\n",
      "         20: ['../../../Simulations/Percentages.25V3UE50/SCHED_2_UE_20_V_3_D_0.1_1.gz',\n",
      "              '../../../Simulations/Percentages.25V3UE50/SCHED_2_UE_20_V_3_D_0.1_2.gz',\n",
      "              '../../../Simulations/Percentages.25V3UE50/SCHED_2_UE_20_V_3_D_0.1_3.gz'],\n",
      "         30: ['../../../Simulations/Percentages.25V3UE50/SCHED_2_UE_30_V_3_D_0.1_1.gz',\n",
      "              '../../../Simulations/Percentages.25V3UE50/SCHED_2_UE_30_V_3_D_0.1_2.gz',\n",
      "              '../../../Simulations/Percentages.25V3UE50/SCHED_2_UE_30_V_3_D_0.1_3.gz'],\n",
      "         40: ['../../../Simulations/Percentages.25V3UE50/SCHED_2_UE_40_V_3_D_0.1_1.gz',\n",
      "              '../../../Simulations/Percentages.25V3UE50/SCHED_2_UE_40_V_3_D_0.1_2.gz',\n",
      "              '../../../Simulations/Percentages.25V3UE50/SCHED_2_UE_40_V_3_D_0.1_3.gz'],\n",
      "         50: ['../../../Simulations/Percentages.25V3UE50/SCHED_2_UE_50_V_3_D_0.1_1.gz',\n",
      "              '../../../Simulations/Percentages.25V3UE50/SCHED_2_UE_50_V_3_D_0.1_2.gz',\n",
      "              '../../../Simulations/Percentages.25V3UE50/SCHED_2_UE_50_V_3_D_0.1_3.gz'],\n",
      "         60: [],\n",
      "         70: [],\n",
      "         80: [],\n",
      "         90: [],\n",
      "         100: []},\n",
      "     30: {10: [],\n",
      "          20: [],\n",
      "          30: [],\n",
      "          40: [],\n",
      "          50: [],\n",
      "          60: [],\n",
      "          70: [],\n",
      "          80: [],\n",
      "          90: [],\n",
      "          100: []},\n",
      "     120: {10: [],\n",
      "           20: [],\n",
      "           30: [],\n",
      "           40: [],\n",
      "           50: [],\n",
      "           60: [],\n",
      "           70: [],\n",
      "           80: [],\n",
      "           90: [],\n",
      "           100: []}},\n",
      " 3: {3: {10: ['../../../Simulations/Percentages.25V3UE50/SCHED_3_UE_10_V_3_D_0.1_1.gz',\n",
      "              '../../../Simulations/Percentages.25V3UE50/SCHED_3_UE_10_V_3_D_0.1_2.gz',\n",
      "              '../../../Simulations/Percentages.25V3UE50/SCHED_3_UE_10_V_3_D_0.1_3.gz'],\n",
      "         20: ['../../../Simulations/Percentages.25V3UE50/SCHED_3_UE_20_V_3_D_0.1_1.gz',\n",
      "              '../../../Simulations/Percentages.25V3UE50/SCHED_3_UE_20_V_3_D_0.1_2.gz',\n",
      "              '../../../Simulations/Percentages.25V3UE50/SCHED_3_UE_20_V_3_D_0.1_3.gz'],\n",
      "         30: ['../../../Simulations/Percentages.25V3UE50/SCHED_3_UE_30_V_3_D_0.1_1.gz',\n",
      "              '../../../Simulations/Percentages.25V3UE50/SCHED_3_UE_30_V_3_D_0.1_2.gz',\n",
      "              '../../../Simulations/Percentages.25V3UE50/SCHED_3_UE_30_V_3_D_0.1_3.gz'],\n",
      "         40: ['../../../Simulations/Percentages.25V3UE50/SCHED_3_UE_40_V_3_D_0.1_1.gz',\n",
      "              '../../../Simulations/Percentages.25V3UE50/SCHED_3_UE_40_V_3_D_0.1_2.gz',\n",
      "              '../../../Simulations/Percentages.25V3UE50/SCHED_3_UE_40_V_3_D_0.1_3.gz'],\n",
      "         50: ['../../../Simulations/Percentages.25V3UE50/SCHED_3_UE_50_V_3_D_0.1_1.gz',\n",
      "              '../../../Simulations/Percentages.25V3UE50/SCHED_3_UE_50_V_3_D_0.1_2.gz',\n",
      "              '../../../Simulations/Percentages.25V3UE50/SCHED_3_UE_50_V_3_D_0.1_3.gz'],\n",
      "         60: [],\n",
      "         70: [],\n",
      "         80: [],\n",
      "         90: [],\n",
      "         100: []},\n",
      "     30: {10: [],\n",
      "          20: [],\n",
      "          30: [],\n",
      "          40: [],\n",
      "          50: [],\n",
      "          60: [],\n",
      "          70: [],\n",
      "          80: [],\n",
      "          90: [],\n",
      "          100: []},\n",
      "     120: {10: [],\n",
      "           20: [],\n",
      "           30: [],\n",
      "           40: [],\n",
      "           50: [],\n",
      "           60: [],\n",
      "           70: [],\n",
      "           80: [],\n",
      "           90: [],\n",
      "           100: []}},\n",
      " 4: {3: {10: ['../../../Simulations/Percentages.25V3UE50/SCHED_4_UE_10_V_3_D_0.1_1.gz',\n",
      "              '../../../Simulations/Percentages.25V3UE50/SCHED_4_UE_10_V_3_D_0.1_2.gz',\n",
      "              '../../../Simulations/Percentages.25V3UE50/SCHED_4_UE_10_V_3_D_0.1_3.gz'],\n",
      "         20: ['../../../Simulations/Percentages.25V3UE50/SCHED_4_UE_20_V_3_D_0.1_1.gz',\n",
      "              '../../../Simulations/Percentages.25V3UE50/SCHED_4_UE_20_V_3_D_0.1_2.gz',\n",
      "              '../../../Simulations/Percentages.25V3UE50/SCHED_4_UE_20_V_3_D_0.1_3.gz'],\n",
      "         30: ['../../../Simulations/Percentages.25V3UE50/SCHED_4_UE_30_V_3_D_0.1_1.gz',\n",
      "              '../../../Simulations/Percentages.25V3UE50/SCHED_4_UE_30_V_3_D_0.1_2.gz',\n",
      "              '../../../Simulations/Percentages.25V3UE50/SCHED_4_UE_30_V_3_D_0.1_3.gz'],\n",
      "         40: ['../../../Simulations/Percentages.25V3UE50/SCHED_4_UE_40_V_3_D_0.1_1.gz',\n",
      "              '../../../Simulations/Percentages.25V3UE50/SCHED_4_UE_40_V_3_D_0.1_2.gz',\n",
      "              '../../../Simulations/Percentages.25V3UE50/SCHED_4_UE_40_V_3_D_0.1_3.gz'],\n",
      "         50: ['../../../Simulations/Percentages.25V3UE50/SCHED_4_UE_50_V_3_D_0.1_1.gz',\n",
      "              '../../../Simulations/Percentages.25V3UE50/SCHED_4_UE_50_V_3_D_0.1_2.gz',\n",
      "              '../../../Simulations/Percentages.25V3UE50/SCHED_4_UE_50_V_3_D_0.1_3.gz'],\n",
      "         60: [],\n",
      "         70: [],\n",
      "         80: [],\n",
      "         90: [],\n",
      "         100: []},\n",
      "     30: {10: [],\n",
      "          20: [],\n",
      "          30: [],\n",
      "          40: [],\n",
      "          50: [],\n",
      "          60: [],\n",
      "          70: [],\n",
      "          80: [],\n",
      "          90: [],\n",
      "          100: []},\n",
      "     120: {10: [],\n",
      "           20: [],\n",
      "           30: [],\n",
      "           40: [],\n",
      "           50: [],\n",
      "           60: [],\n",
      "           70: [],\n",
      "           80: [],\n",
      "           90: [],\n",
      "           100: []}},\n",
      " 5: {3: {10: ['../../../Simulations/Percentages.25V3UE50/SCHED_5_UE_10_V_3_D_0.1_1.gz',\n",
      "              '../../../Simulations/Percentages.25V3UE50/SCHED_5_UE_10_V_3_D_0.1_2.gz',\n",
      "              '../../../Simulations/Percentages.25V3UE50/SCHED_5_UE_10_V_3_D_0.1_3.gz'],\n",
      "         20: ['../../../Simulations/Percentages.25V3UE50/SCHED_5_UE_20_V_3_D_0.1_1.gz',\n",
      "              '../../../Simulations/Percentages.25V3UE50/SCHED_5_UE_20_V_3_D_0.1_2.gz',\n",
      "              '../../../Simulations/Percentages.25V3UE50/SCHED_5_UE_20_V_3_D_0.1_3.gz'],\n",
      "         30: ['../../../Simulations/Percentages.25V3UE50/SCHED_5_UE_30_V_3_D_0.1_1.gz',\n",
      "              '../../../Simulations/Percentages.25V3UE50/SCHED_5_UE_30_V_3_D_0.1_2.gz',\n",
      "              '../../../Simulations/Percentages.25V3UE50/SCHED_5_UE_30_V_3_D_0.1_3.gz'],\n",
      "         40: ['../../../Simulations/Percentages.25V3UE50/SCHED_5_UE_40_V_3_D_0.1_1.gz',\n",
      "              '../../../Simulations/Percentages.25V3UE50/SCHED_5_UE_40_V_3_D_0.1_2.gz',\n",
      "              '../../../Simulations/Percentages.25V3UE50/SCHED_5_UE_40_V_3_D_0.1_3.gz'],\n",
      "         50: ['../../../Simulations/Percentages.25V3UE50/SCHED_5_UE_50_V_3_D_0.1_1.gz',\n",
      "              '../../../Simulations/Percentages.25V3UE50/SCHED_5_UE_50_V_3_D_0.1_2.gz',\n",
      "              '../../../Simulations/Percentages.25V3UE50/SCHED_5_UE_50_V_3_D_0.1_3.gz'],\n",
      "         60: [],\n",
      "         70: [],\n",
      "         80: [],\n",
      "         90: [],\n",
      "         100: []},\n",
      "     30: {10: [],\n",
      "          20: [],\n",
      "          30: [],\n",
      "          40: [],\n",
      "          50: [],\n",
      "          60: [],\n",
      "          70: [],\n",
      "          80: [],\n",
      "          90: [],\n",
      "          100: []},\n",
      "     120: {10: [],\n",
      "           20: [],\n",
      "           30: [],\n",
      "           40: [],\n",
      "           50: [],\n",
      "           60: [],\n",
      "           70: [],\n",
      "           80: [],\n",
      "           90: [],\n",
      "           100: []}},\n",
      " 6: {3: {10: ['../../../Simulations/Percentages.25V3UE50/SCHED_6_UE_10_V_3_D_0.1_1.gz',\n",
      "              '../../../Simulations/Percentages.25V3UE50/SCHED_6_UE_10_V_3_D_0.1_2.gz',\n",
      "              '../../../Simulations/Percentages.25V3UE50/SCHED_6_UE_10_V_3_D_0.1_3.gz'],\n",
      "         20: ['../../../Simulations/Percentages.25V3UE50/SCHED_6_UE_20_V_3_D_0.1_1.gz',\n",
      "              '../../../Simulations/Percentages.25V3UE50/SCHED_6_UE_20_V_3_D_0.1_2.gz',\n",
      "              '../../../Simulations/Percentages.25V3UE50/SCHED_6_UE_20_V_3_D_0.1_3.gz'],\n",
      "         30: ['../../../Simulations/Percentages.25V3UE50/SCHED_6_UE_30_V_3_D_0.1_1.gz',\n",
      "              '../../../Simulations/Percentages.25V3UE50/SCHED_6_UE_30_V_3_D_0.1_2.gz',\n",
      "              '../../../Simulations/Percentages.25V3UE50/SCHED_6_UE_30_V_3_D_0.1_3.gz'],\n",
      "         40: ['../../../Simulations/Percentages.25V3UE50/SCHED_6_UE_40_V_3_D_0.1_1.gz',\n",
      "              '../../../Simulations/Percentages.25V3UE50/SCHED_6_UE_40_V_3_D_0.1_2.gz',\n",
      "              '../../../Simulations/Percentages.25V3UE50/SCHED_6_UE_40_V_3_D_0.1_3.gz'],\n",
      "         50: ['../../../Simulations/Percentages.25V3UE50/SCHED_6_UE_50_V_3_D_0.1_1.gz',\n",
      "              '../../../Simulations/Percentages.25V3UE50/SCHED_6_UE_50_V_3_D_0.1_2.gz',\n",
      "              '../../../Simulations/Percentages.25V3UE50/SCHED_6_UE_50_V_3_D_0.1_3.gz'],\n",
      "         60: [],\n",
      "         70: [],\n",
      "         80: [],\n",
      "         90: [],\n",
      "         100: []},\n",
      "     30: {10: [],\n",
      "          20: [],\n",
      "          30: [],\n",
      "          40: [],\n",
      "          50: [],\n",
      "          60: [],\n",
      "          70: [],\n",
      "          80: [],\n",
      "          90: [],\n",
      "          100: []},\n",
      "     120: {10: [],\n",
      "           20: [],\n",
      "           30: [],\n",
      "           40: [],\n",
      "           50: [],\n",
      "           60: [],\n",
      "           70: [],\n",
      "           80: [],\n",
      "           90: [],\n",
      "           100: []}}}\n"
     ]
    }
   ],
   "source": [
    "pprint(files)"
   ]
  },
  {
   "cell_type": "markdown",
   "metadata": {},
   "source": [
    "# 30KM/H"
   ]
  },
  {
   "cell_type": "code",
   "execution_count": 65,
   "metadata": {
    "scrolled": true
   },
   "outputs": [
    {
     "name": "stdout",
     "output_type": "stream",
     "text": [
      "Opening file: ../../../Simulations/Percentages.25V3UE50/SCHED_1_UE_10_V_3_D_0.1_1.gz\n",
      "Parsing file ...Done\n",
      "Opening file: ../../../Simulations/Percentages.25V3UE50/SCHED_1_UE_10_V_3_D_0.1_2.gz\n",
      "Parsing file ...Done\n",
      "Opening file: ../../../Simulations/Percentages.25V3UE50/SCHED_1_UE_10_V_3_D_0.1_3.gz\n",
      "Parsing file ...Done\n",
      "Opening file: ../../../Simulations/Percentages.25V3UE50/SCHED_1_UE_20_V_3_D_0.1_1.gz\n",
      "Parsing file ...Done\n",
      "Opening file: ../../../Simulations/Percentages.25V3UE50/SCHED_1_UE_20_V_3_D_0.1_2.gz\n",
      "Parsing file ...Done\n",
      "Opening file: ../../../Simulations/Percentages.25V3UE50/SCHED_1_UE_20_V_3_D_0.1_3.gz\n",
      "Parsing file ...Done\n",
      "Opening file: ../../../Simulations/Percentages.25V3UE50/SCHED_1_UE_30_V_3_D_0.1_1.gz\n",
      "Parsing file ...Done\n",
      "Opening file: ../../../Simulations/Percentages.25V3UE50/SCHED_1_UE_30_V_3_D_0.1_2.gz\n",
      "Parsing file ...Done\n",
      "Opening file: ../../../Simulations/Percentages.25V3UE50/SCHED_1_UE_30_V_3_D_0.1_3.gz\n",
      "Parsing file ...Done\n",
      "Opening file: ../../../Simulations/Percentages.25V3UE50/SCHED_1_UE_40_V_3_D_0.1_1.gz\n",
      "Parsing file ...Done\n",
      "Opening file: ../../../Simulations/Percentages.25V3UE50/SCHED_1_UE_40_V_3_D_0.1_2.gz\n",
      "Parsing file ...Done\n",
      "Opening file: ../../../Simulations/Percentages.25V3UE50/SCHED_1_UE_40_V_3_D_0.1_3.gz\n",
      "Parsing file ...Done\n",
      "Opening file: ../../../Simulations/Percentages.25V3UE50/SCHED_1_UE_50_V_3_D_0.1_1.gz\n",
      "Parsing file ...Done\n",
      "Opening file: ../../../Simulations/Percentages.25V3UE50/SCHED_1_UE_50_V_3_D_0.1_2.gz\n",
      "Parsing file ...Done\n",
      "Opening file: ../../../Simulations/Percentages.25V3UE50/SCHED_1_UE_50_V_3_D_0.1_3.gz\n",
      "Parsing file ...Done\n",
      "Opening file: ../../../Simulations/Percentages.25V3UE50/SCHED_2_UE_10_V_3_D_0.1_1.gz\n",
      "Parsing file ...Done\n",
      "Opening file: ../../../Simulations/Percentages.25V3UE50/SCHED_2_UE_10_V_3_D_0.1_2.gz\n",
      "Parsing file ...Done\n",
      "Opening file: ../../../Simulations/Percentages.25V3UE50/SCHED_2_UE_10_V_3_D_0.1_3.gz\n",
      "Parsing file ...Done\n",
      "Opening file: ../../../Simulations/Percentages.25V3UE50/SCHED_2_UE_20_V_3_D_0.1_1.gz\n",
      "Parsing file ...Done\n",
      "Opening file: ../../../Simulations/Percentages.25V3UE50/SCHED_2_UE_20_V_3_D_0.1_2.gz\n",
      "Parsing file ...Done\n",
      "Opening file: ../../../Simulations/Percentages.25V3UE50/SCHED_2_UE_20_V_3_D_0.1_3.gz\n",
      "Parsing file ...Done\n",
      "Opening file: ../../../Simulations/Percentages.25V3UE50/SCHED_2_UE_30_V_3_D_0.1_1.gz\n",
      "Parsing file ...Done\n",
      "Opening file: ../../../Simulations/Percentages.25V3UE50/SCHED_2_UE_30_V_3_D_0.1_2.gz\n",
      "Parsing file ...Done\n",
      "Opening file: ../../../Simulations/Percentages.25V3UE50/SCHED_2_UE_30_V_3_D_0.1_3.gz\n",
      "Parsing file ...Done\n",
      "Opening file: ../../../Simulations/Percentages.25V3UE50/SCHED_2_UE_40_V_3_D_0.1_1.gz\n",
      "Parsing file ...Done\n",
      "Opening file: ../../../Simulations/Percentages.25V3UE50/SCHED_2_UE_40_V_3_D_0.1_2.gz\n",
      "Parsing file ...Done\n",
      "Opening file: ../../../Simulations/Percentages.25V3UE50/SCHED_2_UE_40_V_3_D_0.1_3.gz\n",
      "Parsing file ...Done\n",
      "Opening file: ../../../Simulations/Percentages.25V3UE50/SCHED_2_UE_50_V_3_D_0.1_1.gz\n",
      "Parsing file ...Done\n",
      "Opening file: ../../../Simulations/Percentages.25V3UE50/SCHED_2_UE_50_V_3_D_0.1_2.gz\n",
      "Parsing file ...Done\n",
      "Opening file: ../../../Simulations/Percentages.25V3UE50/SCHED_2_UE_50_V_3_D_0.1_3.gz\n",
      "Parsing file ...Done\n",
      "Opening file: ../../../Simulations/Percentages.25V3UE50/SCHED_3_UE_10_V_3_D_0.1_1.gz\n",
      "Parsing file ...Done\n",
      "Opening file: ../../../Simulations/Percentages.25V3UE50/SCHED_3_UE_10_V_3_D_0.1_2.gz\n",
      "Parsing file ...Done\n",
      "Opening file: ../../../Simulations/Percentages.25V3UE50/SCHED_3_UE_10_V_3_D_0.1_3.gz\n",
      "Parsing file ...Done\n",
      "Opening file: ../../../Simulations/Percentages.25V3UE50/SCHED_3_UE_20_V_3_D_0.1_1.gz\n",
      "Parsing file ...Done\n",
      "Opening file: ../../../Simulations/Percentages.25V3UE50/SCHED_3_UE_20_V_3_D_0.1_2.gz\n",
      "Parsing file ...Done\n",
      "Opening file: ../../../Simulations/Percentages.25V3UE50/SCHED_3_UE_20_V_3_D_0.1_3.gz\n",
      "Parsing file ...Done\n",
      "Opening file: ../../../Simulations/Percentages.25V3UE50/SCHED_3_UE_30_V_3_D_0.1_1.gz\n",
      "Parsing file ...Done\n",
      "Opening file: ../../../Simulations/Percentages.25V3UE50/SCHED_3_UE_30_V_3_D_0.1_2.gz\n",
      "Parsing file ...Done\n",
      "Opening file: ../../../Simulations/Percentages.25V3UE50/SCHED_3_UE_30_V_3_D_0.1_3.gz\n",
      "Parsing file ...Done\n",
      "Opening file: ../../../Simulations/Percentages.25V3UE50/SCHED_3_UE_40_V_3_D_0.1_1.gz\n",
      "Parsing file ...Done\n",
      "Opening file: ../../../Simulations/Percentages.25V3UE50/SCHED_3_UE_40_V_3_D_0.1_2.gz\n",
      "Parsing file ...Done\n",
      "Opening file: ../../../Simulations/Percentages.25V3UE50/SCHED_3_UE_40_V_3_D_0.1_3.gz\n",
      "Parsing file ...Done\n",
      "Opening file: ../../../Simulations/Percentages.25V3UE50/SCHED_3_UE_50_V_3_D_0.1_1.gz\n",
      "Parsing file ...Done\n",
      "Opening file: ../../../Simulations/Percentages.25V3UE50/SCHED_3_UE_50_V_3_D_0.1_2.gz\n",
      "Parsing file ...Done\n",
      "Opening file: ../../../Simulations/Percentages.25V3UE50/SCHED_3_UE_50_V_3_D_0.1_3.gz\n",
      "Parsing file ...Done\n",
      "Opening file: ../../../Simulations/Percentages.25V3UE50/SCHED_4_UE_10_V_3_D_0.1_1.gz\n",
      "Parsing file ...Done\n",
      "Opening file: ../../../Simulations/Percentages.25V3UE50/SCHED_4_UE_10_V_3_D_0.1_2.gz\n",
      "Parsing file ...Done\n",
      "Opening file: ../../../Simulations/Percentages.25V3UE50/SCHED_4_UE_10_V_3_D_0.1_3.gz\n",
      "Parsing file ...Done\n",
      "Opening file: ../../../Simulations/Percentages.25V3UE50/SCHED_4_UE_20_V_3_D_0.1_1.gz\n",
      "Parsing file ...Done\n",
      "Opening file: ../../../Simulations/Percentages.25V3UE50/SCHED_4_UE_20_V_3_D_0.1_2.gz\n",
      "Parsing file ...Done\n",
      "Opening file: ../../../Simulations/Percentages.25V3UE50/SCHED_4_UE_20_V_3_D_0.1_3.gz\n",
      "Parsing file ...Done\n",
      "Opening file: ../../../Simulations/Percentages.25V3UE50/SCHED_4_UE_30_V_3_D_0.1_1.gz\n",
      "Parsing file ...Done\n",
      "Opening file: ../../../Simulations/Percentages.25V3UE50/SCHED_4_UE_30_V_3_D_0.1_2.gz\n",
      "Parsing file ...Done\n",
      "Opening file: ../../../Simulations/Percentages.25V3UE50/SCHED_4_UE_30_V_3_D_0.1_3.gz\n",
      "Parsing file ...Done\n",
      "Opening file: ../../../Simulations/Percentages.25V3UE50/SCHED_4_UE_40_V_3_D_0.1_1.gz\n",
      "Parsing file ...Done\n",
      "Opening file: ../../../Simulations/Percentages.25V3UE50/SCHED_4_UE_40_V_3_D_0.1_2.gz\n",
      "Parsing file ...Done\n",
      "Opening file: ../../../Simulations/Percentages.25V3UE50/SCHED_4_UE_40_V_3_D_0.1_3.gz\n",
      "Parsing file ...Done\n",
      "Opening file: ../../../Simulations/Percentages.25V3UE50/SCHED_4_UE_50_V_3_D_0.1_1.gz\n",
      "Parsing file ...Done\n",
      "Opening file: ../../../Simulations/Percentages.25V3UE50/SCHED_4_UE_50_V_3_D_0.1_2.gz\n",
      "Parsing file ...Done\n",
      "Opening file: ../../../Simulations/Percentages.25V3UE50/SCHED_4_UE_50_V_3_D_0.1_3.gz\n",
      "Parsing file ...Done\n",
      "Opening file: ../../../Simulations/Percentages.25V3UE50/SCHED_5_UE_10_V_3_D_0.1_1.gz\n",
      "Parsing file ...Done\n",
      "Opening file: ../../../Simulations/Percentages.25V3UE50/SCHED_5_UE_10_V_3_D_0.1_2.gz\n",
      "Parsing file ...Done\n",
      "Opening file: ../../../Simulations/Percentages.25V3UE50/SCHED_5_UE_10_V_3_D_0.1_3.gz\n",
      "Parsing file ...Done\n",
      "Opening file: ../../../Simulations/Percentages.25V3UE50/SCHED_5_UE_20_V_3_D_0.1_1.gz\n",
      "Parsing file ...Done\n",
      "Opening file: ../../../Simulations/Percentages.25V3UE50/SCHED_5_UE_20_V_3_D_0.1_2.gz\n",
      "Parsing file ...Done\n",
      "Opening file: ../../../Simulations/Percentages.25V3UE50/SCHED_5_UE_20_V_3_D_0.1_3.gz\n",
      "Parsing file ...Done\n",
      "Opening file: ../../../Simulations/Percentages.25V3UE50/SCHED_5_UE_30_V_3_D_0.1_1.gz\n",
      "Parsing file ...Done\n",
      "Opening file: ../../../Simulations/Percentages.25V3UE50/SCHED_5_UE_30_V_3_D_0.1_2.gz\n",
      "Parsing file ...Done\n",
      "Opening file: ../../../Simulations/Percentages.25V3UE50/SCHED_5_UE_30_V_3_D_0.1_3.gz\n",
      "Parsing file ...Done\n",
      "Opening file: ../../../Simulations/Percentages.25V3UE50/SCHED_5_UE_40_V_3_D_0.1_1.gz\n",
      "Parsing file ...Done\n",
      "Opening file: ../../../Simulations/Percentages.25V3UE50/SCHED_5_UE_40_V_3_D_0.1_2.gz\n",
      "Parsing file ...Done\n",
      "Opening file: ../../../Simulations/Percentages.25V3UE50/SCHED_5_UE_40_V_3_D_0.1_3.gz\n",
      "Parsing file ...Done\n",
      "Opening file: ../../../Simulations/Percentages.25V3UE50/SCHED_5_UE_50_V_3_D_0.1_1.gz\n",
      "Parsing file ...Done\n",
      "Opening file: ../../../Simulations/Percentages.25V3UE50/SCHED_5_UE_50_V_3_D_0.1_2.gz\n",
      "Parsing file ...Done\n",
      "Opening file: ../../../Simulations/Percentages.25V3UE50/SCHED_5_UE_50_V_3_D_0.1_3.gz\n",
      "Parsing file ...Done\n",
      "Opening file: ../../../Simulations/Percentages.25V3UE50/SCHED_6_UE_10_V_3_D_0.1_1.gz\n",
      "Parsing file ...Done\n",
      "Opening file: ../../../Simulations/Percentages.25V3UE50/SCHED_6_UE_10_V_3_D_0.1_2.gz\n",
      "Parsing file ...Done\n",
      "Opening file: ../../../Simulations/Percentages.25V3UE50/SCHED_6_UE_10_V_3_D_0.1_3.gz\n"
     ]
    },
    {
     "name": "stdout",
     "output_type": "stream",
     "text": [
      "Parsing file ...Done\n",
      "Opening file: ../../../Simulations/Percentages.25V3UE50/SCHED_6_UE_20_V_3_D_0.1_1.gz\n",
      "Parsing file ...Done\n",
      "Opening file: ../../../Simulations/Percentages.25V3UE50/SCHED_6_UE_20_V_3_D_0.1_2.gz\n",
      "Parsing file ...Done\n",
      "Opening file: ../../../Simulations/Percentages.25V3UE50/SCHED_6_UE_20_V_3_D_0.1_3.gz\n",
      "Parsing file ...Done\n",
      "Opening file: ../../../Simulations/Percentages.25V3UE50/SCHED_6_UE_30_V_3_D_0.1_1.gz\n",
      "Parsing file ...Done\n",
      "Opening file: ../../../Simulations/Percentages.25V3UE50/SCHED_6_UE_30_V_3_D_0.1_2.gz\n",
      "Parsing file ...Done\n",
      "Opening file: ../../../Simulations/Percentages.25V3UE50/SCHED_6_UE_30_V_3_D_0.1_3.gz\n",
      "Parsing file ...Done\n",
      "Opening file: ../../../Simulations/Percentages.25V3UE50/SCHED_6_UE_40_V_3_D_0.1_1.gz\n",
      "Parsing file ...Done\n",
      "Opening file: ../../../Simulations/Percentages.25V3UE50/SCHED_6_UE_40_V_3_D_0.1_2.gz\n",
      "Parsing file ...Done\n",
      "Opening file: ../../../Simulations/Percentages.25V3UE50/SCHED_6_UE_40_V_3_D_0.1_3.gz\n",
      "Parsing file ...Done\n",
      "Opening file: ../../../Simulations/Percentages.25V3UE50/SCHED_6_UE_50_V_3_D_0.1_1.gz\n",
      "Parsing file ...Done\n",
      "Opening file: ../../../Simulations/Percentages.25V3UE50/SCHED_6_UE_50_V_3_D_0.1_2.gz\n",
      "Parsing file ...Done\n",
      "Opening file: ../../../Simulations/Percentages.25V3UE50/SCHED_6_UE_50_V_3_D_0.1_3.gz\n",
      "Parsing file ...Done\n"
     ]
    }
   ],
   "source": [
    "#VIDEO\n",
    "GPUTSVIDEO = {1: [], 2: [], 3: [], 4: [], 5: [], 6: []}\n",
    "FAIRVIDEO = {1: [], 2: [], 3: [], 4: [], 5: [], 6: []}\n",
    "DELAYVIDEO = {1: [], 2: [], 3: [], 4: [], 5: [], 6: []}\n",
    "JITTERVIDEO = {1: [], 2: [], 3: [], 4: [], 5: [], 6: []}\n",
    "PLRVIDEO = {1: [], 2: [], 3: [], 4: [], 5: [], 6: []}\n",
    "#VOICE\n",
    "GPUTSVOICE = {1: [], 2: [], 3: [], 4: [], 5: [], 6: []}\n",
    "FAIRVOICE = {1: [], 2: [], 3: [], 4: [], 5: [], 6: []}\n",
    "DELAYVOICE = {1: [], 2: [], 3: [], 4: [], 5: [], 6: []}\n",
    "JITTERVOICE = {1: [], 2: [], 3: [], 4: [], 5: [], 6: []}\n",
    "PLRVOICE = {1: [], 2: [], 3: [], 4: [], 5: [], 6: []}\n",
    "#INFBUF\n",
    "GPUTSINFBUF = {1: [], 2: [], 3: [], 4: [], 5: [], 6: []}\n",
    "FAIRINFBUF = {1: [], 2: [], 3: [], 4: [], 5: [], 6: []}\n",
    "DELAYINFBUF = {1: [], 2: [], 3: [], 4: [], 5: [], 6: []}\n",
    "JITTERINFBUF = {1: [], 2: [], 3: [], 4: [], 5: [], 6: []}\n",
    "PLRINFBUF = {1: [], 2: [], 3: [], 4: [], 5: [], 6: []}\n",
    "#GERAL\n",
    "PACKETLOSS = {1: [], 2: [], 3: [], 4: [], 5: [], 6: []}\n",
    "for sched in GPUTSVIDEO:\n",
    "    for ue in range(10, users, 10):\n",
    "        info = LTEParser.parse(files[sched][3][ue], 100)\n",
    "        #VIDEO\n",
    "        GPUTSVIDEO[sched].append(info[0])\n",
    "        FAIRVIDEO[sched].append(info[1])\n",
    "        DELAYVIDEO[sched].append(info[2])\n",
    "        JITTERVIDEO[sched].append(info[3])\n",
    "        PLRVIDEO[sched].append(info[4])\n",
    "        #VOICE\n",
    "        GPUTSVOICE[sched].append(info[5])\n",
    "        FAIRVOICE[sched].append(info[6])\n",
    "        DELAYVOICE[sched].append(info[7])\n",
    "        JITTERVOICE[sched].append(info[8])\n",
    "        PLRVOICE[sched].append(info[9])\n",
    "        #INFBUF\n",
    "        GPUTSINFBUF[sched].append(info[10])\n",
    "        FAIRINFBUF[sched].append(info[11])\n",
    "        DELAYINFBUF[sched].append(info[12])\n",
    "        JITTERINFBUF[sched].append(info[13])\n",
    "        PLRINFBUF[sched].append(info[14])\n",
    "        #GERAL\n",
    "        PACKETLOSS[sched].append(info[15])\n",
    "    #VIDEO\n",
    "    GPUTSVIDEO[sched] = np.array(GPUTSVIDEO[sched], dtype=np.float32)\n",
    "    FAIRVIDEO[sched] = np.array(FAIRVIDEO[sched], dtype=np.float32)\n",
    "    DELAYVIDEO[sched] = np.array(DELAYVIDEO[sched], dtype = np.float32)\n",
    "    JITTERVIDEO[sched] = np.array(JITTERVIDEO[sched], dtype = np.float32)\n",
    "    PLRVIDEO[sched] = np.array(PLRVIDEO[sched], dtype = np.float32)\n",
    "    #VOICE\n",
    "    GPUTSVOICE[sched] = np.array(GPUTSVOICE[sched], dtype=np.float32)\n",
    "    FAIRVOICE[sched] = np.array(FAIRVOICE[sched], dtype=np.float32)\n",
    "    DELAYVOICE[sched] = np.array(DELAYVOICE[sched], dtype = np.float32)\n",
    "    JITTERVOICE[sched] = np.array(JITTERVOICE[sched], dtype = np.float32)\n",
    "    PLRVOICE[sched] = np.array(PLRVOICE[sched], dtype = np.float32)\n",
    "    #INFBUF\n",
    "    GPUTSINFBUF[sched] = np.array(GPUTSINFBUF[sched], dtype=np.float32)\n",
    "    FAIRINFBUF[sched] = np.array(FAIRINFBUF[sched], dtype=np.float32)\n",
    "    DELAYINFBUF[sched] = np.array(DELAYINFBUF[sched], dtype = np.float32)\n",
    "    JITTERINFBUF[sched] = np.array(JITTERINFBUF[sched], dtype = np.float32)\n",
    "    PLRINFBUF[sched] = np.array(PLRINFBUF[sched], dtype = np.float32)\n",
    "    #GERAL\n",
    "    PACKETLOSS[sched] = np.array(PACKETLOSS[sched], dtype=np.float32)"
   ]
  },
  {
   "cell_type": "markdown",
   "metadata": {},
   "source": [
    "# VIDEO GPUT MB/s"
   ]
  },
  {
   "cell_type": "code",
   "execution_count": 66,
   "metadata": {
    "scrolled": true
   },
   "outputs": [
    {
     "data": {
      "text/plain": [
       "{1: array([0.69336444, 1.0879668 , 1.2017517 , 0.559424  , 0.5429315 ],\n",
       "       dtype=float32),\n",
       " 2: array([0.7165163, 1.1280826, 1.6393926, 1.7481456, 1.790314 ],\n",
       "       dtype=float32),\n",
       " 3: array([0.70709836, 1.1303812 , 1.5463605 , 1.7433527 , 1.3572485 ],\n",
       "       dtype=float32),\n",
       " 4: array([0.7145157, 1.1958411, 1.8965479, 2.362978 , 2.9997506],\n",
       "       dtype=float32),\n",
       " 5: array([0.7166117, 1.1927993, 1.8965648, 2.3494964, 2.783215 ],\n",
       "       dtype=float32),\n",
       " 6: array([0.70112056, 1.1251525 , 1.4740378 , 1.6379457 , 1.9479259 ],\n",
       "       dtype=float32)}"
      ]
     },
     "execution_count": 66,
     "metadata": {},
     "output_type": "execute_result"
    }
   ],
   "source": [
    "MEGAVIDEO = {1: [], 2: [], 3: [], 4: [], 5: [], 6: []}\n",
    "for sched in GPUTSVIDEO:\n",
    "    MEGAVIDEO[sched] = np.true_divide(GPUTSVIDEO[sched], 1e+6)\n",
    "MEGAVIDEO"
   ]
  },
  {
   "cell_type": "code",
   "execution_count": 67,
   "metadata": {
    "scrolled": true
   },
   "outputs": [
    {
     "data": {
      "image/png": "[encoded data removed]",
      "text/plain": [
       "<Figure size 432x288 with 1 Axes>"
      ]
     },
     "metadata": {
      "needs_background": "light"
     },
     "output_type": "display_data"
    }
   ],
   "source": [
    "dfGPUTVIDEO = pd.DataFrame({'PF': MEGAVIDEO[1], 'MLWDF': MEGAVIDEO[2], 'EXP': MEGAVIDEO[3],\n",
    "                       'FLS': MEGAVIDEO[4], 'EXPR': MEGAVIDEO[5], 'LOGR': MEGAVIDEO[6]},\n",
    "                      index=[10,20,30,40,50])\n",
    "plot = dfGPUTVIDEO.plot.bar(rot=0)\n",
    "fig = plot.get_figure()\n",
    "fig.savefig(\"./pdfs/GPUTVideo.pdf\", bbox_inches='tight')"
   ]
  },
  {
   "cell_type": "code",
   "execution_count": 68,
   "metadata": {
    "scrolled": false
   },
   "outputs": [
    {
     "data": {
      "text/html": [
       "<div>\n",
       "<style scoped>\n",
       "    .dataframe tbody tr th:only-of-type {\n",
       "        vertical-align: middle;\n",
       "    }\n",
       "\n",
       "    .dataframe tbody tr th {\n",
       "        vertical-align: top;\n",
       "    }\n",
       "\n",
       "    .dataframe thead th {\n",
       "        text-align: right;\n",
       "    }\n",
       "</style>\n",
       "<table border=\"1\" class=\"dataframe\">\n",
       "  <thead>\n",
       "    <tr style=\"text-align: right;\">\n",
       "      <th></th>\n",
       "      <th>PF</th>\n",
       "      <th>MLWDF</th>\n",
       "      <th>EXP</th>\n",
       "      <th>FLS</th>\n",
       "      <th>EXPR</th>\n",
       "      <th>LOGR</th>\n",
       "    </tr>\n",
       "  </thead>\n",
       "  <tbody>\n",
       "    <tr>\n",
       "      <th>10</th>\n",
       "      <td>0.693364</td>\n",
       "      <td>0.716516</td>\n",
       "      <td>0.707098</td>\n",
       "      <td>0.714516</td>\n",
       "      <td>0.716612</td>\n",
       "      <td>0.701121</td>\n",
       "    </tr>\n",
       "    <tr>\n",
       "      <th>20</th>\n",
       "      <td>1.087967</td>\n",
       "      <td>1.128083</td>\n",
       "      <td>1.130381</td>\n",
       "      <td>1.195841</td>\n",
       "      <td>1.192799</td>\n",
       "      <td>1.125152</td>\n",
       "    </tr>\n",
       "    <tr>\n",
       "      <th>30</th>\n",
       "      <td>1.201752</td>\n",
       "      <td>1.639393</td>\n",
       "      <td>1.546360</td>\n",
       "      <td>1.896548</td>\n",
       "      <td>1.896565</td>\n",
       "      <td>1.474038</td>\n",
       "    </tr>\n",
       "    <tr>\n",
       "      <th>40</th>\n",
       "      <td>0.559424</td>\n",
       "      <td>1.748146</td>\n",
       "      <td>1.743353</td>\n",
       "      <td>2.362978</td>\n",
       "      <td>2.349496</td>\n",
       "      <td>1.637946</td>\n",
       "    </tr>\n",
       "    <tr>\n",
       "      <th>50</th>\n",
       "      <td>0.542931</td>\n",
       "      <td>1.790314</td>\n",
       "      <td>1.357249</td>\n",
       "      <td>2.999751</td>\n",
       "      <td>2.783215</td>\n",
       "      <td>1.947926</td>\n",
       "    </tr>\n",
       "  </tbody>\n",
       "</table>\n",
       "</div>"
      ],
      "text/plain": [
       "          PF     MLWDF       EXP       FLS      EXPR      LOGR\n",
       "10  0.693364  0.716516  0.707098  0.714516  0.716612  0.701121\n",
       "20  1.087967  1.128083  1.130381  1.195841  1.192799  1.125152\n",
       "30  1.201752  1.639393  1.546360  1.896548  1.896565  1.474038\n",
       "40  0.559424  1.748146  1.743353  2.362978  2.349496  1.637946\n",
       "50  0.542931  1.790314  1.357249  2.999751  2.783215  1.947926"
      ]
     },
     "execution_count": 68,
     "metadata": {},
     "output_type": "execute_result"
    }
   ],
   "source": [
    "dfGPUTVIDEO"
   ]
  },
  {
   "cell_type": "markdown",
   "metadata": {},
   "source": [
    "# Delay Jitter"
   ]
  },
  {
   "cell_type": "code",
   "execution_count": 69,
   "metadata": {},
   "outputs": [
    {
     "data": {
      "image/png": "[encoded data removed]",
      "text/plain": [
       "<Figure size 432x288 with 1 Axes>"
      ]
     },
     "metadata": {
      "needs_background": "light"
     },
     "output_type": "display_data"
    }
   ],
   "source": [
    "dfDELAYVIDEO = pd.DataFrame({'PF': DELAYVIDEO[1], 'MLWDF': DELAYVIDEO[2], 'EXP': DELAYVIDEO[3],\n",
    "                            'FLS': DELAYVIDEO[4], 'EXPR': DELAYVIDEO[5], 'LOGR': DELAYVIDEO[6]},\n",
    "                           index=[10,20,30,40,50])\n",
    "plot = dfDELAYVIDEO.plot.bar(rot=0)\n",
    "fig = plot.get_figure()\n",
    "fig.savefig(\"./pdfs/DelayVideoPF.pdf\", bbox_inches='tight')"
   ]
  },
  {
   "cell_type": "code",
   "execution_count": 70,
   "metadata": {},
   "outputs": [
    {
     "data": {
      "image/png": "[encoded data removed]",
      "text/plain": [
       "<Figure size 432x288 with 1 Axes>"
      ]
     },
     "metadata": {
      "needs_background": "light"
     },
     "output_type": "display_data"
    }
   ],
   "source": [
    "dfDELAYVIDEO = pd.DataFrame({'MLWDF': DELAYVIDEO[2], 'EXP': DELAYVIDEO[3],\n",
    "                            'FLS': DELAYVIDEO[4], 'EXPR': DELAYVIDEO[5], 'LOGR': DELAYVIDEO[6]},\n",
    "                           index=[10,20,30,40,50])\n",
    "plot = dfDELAYVIDEO.plot.bar(rot=0)\n",
    "fig = plot.get_figure()\n",
    "fig.savefig(\"./pdfs/DelayVideo.pdf\", bbox_inches='tight')"
   ]
  },
  {
   "cell_type": "code",
   "execution_count": 71,
   "metadata": {},
   "outputs": [
    {
     "data": {
      "image/png": "[encoded data removed]",
      "text/plain": [
       "<Figure size 432x288 with 1 Axes>"
      ]
     },
     "metadata": {
      "needs_background": "light"
     },
     "output_type": "display_data"
    }
   ],
   "source": [
    "dfJITTERVIDEO = pd.DataFrame({'PF': JITTERVIDEO[1], 'MLWDF': JITTERVIDEO[2], 'EXP': JITTERVIDEO[3],\n",
    "                            'FLS': JITTERVIDEO[4], 'EXPR': JITTERVIDEO[5], 'LOGR': JITTERVIDEO[6]},\n",
    "                           index=[10,20,30,40,50])\n",
    "plot = dfJITTERVIDEO.plot.bar(rot=0)\n",
    "fig = plot.get_figure()\n",
    "fig.savefig(\"./pdfs/JitterVideoPF.pdf\", bbox_inches='tight')"
   ]
  },
  {
   "cell_type": "code",
   "execution_count": 72,
   "metadata": {
    "scrolled": true
   },
   "outputs": [
    {
     "data": {
      "image/png": "[encoded data removed]",
      "text/plain": [
       "<Figure size 432x288 with 1 Axes>"
      ]
     },
     "metadata": {
      "needs_background": "light"
     },
     "output_type": "display_data"
    }
   ],
   "source": [
    "dfJITTERVIDEO = pd.DataFrame({'MLWDF': JITTERVIDEO[2], 'EXP': JITTERVIDEO[3],\n",
    "                            'FLS': JITTERVIDEO[4], 'EXPR': JITTERVIDEO[5], 'LOGR': JITTERVIDEO[6]},\n",
    "                           index=[10,20,30,40,50])\n",
    "plot = dfJITTERVIDEO.plot.bar(rot=0)\n",
    "fig = plot.get_figure()\n",
    "fig.savefig(\"./pdfs/JitterVideo.pdf\", bbox_inches='tight')"
   ]
  },
  {
   "cell_type": "markdown",
   "metadata": {},
   "source": [
    "# VIDEO FAIRNESS"
   ]
  },
  {
   "cell_type": "code",
   "execution_count": 73,
   "metadata": {
    "scrolled": true
   },
   "outputs": [
    {
     "data": {
      "image/png": "[encoded data removed]",
      "text/plain": [
       "<Figure size 432x288 with 1 Axes>"
      ]
     },
     "metadata": {
      "needs_background": "light"
     },
     "output_type": "display_data"
    }
   ],
   "source": [
    "dfFAIRVIDEO = pd.DataFrame({'PF': FAIRVIDEO[1], 'MLWDF': FAIRVIDEO[2], 'EXP': FAIRVIDEO[3],\n",
    "                            'FLS': FAIRVIDEO[4], 'EXPR': FAIRVIDEO[5], 'LOGR': FAIRVIDEO[6]},\n",
    "                           index=[10,20,30,40,50])\n",
    "plot = dfFAIRVIDEO.plot.bar(rot=0)\n",
    "fig = plot.get_figure()\n",
    "fig.savefig(\"./pdfs/FairnessVideo.pdf\", bbox_inches='tight')"
   ]
  },
  {
   "cell_type": "code",
   "execution_count": 74,
   "metadata": {
    "scrolled": true
   },
   "outputs": [
    {
     "data": {
      "text/html": [
       "<div>\n",
       "<style scoped>\n",
       "    .dataframe tbody tr th:only-of-type {\n",
       "        vertical-align: middle;\n",
       "    }\n",
       "\n",
       "    .dataframe tbody tr th {\n",
       "        vertical-align: top;\n",
       "    }\n",
       "\n",
       "    .dataframe thead th {\n",
       "        text-align: right;\n",
       "    }\n",
       "</style>\n",
       "<table border=\"1\" class=\"dataframe\">\n",
       "  <thead>\n",
       "    <tr style=\"text-align: right;\">\n",
       "      <th></th>\n",
       "      <th>PF</th>\n",
       "      <th>MLWDF</th>\n",
       "      <th>EXP</th>\n",
       "      <th>FLS</th>\n",
       "      <th>EXPR</th>\n",
       "      <th>LOGR</th>\n",
       "    </tr>\n",
       "  </thead>\n",
       "  <tbody>\n",
       "    <tr>\n",
       "      <th>10</th>\n",
       "      <td>0.722045</td>\n",
       "      <td>0.722710</td>\n",
       "      <td>0.723118</td>\n",
       "      <td>0.723405</td>\n",
       "      <td>0.723560</td>\n",
       "      <td>0.722009</td>\n",
       "    </tr>\n",
       "    <tr>\n",
       "      <th>20</th>\n",
       "      <td>0.718387</td>\n",
       "      <td>0.718063</td>\n",
       "      <td>0.717662</td>\n",
       "      <td>0.723604</td>\n",
       "      <td>0.723356</td>\n",
       "      <td>0.718593</td>\n",
       "    </tr>\n",
       "    <tr>\n",
       "      <th>30</th>\n",
       "      <td>0.707815</td>\n",
       "      <td>0.708310</td>\n",
       "      <td>0.704368</td>\n",
       "      <td>0.722597</td>\n",
       "      <td>0.722609</td>\n",
       "      <td>0.698411</td>\n",
       "    </tr>\n",
       "    <tr>\n",
       "      <th>40</th>\n",
       "      <td>0.657066</td>\n",
       "      <td>0.693309</td>\n",
       "      <td>0.693244</td>\n",
       "      <td>0.722603</td>\n",
       "      <td>0.721623</td>\n",
       "      <td>0.687079</td>\n",
       "    </tr>\n",
       "    <tr>\n",
       "      <th>50</th>\n",
       "      <td>0.634508</td>\n",
       "      <td>0.668518</td>\n",
       "      <td>0.638831</td>\n",
       "      <td>0.720000</td>\n",
       "      <td>0.713793</td>\n",
       "      <td>0.678021</td>\n",
       "    </tr>\n",
       "  </tbody>\n",
       "</table>\n",
       "</div>"
      ],
      "text/plain": [
       "          PF     MLWDF       EXP       FLS      EXPR      LOGR\n",
       "10  0.722045  0.722710  0.723118  0.723405  0.723560  0.722009\n",
       "20  0.718387  0.718063  0.717662  0.723604  0.723356  0.718593\n",
       "30  0.707815  0.708310  0.704368  0.722597  0.722609  0.698411\n",
       "40  0.657066  0.693309  0.693244  0.722603  0.721623  0.687079\n",
       "50  0.634508  0.668518  0.638831  0.720000  0.713793  0.678021"
      ]
     },
     "execution_count": 74,
     "metadata": {},
     "output_type": "execute_result"
    }
   ],
   "source": [
    "dfFAIRVIDEO"
   ]
  },
  {
   "cell_type": "markdown",
   "metadata": {},
   "source": [
    "# VIDEO PLR"
   ]
  },
  {
   "cell_type": "code",
   "execution_count": 75,
   "metadata": {},
   "outputs": [
    {
     "data": {
      "image/png": "[encoded data removed]",
      "text/plain": [
       "<Figure size 432x288 with 1 Axes>"
      ]
     },
     "metadata": {
      "needs_background": "light"
     },
     "output_type": "display_data"
    }
   ],
   "source": [
    "dfPLRVIDEO = pd.DataFrame({'PF': PLRVIDEO[1], 'MLWDF': PLRVIDEO[2], 'EXP': PLRVIDEO[3],\n",
    "                            'FLS': PLRVIDEO[4], 'EXPR': PLRVIDEO[5], 'LOGR': PLRVIDEO[6]},\n",
    "                           index=[10,20,30,40,50])\n",
    "plot = dfPLRVIDEO.plot.bar(rot=0)\n",
    "fig = plot.get_figure()\n",
    "fig.savefig(\"./pdfs/PacketLossVideo.pdf\", bbox_inches='tight')"
   ]
  },
  {
   "cell_type": "markdown",
   "metadata": {},
   "source": [
    "# VOIP GPUT MB/s"
   ]
  },
  {
   "cell_type": "code",
   "execution_count": 76,
   "metadata": {
    "scrolled": true
   },
   "outputs": [
    {
     "data": {
      "text/plain": [
       "{1: array([ 1930.7733,  4610.3467,  6093.6533,  9258.134 , 11456.32  ],\n",
       "       dtype=float32),\n",
       " 2: array([ 1846.9333,  4504.    ,  6338.1333,  9487.253 , 10872.32  ],\n",
       "       dtype=float32),\n",
       " 3: array([ 2039.4667,  4734.507 ,  6243.2   ,  9280.213 , 11638.934 ],\n",
       "       dtype=float32),\n",
       " 4: array([ 1961.8134,  4700.053 ,  6548.16  ,  9276.267 , 10970.56  ],\n",
       "       dtype=float32),\n",
       " 5: array([ 1969.4933,  4695.573 ,  6642.6665,  9498.453 , 10821.653 ],\n",
       "       dtype=float32),\n",
       " 6: array([ 1788.48  ,  4509.8667,  6537.493 ,  9410.24  , 10896.32  ],\n",
       "       dtype=float32)}"
      ]
     },
     "execution_count": 76,
     "metadata": {},
     "output_type": "execute_result"
    }
   ],
   "source": [
    "MEGAVOIP = {1: [], 2: [], 3: [], 4: [], 5: [], 6: []}\n",
    "for sched in GPUTSVOICE:\n",
    "    MEGAVOIP[sched] = np.true_divide(GPUTSVOICE[sched], 8)\n",
    "MEGAVOIP"
   ]
  },
  {
   "cell_type": "code",
   "execution_count": 79,
   "metadata": {
    "scrolled": true
   },
   "outputs": [
    {
     "data": {
      "image/png": "[encoded data removed]",
      "text/plain": [
       "<Figure size 432x288 with 1 Axes>"
      ]
     },
     "metadata": {
      "needs_background": "light"
     },
     "output_type": "display_data"
    }
   ],
   "source": [
    "dfGPUTVOICE = pd.DataFrame({'PF': MEGAVOIP[1], 'MLWDF': MEGAVOIP[2], 'EXP': MEGAVOIP[3],\n",
    "                       'FLS': MEGAVOIP[4], 'EXPR': MEGAVOIP[5], 'LOGR': MEGAVOIP[6]},\n",
    "                      index=[10,20,30,40,50])\n",
    "plot = dfGPUTVOICE.plot.bar(rot=0)\n",
    "fig = plot.get_figure()\n",
    "fig.savefig(\"./pdfs/GPUTVoIP.pdf\", bbox_inches='tight')"
   ]
  },
  {
   "cell_type": "code",
   "execution_count": 80,
   "metadata": {
    "scrolled": true
   },
   "outputs": [
    {
     "data": {
      "text/html": [
       "<div>\n",
       "<style scoped>\n",
       "    .dataframe tbody tr th:only-of-type {\n",
       "        vertical-align: middle;\n",
       "    }\n",
       "\n",
       "    .dataframe tbody tr th {\n",
       "        vertical-align: top;\n",
       "    }\n",
       "\n",
       "    .dataframe thead th {\n",
       "        text-align: right;\n",
       "    }\n",
       "</style>\n",
       "<table border=\"1\" class=\"dataframe\">\n",
       "  <thead>\n",
       "    <tr style=\"text-align: right;\">\n",
       "      <th></th>\n",
       "      <th>PF</th>\n",
       "      <th>MLWDF</th>\n",
       "      <th>EXP</th>\n",
       "      <th>FLS</th>\n",
       "      <th>EXPR</th>\n",
       "      <th>LOGR</th>\n",
       "    </tr>\n",
       "  </thead>\n",
       "  <tbody>\n",
       "    <tr>\n",
       "      <th>10</th>\n",
       "      <td>1930.773315</td>\n",
       "      <td>1846.933350</td>\n",
       "      <td>2039.466675</td>\n",
       "      <td>1961.813354</td>\n",
       "      <td>1969.493286</td>\n",
       "      <td>1788.479980</td>\n",
       "    </tr>\n",
       "    <tr>\n",
       "      <th>20</th>\n",
       "      <td>4610.346680</td>\n",
       "      <td>4504.000000</td>\n",
       "      <td>4734.506836</td>\n",
       "      <td>4700.053223</td>\n",
       "      <td>4695.573242</td>\n",
       "      <td>4509.866699</td>\n",
       "    </tr>\n",
       "    <tr>\n",
       "      <th>30</th>\n",
       "      <td>6093.653320</td>\n",
       "      <td>6338.133301</td>\n",
       "      <td>6243.200195</td>\n",
       "      <td>6548.160156</td>\n",
       "      <td>6642.666504</td>\n",
       "      <td>6537.493164</td>\n",
       "    </tr>\n",
       "    <tr>\n",
       "      <th>40</th>\n",
       "      <td>9258.133789</td>\n",
       "      <td>9487.252930</td>\n",
       "      <td>9280.212891</td>\n",
       "      <td>9276.266602</td>\n",
       "      <td>9498.453125</td>\n",
       "      <td>9410.240234</td>\n",
       "    </tr>\n",
       "    <tr>\n",
       "      <th>50</th>\n",
       "      <td>11456.320312</td>\n",
       "      <td>10872.320312</td>\n",
       "      <td>11638.933594</td>\n",
       "      <td>10970.559570</td>\n",
       "      <td>10821.653320</td>\n",
       "      <td>10896.320312</td>\n",
       "    </tr>\n",
       "  </tbody>\n",
       "</table>\n",
       "</div>"
      ],
      "text/plain": [
       "              PF         MLWDF           EXP           FLS          EXPR  \\\n",
       "10   1930.773315   1846.933350   2039.466675   1961.813354   1969.493286   \n",
       "20   4610.346680   4504.000000   4734.506836   4700.053223   4695.573242   \n",
       "30   6093.653320   6338.133301   6243.200195   6548.160156   6642.666504   \n",
       "40   9258.133789   9487.252930   9280.212891   9276.266602   9498.453125   \n",
       "50  11456.320312  10872.320312  11638.933594  10970.559570  10821.653320   \n",
       "\n",
       "            LOGR  \n",
       "10   1788.479980  \n",
       "20   4509.866699  \n",
       "30   6537.493164  \n",
       "40   9410.240234  \n",
       "50  10896.320312  "
      ]
     },
     "execution_count": 80,
     "metadata": {},
     "output_type": "execute_result"
    }
   ],
   "source": [
    "dfGPUTVOICE"
   ]
  },
  {
   "cell_type": "markdown",
   "metadata": {},
   "source": [
    "# Delay Jitter"
   ]
  },
  {
   "cell_type": "code",
   "execution_count": 82,
   "metadata": {},
   "outputs": [
    {
     "data": {
      "image/png": "[encoded data removed]",
      "text/plain": [
       "<Figure size 432x288 with 1 Axes>"
      ]
     },
     "metadata": {
      "needs_background": "light"
     },
     "output_type": "display_data"
    }
   ],
   "source": [
    "dfDELAYVOICE = pd.DataFrame({'PF': DELAYVOICE[1], 'MLWDF': DELAYVOICE[2], 'EXP': DELAYVOICE[3],\n",
    "                            'FLS': DELAYVOICE[4], 'EXPR': DELAYVOICE[5], 'LOGR': DELAYVOICE[6]},\n",
    "                           index=[10,20,30,40,50])\n",
    "plot = dfDELAYVOICE.plot.bar(rot=0)\n",
    "fig = plot.get_figure()\n",
    "fig.savefig(\"./pdfs/DelayVoIPPF.pdf\", bbox_inches='tight')"
   ]
  },
  {
   "cell_type": "code",
   "execution_count": 83,
   "metadata": {},
   "outputs": [
    {
     "data": {
      "image/png": "[encoded data removed]",
      "text/plain": [
       "<Figure size 432x288 with 1 Axes>"
      ]
     },
     "metadata": {
      "needs_background": "light"
     },
     "output_type": "display_data"
    }
   ],
   "source": [
    "dfDELAYVOICE = pd.DataFrame({'MLWDF': DELAYVOICE[2], 'EXP': DELAYVOICE[3],\n",
    "                            'FLS': DELAYVOICE[4], 'EXPR': DELAYVOICE[5], 'LOGR': DELAYVOICE[6]},\n",
    "                           index=[10,20,30,40,50])\n",
    "plot = dfDELAYVOICE.plot.bar(rot=0)\n",
    "fig = plot.get_figure()\n",
    "fig.savefig(\"./pdfs/DelayVoIP.pdf\", bbox_inches='tight')"
   ]
  },
  {
   "cell_type": "code",
   "execution_count": 84,
   "metadata": {},
   "outputs": [
    {
     "data": {
      "image/png": "[encoded data removed]",
      "text/plain": [
       "<Figure size 432x288 with 1 Axes>"
      ]
     },
     "metadata": {
      "needs_background": "light"
     },
     "output_type": "display_data"
    }
   ],
   "source": [
    "dfJITTERVOICE = pd.DataFrame({'PF': JITTERVOICE[1], 'MLWDF': JITTERVOICE[2], 'EXP': JITTERVOICE[3],\n",
    "                            'FLS': JITTERVOICE[4], 'EXPR': JITTERVOICE[5], 'LOGR': JITTERVOICE[6]},\n",
    "                           index=[10,20,30,40,50])\n",
    "plot = dfJITTERVOICE.plot.bar(rot=0)\n",
    "fig = plot.get_figure()\n",
    "fig.savefig(\"./pdfs/JitterVoIPPF.pdf\", bbox_inches='tight')"
   ]
  },
  {
   "cell_type": "code",
   "execution_count": 85,
   "metadata": {
    "scrolled": false
   },
   "outputs": [
    {
     "data": {
      "image/png": "[encoded data removed]",
      "text/plain": [
       "<Figure size 432x288 with 1 Axes>"
      ]
     },
     "metadata": {
      "needs_background": "light"
     },
     "output_type": "display_data"
    }
   ],
   "source": [
    "dfJITTERVOICE = pd.DataFrame({'MLWDF': JITTERVOICE[2], 'EXP': JITTERVOICE[3],\n",
    "                            'FLS': JITTERVOICE[4], 'EXPR': JITTERVOICE[5], 'LOGR': JITTERVOICE[6]},\n",
    "                           index=[10,20,30,40,50])\n",
    "plot = dfJITTERVOICE.plot.bar(rot=0)\n",
    "fig = plot.get_figure()\n",
    "fig.savefig(\"./pdfs/JitterVoIP.pdf\", bbox_inches='tight')"
   ]
  },
  {
   "cell_type": "markdown",
   "metadata": {},
   "source": [
    "# VOICE PLR"
   ]
  },
  {
   "cell_type": "code",
   "execution_count": 87,
   "metadata": {
    "scrolled": true
   },
   "outputs": [
    {
     "data": {
      "image/png": "[encoded data removed]",
      "text/plain": [
       "<Figure size 432x288 with 1 Axes>"
      ]
     },
     "metadata": {
      "needs_background": "light"
     },
     "output_type": "display_data"
    }
   ],
   "source": [
    "dfPLRVOICE = pd.DataFrame({'PF': PLRVOICE[1], 'MLWDF': PLRVOICE[2], 'EXP': PLRVOICE[3],\n",
    "                            'FLS': PLRVOICE[4], 'EXPR': PLRVOICE[5], 'LOGR': PLRVOICE[6]},\n",
    "                           index=[10,20,30,40,50])\n",
    "plot = dfPLRVOICE.plot.bar(rot=0)\n",
    "fig = plot.get_figure()\n",
    "fig.savefig(\"./pdfs/PacketLossVoice.pdf\", bbox_inches='tight')"
   ]
  },
  {
   "cell_type": "markdown",
   "metadata": {},
   "source": [
    "# INF BUF"
   ]
  },
  {
   "cell_type": "code",
   "execution_count": 88,
   "metadata": {
    "scrolled": true
   },
   "outputs": [
    {
     "data": {
      "text/plain": [
       "{1: array([426187.75, 424795.06, 323376.3 , 309692.03, 352379.44],\n",
       "       dtype=float32),\n",
       " 2: array([489233.16, 482681.94, 374542.47, 346799.28, 316349.66],\n",
       "       dtype=float32),\n",
       " 3: array([472366.  , 394172.8 , 367171.53, 334899.8 , 346433.9 ],\n",
       "       dtype=float32),\n",
       " 4: array([450093.47 , 358375.2  , 223929.28 , 153970.61 ,  63198.715],\n",
       "       dtype=float32),\n",
       " 5: array([490318.44, 437218.7 , 260415.67, 231419.77, 186112.39],\n",
       "       dtype=float32),\n",
       " 6: array([438700.78, 414054.2 , 335244.94, 324960.66, 332900.78],\n",
       "       dtype=float32)}"
      ]
     },
     "execution_count": 88,
     "metadata": {},
     "output_type": "execute_result"
    }
   ],
   "source": [
    "MEGAINFBUF = {1: [], 2: [], 3: [], 4: [], 5: [], 6: []}\n",
    "for sched in GPUTSINFBUF:\n",
    "    MEGAINFBUF[sched] = np.true_divide(GPUTSINFBUF[sched], 8)\n",
    "MEGAINFBUF"
   ]
  },
  {
   "cell_type": "code",
   "execution_count": 89,
   "metadata": {
    "scrolled": true
   },
   "outputs": [
    {
     "data": {
      "image/png": "[encoded data removed]",
      "text/plain": [
       "<Figure size 432x288 with 1 Axes>"
      ]
     },
     "metadata": {
      "needs_background": "light"
     },
     "output_type": "display_data"
    }
   ],
   "source": [
    "dfGPUTINFBUF = pd.DataFrame({'PF': MEGAINFBUF[1], 'MLWDF': MEGAINFBUF[2], 'EXP': MEGAINFBUF[3],\n",
    "                       'FLS': MEGAINFBUF[4], 'EXPR': MEGAINFBUF[5], 'LOGR': MEGAINFBUF[6]},\n",
    "                      index=[10,20,30,40,50])\n",
    "plot = dfGPUTINFBUF.plot.bar(rot=0)\n",
    "fig = plot.get_figure()\n",
    "fig.savefig(\"./pdfs/GPUTInfBuf.pdf\", bbox_inches='tight')"
   ]
  },
  {
   "cell_type": "code",
   "execution_count": 90,
   "metadata": {
    "scrolled": true
   },
   "outputs": [
    {
     "data": {
      "text/html": [
       "<div>\n",
       "<style scoped>\n",
       "    .dataframe tbody tr th:only-of-type {\n",
       "        vertical-align: middle;\n",
       "    }\n",
       "\n",
       "    .dataframe tbody tr th {\n",
       "        vertical-align: top;\n",
       "    }\n",
       "\n",
       "    .dataframe thead th {\n",
       "        text-align: right;\n",
       "    }\n",
       "</style>\n",
       "<table border=\"1\" class=\"dataframe\">\n",
       "  <thead>\n",
       "    <tr style=\"text-align: right;\">\n",
       "      <th></th>\n",
       "      <th>PF</th>\n",
       "      <th>MLWDF</th>\n",
       "      <th>EXP</th>\n",
       "      <th>FLS</th>\n",
       "      <th>EXPR</th>\n",
       "      <th>LOGR</th>\n",
       "    </tr>\n",
       "  </thead>\n",
       "  <tbody>\n",
       "    <tr>\n",
       "      <th>10</th>\n",
       "      <td>426187.75000</td>\n",
       "      <td>489233.15625</td>\n",
       "      <td>472366.00000</td>\n",
       "      <td>450093.468750</td>\n",
       "      <td>490318.437500</td>\n",
       "      <td>438700.78125</td>\n",
       "    </tr>\n",
       "    <tr>\n",
       "      <th>20</th>\n",
       "      <td>424795.06250</td>\n",
       "      <td>482681.93750</td>\n",
       "      <td>394172.81250</td>\n",
       "      <td>358375.187500</td>\n",
       "      <td>437218.687500</td>\n",
       "      <td>414054.18750</td>\n",
       "    </tr>\n",
       "    <tr>\n",
       "      <th>30</th>\n",
       "      <td>323376.31250</td>\n",
       "      <td>374542.46875</td>\n",
       "      <td>367171.53125</td>\n",
       "      <td>223929.281250</td>\n",
       "      <td>260415.671875</td>\n",
       "      <td>335244.93750</td>\n",
       "    </tr>\n",
       "    <tr>\n",
       "      <th>40</th>\n",
       "      <td>309692.03125</td>\n",
       "      <td>346799.28125</td>\n",
       "      <td>334899.81250</td>\n",
       "      <td>153970.609375</td>\n",
       "      <td>231419.765625</td>\n",
       "      <td>324960.65625</td>\n",
       "    </tr>\n",
       "    <tr>\n",
       "      <th>50</th>\n",
       "      <td>352379.43750</td>\n",
       "      <td>316349.65625</td>\n",
       "      <td>346433.90625</td>\n",
       "      <td>63198.714844</td>\n",
       "      <td>186112.390625</td>\n",
       "      <td>332900.78125</td>\n",
       "    </tr>\n",
       "  </tbody>\n",
       "</table>\n",
       "</div>"
      ],
      "text/plain": [
       "              PF         MLWDF           EXP            FLS           EXPR  \\\n",
       "10  426187.75000  489233.15625  472366.00000  450093.468750  490318.437500   \n",
       "20  424795.06250  482681.93750  394172.81250  358375.187500  437218.687500   \n",
       "30  323376.31250  374542.46875  367171.53125  223929.281250  260415.671875   \n",
       "40  309692.03125  346799.28125  334899.81250  153970.609375  231419.765625   \n",
       "50  352379.43750  316349.65625  346433.90625   63198.714844  186112.390625   \n",
       "\n",
       "            LOGR  \n",
       "10  438700.78125  \n",
       "20  414054.18750  \n",
       "30  335244.93750  \n",
       "40  324960.65625  \n",
       "50  332900.78125  "
      ]
     },
     "execution_count": 90,
     "metadata": {},
     "output_type": "execute_result"
    }
   ],
   "source": [
    "dfGPUTINFBUF"
   ]
  },
  {
   "cell_type": "markdown",
   "metadata": {},
   "source": [
    "# Delay Jitter"
   ]
  },
  {
   "cell_type": "code",
   "execution_count": 91,
   "metadata": {},
   "outputs": [
    {
     "data": {
      "image/png": "[encoded data removed]",
      "text/plain": [
       "<Figure size 432x288 with 1 Axes>"
      ]
     },
     "metadata": {
      "needs_background": "light"
     },
     "output_type": "display_data"
    }
   ],
   "source": [
    "dfDELAYINFBUF = pd.DataFrame({'PF': DELAYINFBUF[1], 'MLWDF': DELAYINFBUF[2], 'EXP': DELAYINFBUF[3],\n",
    "                            'FLS': DELAYINFBUF[4], 'EXPR': DELAYINFBUF[5], 'LOGR': DELAYINFBUF[6]},\n",
    "                           index=[10,20,30,40,50])\n",
    "plot = dfDELAYINFBUF.plot.bar(rot=0)\n",
    "fig = plot.get_figure()\n",
    "fig.savefig(\"./pdfs/DelayINFBUFPF.pdf\", bbox_inches='tight')"
   ]
  },
  {
   "cell_type": "code",
   "execution_count": 92,
   "metadata": {},
   "outputs": [
    {
     "data": {
      "image/png": "[encoded data removed]",
      "text/plain": [
       "<Figure size 432x288 with 1 Axes>"
      ]
     },
     "metadata": {
      "needs_background": "light"
     },
     "output_type": "display_data"
    }
   ],
   "source": [
    "dfDELAYINFBUF = pd.DataFrame({'MLWDF': DELAYINFBUF[2], 'EXP': DELAYINFBUF[3],\n",
    "                            'FLS': DELAYINFBUF[4], 'EXPR': DELAYINFBUF[5], 'LOGR': DELAYINFBUF[6]},\n",
    "                           index=[10,20,30,40,50])\n",
    "plot = dfDELAYINFBUF.plot.bar(rot=0)\n",
    "fig = plot.get_figure()\n",
    "fig.savefig(\"./pdfs/DelayInfBuf.pdf\", bbox_inches='tight')"
   ]
  },
  {
   "cell_type": "code",
   "execution_count": 93,
   "metadata": {},
   "outputs": [
    {
     "data": {
      "image/png": "[encoded data removed]",
      "text/plain": [
       "<Figure size 432x288 with 1 Axes>"
      ]
     },
     "metadata": {
      "needs_background": "light"
     },
     "output_type": "display_data"
    }
   ],
   "source": [
    "dfJITTERINFBUF = pd.DataFrame({'PF': JITTERINFBUF[1], 'MLWDF': JITTERINFBUF[2], 'EXP': JITTERINFBUF[3],\n",
    "                            'FLS': JITTERINFBUF[4], 'EXPR': JITTERINFBUF[5], 'LOGR': JITTERINFBUF[6]},\n",
    "                           index=[10,20,30,40,50])\n",
    "plot = dfJITTERINFBUF.plot.bar(rot=0)\n",
    "fig = plot.get_figure()\n",
    "fig.savefig(\"./pdfs/JitterInfBufPF.pdf\", bbox_inches='tight')"
   ]
  },
  {
   "cell_type": "code",
   "execution_count": 94,
   "metadata": {
    "scrolled": false
   },
   "outputs": [
    {
     "data": {
      "image/png": "[encoded data removed]",
      "text/plain": [
       "<Figure size 432x288 with 1 Axes>"
      ]
     },
     "metadata": {
      "needs_background": "light"
     },
     "output_type": "display_data"
    }
   ],
   "source": [
    "dfJITTERINFBUF = pd.DataFrame({'MLWDF': JITTERINFBUF[2], 'EXP': JITTERINFBUF[3],\n",
    "                            'FLS': JITTERINFBUF[4], 'EXPR': JITTERINFBUF[5], 'LOGR': JITTERINFBUF[6]},\n",
    "                           index=[10,20,30,40,50])\n",
    "plot = dfJITTERINFBUF.plot.bar(rot=0)\n",
    "fig = plot.get_figure()\n",
    "fig.savefig(\"./pdfs/JitterInfBuf.pdf\", bbox_inches='tight')"
   ]
  },
  {
   "cell_type": "markdown",
   "metadata": {},
   "source": [
    "# VOICE PLR"
   ]
  },
  {
   "cell_type": "code",
   "execution_count": 95,
   "metadata": {
    "scrolled": true
   },
   "outputs": [
    {
     "data": {
      "image/png": "[encoded data removed]",
      "text/plain": [
       "<Figure size 432x288 with 1 Axes>"
      ]
     },
     "metadata": {
      "needs_background": "light"
     },
     "output_type": "display_data"
    }
   ],
   "source": [
    "dfPLRINFBUF = pd.DataFrame({'PF': PLRINFBUF[1], 'MLWDF': PLRINFBUF[2], 'EXP': PLRINFBUF[3],\n",
    "                            'FLS': PLRINFBUF[4], 'EXPR': PLRINFBUF[5], 'LOGR': PLRINFBUF[6]},\n",
    "                           index=[10,20,30,40,50])\n",
    "plot = dfPLRINFBUF.plot.bar(rot=0)\n",
    "fig = plot.get_figure()\n",
    "fig.savefig(\"./pdfs/PacketLossInfBuf.pdf\", bbox_inches='tight')"
   ]
  },
  {
   "cell_type": "markdown",
   "metadata": {},
   "source": [
    "# Loss Ratio"
   ]
  },
  {
   "cell_type": "code",
   "execution_count": 97,
   "metadata": {},
   "outputs": [],
   "source": [
    "averagePacketLoss = {}\n",
    "for key in PACKETLOSS:\n",
    "    averagePacketLoss[key] = []\n",
    "    for i in range(0, 5):\n",
    "        average = sum(PACKETLOSS[key][i])/len(PACKETLOSS[key][i])         \n",
    "        averagePacketLoss[key].append(average)"
   ]
  },
  {
   "cell_type": "code",
   "execution_count": 98,
   "metadata": {
    "scrolled": true
   },
   "outputs": [
    {
     "data": {
      "image/png": "[encoded data removed]",
      "text/plain": [
       "<Figure size 432x288 with 1 Axes>"
      ]
     },
     "metadata": {
      "needs_background": "light"
     },
     "output_type": "display_data"
    }
   ],
   "source": [
    "dfLossRatio = pd.DataFrame({'PF': averagePacketLoss[1], 'MLWDF': averagePacketLoss[2], 'EXP': averagePacketLoss[3],\n",
    "                            'FLS': averagePacketLoss[4], 'EXPR': averagePacketLoss[5], 'LOGR': averagePacketLoss[6]},\n",
    "                           index=[10,20,30,40,50])\n",
    "plot = dfLossRatio.plot.bar(rot=0)\n",
    "fig = plot.get_figure()\n",
    "fig.savefig(\"./pdfs/PacketLossRatio.pdf\", bbox_inches='tight')"
   ]
  },
  {
   "cell_type": "code",
   "execution_count": 99,
   "metadata": {
    "scrolled": false
   },
   "outputs": [
    {
     "data": {
      "text/html": [
       "<div>\n",
       "<style scoped>\n",
       "    .dataframe tbody tr th:only-of-type {\n",
       "        vertical-align: middle;\n",
       "    }\n",
       "\n",
       "    .dataframe tbody tr th {\n",
       "        vertical-align: top;\n",
       "    }\n",
       "\n",
       "    .dataframe thead th {\n",
       "        text-align: right;\n",
       "    }\n",
       "</style>\n",
       "<table border=\"1\" class=\"dataframe\">\n",
       "  <thead>\n",
       "    <tr style=\"text-align: right;\">\n",
       "      <th></th>\n",
       "      <th>PF</th>\n",
       "      <th>MLWDF</th>\n",
       "      <th>EXP</th>\n",
       "      <th>FLS</th>\n",
       "      <th>EXPR</th>\n",
       "      <th>LOGR</th>\n",
       "    </tr>\n",
       "  </thead>\n",
       "  <tbody>\n",
       "    <tr>\n",
       "      <th>10</th>\n",
       "      <td>3.401755</td>\n",
       "      <td>3.465803</td>\n",
       "      <td>3.557200</td>\n",
       "      <td>3.317072</td>\n",
       "      <td>2.993086</td>\n",
       "      <td>3.377374</td>\n",
       "    </tr>\n",
       "    <tr>\n",
       "      <th>20</th>\n",
       "      <td>3.094615</td>\n",
       "      <td>2.705625</td>\n",
       "      <td>2.761834</td>\n",
       "      <td>2.376838</td>\n",
       "      <td>2.354234</td>\n",
       "      <td>2.906216</td>\n",
       "    </tr>\n",
       "    <tr>\n",
       "      <th>30</th>\n",
       "      <td>5.044056</td>\n",
       "      <td>3.028593</td>\n",
       "      <td>3.278389</td>\n",
       "      <td>2.242879</td>\n",
       "      <td>2.148300</td>\n",
       "      <td>3.605535</td>\n",
       "    </tr>\n",
       "    <tr>\n",
       "      <th>40</th>\n",
       "      <td>9.640869</td>\n",
       "      <td>3.938743</td>\n",
       "      <td>3.952291</td>\n",
       "      <td>2.094489</td>\n",
       "      <td>2.024884</td>\n",
       "      <td>4.266047</td>\n",
       "    </tr>\n",
       "    <tr>\n",
       "      <th>50</th>\n",
       "      <td>12.605112</td>\n",
       "      <td>6.001576</td>\n",
       "      <td>7.440043</td>\n",
       "      <td>7.535138</td>\n",
       "      <td>2.762083</td>\n",
       "      <td>5.372488</td>\n",
       "    </tr>\n",
       "  </tbody>\n",
       "</table>\n",
       "</div>"
      ],
      "text/plain": [
       "           PF     MLWDF       EXP       FLS      EXPR      LOGR\n",
       "10   3.401755  3.465803  3.557200  3.317072  2.993086  3.377374\n",
       "20   3.094615  2.705625  2.761834  2.376838  2.354234  2.906216\n",
       "30   5.044056  3.028593  3.278389  2.242879  2.148300  3.605535\n",
       "40   9.640869  3.938743  3.952291  2.094489  2.024884  4.266047\n",
       "50  12.605112  6.001576  7.440043  7.535138  2.762083  5.372488"
      ]
     },
     "execution_count": 99,
     "metadata": {},
     "output_type": "execute_result"
    }
   ],
   "source": [
    "dfLossRatio"
   ]
  },
  {
   "cell_type": "markdown",
   "metadata": {},
   "source": [
    "# 120 KM/H"
   ]
  },
  {
   "cell_type": "code",
   "execution_count": null,
   "metadata": {
    "scrolled": false
   },
   "outputs": [],
   "source": [
    "GPUTSVIDEO120 = {1: [], 2: [], 3: [], 4: [], 5: [], 6: []}\n",
    "FAIRVIDEO120 = {1: [], 2: [], 3: [], 4: [], 5: [], 6: []}\n",
    "DELAYVIDEO120 = {1: [], 2: [], 3: [], 4: [], 5: [], 6: []}\n",
    "JITTERVIDEO120 = {1: [], 2: [], 3: [], 4: [], 5: [], 6: []}\n",
    "GPUTSVOICE120 = {1: [], 2: [], 3: [], 4: [], 5: [], 6: []}\n",
    "FAIRVOICE120 = {1: [], 2: [], 3: [], 4: [], 5: [], 6: []}\n",
    "DELAYVOICE120 = {1: [], 2: [], 3: [], 4: [], 5: [], 6: []}\n",
    "JITTERVOICE120 = {1: [], 2: [], 3: [], 4: [], 5: [], 6: []}\n",
    "PACKETLOSS120 = {1: [], 2: [], 3: [], 4: [], 5: [], 6: []}\n",
    "for sched in GPUTSVIDEO:\n",
    "    for ue in range(20, 101, 10):\n",
    "        info = LTEParser.parse(files[sched][120][ue], 100)\n",
    "        GPUTSVIDEO120[sched].append(info[0])\n",
    "        FAIRVIDEO120[sched].append(info[1])\n",
    "        DELAYVIDEO120[sched].append(info[2])\n",
    "        JITTERVIDEO120[sched].append(info[3])\n",
    "        GPUTSVOICE120[sched].append(info[4])\n",
    "        FAIRVOICE120[sched].append(info[5])\n",
    "        DELAYVOICE120[sched].append(info[6])\n",
    "        JITTERVOICE120[sched].append(info[7])\n",
    "        PACKETLOSS120[sched].append(info[8])\n",
    "    GPUTSVIDEO120[sched] = np.array(GPUTSVIDEO120[sched], dtype=np.float32)\n",
    "    FAIRVIDEO120[sched] = np.array(FAIRVIDEO120[sched], dtype=np.float32)\n",
    "    DELAYVIDEO120[sched] = np.array(DELAYVIDEO120[sched], dtype = np.float32)\n",
    "    JITTERVIDEO120[sched] = np.array(JITTERVIDEO120[sched], dtype = np.float32)\n",
    "    GPUTSVOICE120[sched] = np.array(GPUTSVOICE120[sched], dtype=np.float32)\n",
    "    FAIRVOICE120[sched] = np.array(FAIRVOICE120[sched], dtype=np.float32)\n",
    "    DELAYVOICE120[sched] = np.array(DELAYVOICE120[sched], dtype = np.float32)\n",
    "    JITTERVOICE120[sched] = np.array(JITTERVOICE120[sched], dtype = np.float32)\n",
    "    PACKETLOSS120[sched] = np.array(PACKETLOSS120[sched], dtype=np.float32)"
   ]
  },
  {
   "cell_type": "markdown",
   "metadata": {},
   "source": [
    "# VIDEO GPUT MB/s"
   ]
  },
  {
   "cell_type": "code",
   "execution_count": null,
   "metadata": {
    "scrolled": true
   },
   "outputs": [],
   "source": [
    "MEGAVIDEO120 = {1: [], 2: [], 3: [], 4: [], 5: [], 6: []}\n",
    "for sched in GPUTSVIDEO120:\n",
    "    MEGAVIDEO120[sched] = np.true_divide(GPUTSVIDEO120[sched], 8)\n",
    "MEGAVIDEO120"
   ]
  },
  {
   "cell_type": "code",
   "execution_count": null,
   "metadata": {
    "scrolled": true
   },
   "outputs": [],
   "source": [
    "dfGPUTVIDEO120 = pd.DataFrame({'PF': MEGAVIDEO120[1], 'MLWDF': MEGAVIDEO120[2], 'EXP': MEGAVIDEO120[3],\n",
    "                       'FLS': MEGAVIDEO120[4], 'EXPR': MEGAVIDEO120[5], 'LOGR': MEGAVIDEO120[6]},\n",
    "                      index=[20,30,40,50,60,70,80,90,100])\n",
    "plot = dfGPUTVIDEO120.plot.bar(rot=0)\n",
    "fig = plot.get_figure()\n",
    "fig.savefig(\"./pdfs/GPUTVideo120.pdf\", bbox_inches='tight')"
   ]
  },
  {
   "cell_type": "code",
   "execution_count": null,
   "metadata": {
    "scrolled": false
   },
   "outputs": [],
   "source": [
    "dfGPUTVIDEO120"
   ]
  },
  {
   "cell_type": "markdown",
   "metadata": {},
   "source": [
    "# Delay Jitter"
   ]
  },
  {
   "cell_type": "code",
   "execution_count": null,
   "metadata": {},
   "outputs": [],
   "source": [
    "dfDELAYVIDEO120 = pd.DataFrame({'PF': DELAYVIDEO120[1], 'MLWDF': DELAYVIDEO120[2], 'EXP': DELAYVIDEO120[3],\n",
    "                            'FLS': DELAYVIDEO120[4], 'EXPR': DELAYVIDEO120[5], 'LOGR': DELAYVIDEO120[6]},\n",
    "                           index=[20,30,40,50,60,70,80,90,100])\n",
    "plot = dfDELAYVIDEO120.plot.bar(rot=0)\n",
    "fig = plot.get_figure()\n",
    "fig.savefig(\"./pdfs/DelayVideoPF120.pdf\", bbox_inches='tight')"
   ]
  },
  {
   "cell_type": "code",
   "execution_count": null,
   "metadata": {},
   "outputs": [],
   "source": [
    "dfDELAYVIDEO120 = pd.DataFrame({'MLWDF': DELAYVIDEO120[2], 'EXP': DELAYVIDEO120[3],\n",
    "                            'FLS': DELAYVIDEO120[4], 'EXPR': DELAYVIDEO120[5], 'LOGR': DELAYVIDEO120[6]},\n",
    "                           index=[20,30,40,50,60,70,80,90,100])\n",
    "plot = dfDELAYVIDEO120.plot.bar(rot=0)\n",
    "fig = plot.get_figure()\n",
    "fig.savefig(\"./pdfs/DelayVideo120.pdf\", bbox_inches='tight')"
   ]
  },
  {
   "cell_type": "code",
   "execution_count": null,
   "metadata": {},
   "outputs": [],
   "source": [
    "dfJITTERVIDEO120 = pd.DataFrame({'PF': JITTERVIDEO120[1], 'MLWDF': JITTERVIDEO120[2], 'EXP': JITTERVIDEO120[3],\n",
    "                            'FLS': JITTERVIDEO120[4], 'EXPR': JITTERVIDEO120[5], 'LOGR': JITTERVIDEO120[6]},\n",
    "                           index=[20,30,40,50,60,70,80,90,100])\n",
    "plot = dfJITTERVIDEO120.plot.bar(rot=0)\n",
    "fig = plot.get_figure()\n",
    "fig.savefig(\"./pdfs/JitterVideoPF120.pdf\", bbox_inches='tight')"
   ]
  },
  {
   "cell_type": "code",
   "execution_count": null,
   "metadata": {
    "scrolled": true
   },
   "outputs": [],
   "source": [
    "dfJITTERVIDEO120 = pd.DataFrame({'MLWDF': JITTERVIDEO120[2], 'EXP': JITTERVIDEO120[3],\n",
    "                            'FLS': JITTERVIDEO120[4], 'EXPR': JITTERVIDEO120[5], 'LOGR': JITTERVIDEO120[6]},\n",
    "                           index=[20,30,40,50,60,70,80,90,100])\n",
    "plot = dfJITTERVIDEO120.plot.bar(rot=0)\n",
    "fig = plot.get_figure()\n",
    "fig.savefig(\"./pdfs/JitterVideo120.pdf\", bbox_inches='tight')"
   ]
  },
  {
   "cell_type": "markdown",
   "metadata": {},
   "source": [
    "# VIDEO FAIRNESS"
   ]
  },
  {
   "cell_type": "code",
   "execution_count": null,
   "metadata": {
    "scrolled": true
   },
   "outputs": [],
   "source": [
    "dfFAIRVIDEO120 = pd.DataFrame({'PF': FAIRVIDEO120[1], 'MLWDF': FAIRVIDEO120[2], 'EXP': FAIRVIDEO120[3],\n",
    "                            'FLS': FAIRVIDEO120[4], 'EXPR': FAIRVIDEO120[5], 'LOGR': FAIRVIDEO120[6]},\n",
    "                           index=[20,30,40,50,60,70,80,90,100])\n",
    "plot = dfFAIRVIDEO120.plot.bar(rot=0)\n",
    "fig = plot.get_figure()\n",
    "fig.savefig(\"./pdfs/FairnessVideo120.pdf\", bbox_inches='tight')"
   ]
  },
  {
   "cell_type": "code",
   "execution_count": null,
   "metadata": {
    "scrolled": true
   },
   "outputs": [],
   "source": [
    "dfFAIRVIDEO120"
   ]
  },
  {
   "cell_type": "markdown",
   "metadata": {},
   "source": [
    "# VOIP GPUT MB/s"
   ]
  },
  {
   "cell_type": "code",
   "execution_count": null,
   "metadata": {
    "scrolled": true
   },
   "outputs": [],
   "source": [
    "MEGAVOIP120 = {1: [], 2: [], 3: [], 4: [], 5: [], 6: []}\n",
    "for sched in GPUTSVOICE120:\n",
    "    MEGAVOIP120[sched] = np.true_divide(GPUTSVOICE120[sched], 8)\n",
    "MEGAVOIP120"
   ]
  },
  {
   "cell_type": "code",
   "execution_count": null,
   "metadata": {
    "scrolled": true
   },
   "outputs": [],
   "source": [
    "dfGPUTVOICE120 = pd.DataFrame({'PF': MEGAVOIP120[1], 'MLWDF': MEGAVOIP120[2], 'EXP': MEGAVOIP120[3],\n",
    "                       'FLS': MEGAVOIP120[4], 'EXPR': MEGAVOIP120[5], 'LOGR': MEGAVOIP120[6]},\n",
    "                      index=[20,30,40,50,60,70,80,90,100])\n",
    "plot = dfGPUTVOICE120.plot.bar(rot=0)\n",
    "fig = plot.get_figure()\n",
    "fig.savefig(\"./pdfs/GPUTVoIP120.pdf\", bbox_inches='tight')"
   ]
  },
  {
   "cell_type": "code",
   "execution_count": null,
   "metadata": {
    "scrolled": true
   },
   "outputs": [],
   "source": [
    "dfGPUTVOICE120"
   ]
  },
  {
   "cell_type": "markdown",
   "metadata": {},
   "source": [
    "# Delay Jitter"
   ]
  },
  {
   "cell_type": "code",
   "execution_count": null,
   "metadata": {},
   "outputs": [],
   "source": [
    "dfDELAYVOICE120 = pd.DataFrame({'PF': DELAYVOICE120[1], 'MLWDF': DELAYVOICE120[2], 'EXP': DELAYVOICE120[3],\n",
    "                            'FLS': DELAYVOICE120[4], 'EXPR': DELAYVOICE120[5], 'LOGR': DELAYVOICE120[6]},\n",
    "                           index=[20,30,40,50,60,70,80,90,100])\n",
    "plot = dfDELAYVOICE120.plot.bar(rot=0)\n",
    "fig = plot.get_figure()\n",
    "fig.savefig(\"./pdfs/DelayVoIPPF120.pdf\", bbox_inches='tight')"
   ]
  },
  {
   "cell_type": "code",
   "execution_count": null,
   "metadata": {},
   "outputs": [],
   "source": [
    "dfDELAYVOICE120 = pd.DataFrame({'MLWDF': DELAYVOICE120[2], 'EXP': DELAYVOICE120[3],\n",
    "                            'FLS': DELAYVOICE120[4], 'EXPR': DELAYVOICE120[5], 'LOGR': DELAYVOICE120[6]},\n",
    "                           index=[20,30,40,50,60,70,80,90,100])\n",
    "plot = dfDELAYVOICE120.plot.bar(rot=0)\n",
    "fig = plot.get_figure()\n",
    "fig.savefig(\"./pdfs/DelayVoIP120.pdf\", bbox_inches='tight')"
   ]
  },
  {
   "cell_type": "code",
   "execution_count": null,
   "metadata": {},
   "outputs": [],
   "source": [
    "dfJITTERVOICE120 = pd.DataFrame({'PF': JITTERVOICE120[1], 'MLWDF': JITTERVOICE120[2], 'EXP': JITTERVOICE120[3],\n",
    "                            'FLS': JITTERVOICE120[4], 'EXPR': JITTERVOICE120[5], 'LOGR': JITTERVOICE120[6]},\n",
    "                           index=[20,30,40,50,60,70,80,90,100])\n",
    "plot = dfJITTERVOICE120.plot.bar(rot=0)\n",
    "fig = plot.get_figure()\n",
    "fig.savefig(\"./pdfs/JitterVoIPPF120.pdf\", bbox_inches='tight')"
   ]
  },
  {
   "cell_type": "code",
   "execution_count": null,
   "metadata": {
    "scrolled": true
   },
   "outputs": [],
   "source": [
    "dfJITTERVOICE120 = pd.DataFrame({'MLWDF': JITTERVOICE120[2], 'EXP': JITTERVOICE120[3],\n",
    "                            'FLS': JITTERVOICE120[4], 'EXPR': JITTERVOICE120[5], 'LOGR': JITTERVOICE120[6]},\n",
    "                           index=[20,30,40,50,60,70,80,90,100])\n",
    "plot = dfJITTERVOICE120.plot.bar(rot=0)\n",
    "fig = plot.get_figure()\n",
    "fig.savefig(\"./pdfs/JitterVoIP120.pdf\", bbox_inches='tight')"
   ]
  },
  {
   "cell_type": "markdown",
   "metadata": {},
   "source": [
    "# Loss Ratio"
   ]
  },
  {
   "cell_type": "code",
   "execution_count": null,
   "metadata": {},
   "outputs": [],
   "source": [
    "averagePacketLoss120 = {}\n",
    "for key in PACKETLOSS120:\n",
    "    averagePacketLoss120[key] = []\n",
    "    for i in range(0, 9):\n",
    "        average = sum(PACKETLOSS120[key][i])/len(PACKETLOSS120[key][i])         \n",
    "        averagePacketLoss120[key].append(average)"
   ]
  },
  {
   "cell_type": "code",
   "execution_count": null,
   "metadata": {
    "scrolled": true
   },
   "outputs": [],
   "source": [
    "dfLossRatio120 = pd.DataFrame({'PF': averagePacketLoss120[1], 'MLWDF': averagePacketLoss120[2], 'EXP': averagePacketLoss120[3],\n",
    "                            'FLS': averagePacketLoss120[4], 'EXPR': averagePacketLoss120[5], 'LOGR': averagePacketLoss120[6]},\n",
    "                           index=[20,30,40,50,60,70,80,90,100])\n",
    "plot = dfLossRatio120.plot.bar(rot=0)\n",
    "fig = plot.get_figure()\n",
    "fig.savefig(\"./pdfs/PacketLossRatio120.pdf\", bbox_inches='tight')"
   ]
  },
  {
   "cell_type": "code",
   "execution_count": null,
   "metadata": {
    "scrolled": false
   },
   "outputs": [],
   "source": [
    "dfLossRatio120"
   ]
  }
 ],
 "metadata": {
  "kernelspec": {
   "display_name": "Python 3",
   "language": "python",
   "name": "python3"
  },
  "language_info": {
   "codemirror_mode": {
    "name": "ipython",
    "version": 3
   },
   "file_extension": ".py",
   "mimetype": "text/x-python",
   "name": "python",
   "nbconvert_exporter": "python",
   "pygments_lexer": "ipython3",
   "version": "3.7.3"
  }
 },
 "nbformat": 4,
 "nbformat_minor": 2
}
